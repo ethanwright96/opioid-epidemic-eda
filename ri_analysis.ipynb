{
 "cells": [
  {
   "cell_type": "code",
   "execution_count": null,
   "metadata": {},
   "outputs": [],
   "source": [
    "import pandas as pd\n",
    "filename = \"RI Multiple Cause of Death, 1999-2020 (State, County, 5-Yr Age Groups, Gender, Race).txt\"\n",
    "df = pd.read_csv(filename, sep='\\t', lineterminator='\\r')\n",
    "df.head()"
   ]
  }
 ],
 "metadata": {
  "language_info": {
   "name": "python"
  },
  "orig_nbformat": 4
 },
 "nbformat": 4,
 "nbformat_minor": 2
}
