{
 "cells": [
  {
   "cell_type": "code",
   "execution_count": 1,
   "id": "393f4ac8-7cfb-4285-b84c-33fa58b821f3",
   "metadata": {},
   "outputs": [],
   "source": [
    "# Dependencies and Setup\n",
    "import numpy as np\n",
    "import matplotlib.pyplot as plt\n",
    "import pandas as pd\n",
    "import scipy.stats as st\n",
    "import plotly.graph_objects as go"
   ]
  },
  {
   "cell_type": "code",
   "execution_count": 2,
   "id": "936b95a4-d594-4f73-979d-f87f51ae4ddc",
   "metadata": {},
   "outputs": [
    {
     "data": {
      "text/html": [
       "<div>\n",
       "<style scoped>\n",
       "    .dataframe tbody tr th:only-of-type {\n",
       "        vertical-align: middle;\n",
       "    }\n",
       "\n",
       "    .dataframe tbody tr th {\n",
       "        vertical-align: top;\n",
       "    }\n",
       "\n",
       "    .dataframe thead th {\n",
       "        text-align: right;\n",
       "    }\n",
       "</style>\n",
       "<table border=\"1\" class=\"dataframe\">\n",
       "  <thead>\n",
       "    <tr style=\"text-align: right;\">\n",
       "      <th></th>\n",
       "      <th>G_STATEFP</th>\n",
       "      <th>STATEFP</th>\n",
       "      <th>st_abb</th>\n",
       "      <th>st_name</th>\n",
       "      <th>opPrscRt19</th>\n",
       "      <th>prMisuse19</th>\n",
       "      <th>odMortRt14</th>\n",
       "      <th>odMortRt15</th>\n",
       "      <th>odMortRt16</th>\n",
       "      <th>odMortRt17</th>\n",
       "      <th>odMortRt18</th>\n",
       "      <th>odMortRt19</th>\n",
       "      <th>odMortRtAv</th>\n",
       "    </tr>\n",
       "  </thead>\n",
       "  <tbody>\n",
       "    <tr>\n",
       "      <th>0</th>\n",
       "      <td>G01</td>\n",
       "      <td>1</td>\n",
       "      <td>AL</td>\n",
       "      <td>Alabama</td>\n",
       "      <td>39.1</td>\n",
       "      <td>4.55</td>\n",
       "      <td>15.2</td>\n",
       "      <td>15.7</td>\n",
       "      <td>16.2</td>\n",
       "      <td>18.0</td>\n",
       "      <td>16.6</td>\n",
       "      <td>16.3</td>\n",
       "      <td>16.33</td>\n",
       "    </tr>\n",
       "    <tr>\n",
       "      <th>1</th>\n",
       "      <td>G02</td>\n",
       "      <td>2</td>\n",
       "      <td>AK</td>\n",
       "      <td>Alaska</td>\n",
       "      <td>85.8</td>\n",
       "      <td>3.99</td>\n",
       "      <td>16.8</td>\n",
       "      <td>16.0</td>\n",
       "      <td>16.8</td>\n",
       "      <td>20.2</td>\n",
       "      <td>14.6</td>\n",
       "      <td>17.8</td>\n",
       "      <td>17.03</td>\n",
       "    </tr>\n",
       "    <tr>\n",
       "      <th>2</th>\n",
       "      <td>G04</td>\n",
       "      <td>4</td>\n",
       "      <td>AZ</td>\n",
       "      <td>Arizona</td>\n",
       "      <td>80.9</td>\n",
       "      <td>3.80</td>\n",
       "      <td>18.2</td>\n",
       "      <td>19.0</td>\n",
       "      <td>20.3</td>\n",
       "      <td>22.2</td>\n",
       "      <td>23.8</td>\n",
       "      <td>26.8</td>\n",
       "      <td>21.72</td>\n",
       "    </tr>\n",
       "    <tr>\n",
       "      <th>3</th>\n",
       "      <td>G05</td>\n",
       "      <td>5</td>\n",
       "      <td>AR</td>\n",
       "      <td>Arkansas</td>\n",
       "      <td>44.1</td>\n",
       "      <td>3.66</td>\n",
       "      <td>12.6</td>\n",
       "      <td>13.8</td>\n",
       "      <td>14.0</td>\n",
       "      <td>15.5</td>\n",
       "      <td>15.7</td>\n",
       "      <td>13.5</td>\n",
       "      <td>14.18</td>\n",
       "    </tr>\n",
       "    <tr>\n",
       "      <th>4</th>\n",
       "      <td>G06</td>\n",
       "      <td>6</td>\n",
       "      <td>CA</td>\n",
       "      <td>California</td>\n",
       "      <td>30.9</td>\n",
       "      <td>3.60</td>\n",
       "      <td>11.1</td>\n",
       "      <td>11.3</td>\n",
       "      <td>11.2</td>\n",
       "      <td>11.7</td>\n",
       "      <td>12.8</td>\n",
       "      <td>15.0</td>\n",
       "      <td>12.18</td>\n",
       "    </tr>\n",
       "    <tr>\n",
       "      <th>5</th>\n",
       "      <td>G08</td>\n",
       "      <td>8</td>\n",
       "      <td>CO</td>\n",
       "      <td>Colorado</td>\n",
       "      <td>40.0</td>\n",
       "      <td>3.94</td>\n",
       "      <td>16.3</td>\n",
       "      <td>15.4</td>\n",
       "      <td>16.6</td>\n",
       "      <td>17.6</td>\n",
       "      <td>16.8</td>\n",
       "      <td>18.0</td>\n",
       "      <td>16.78</td>\n",
       "    </tr>\n",
       "    <tr>\n",
       "      <th>6</th>\n",
       "      <td>G09</td>\n",
       "      <td>9</td>\n",
       "      <td>CT</td>\n",
       "      <td>Connecticut</td>\n",
       "      <td>40.5</td>\n",
       "      <td>3.31</td>\n",
       "      <td>17.6</td>\n",
       "      <td>22.1</td>\n",
       "      <td>27.4</td>\n",
       "      <td>30.9</td>\n",
       "      <td>30.7</td>\n",
       "      <td>34.7</td>\n",
       "      <td>27.23</td>\n",
       "    </tr>\n",
       "    <tr>\n",
       "      <th>7</th>\n",
       "      <td>G10</td>\n",
       "      <td>10</td>\n",
       "      <td>DE</td>\n",
       "      <td>Delaware</td>\n",
       "      <td>39.9</td>\n",
       "      <td>3.45</td>\n",
       "      <td>20.9</td>\n",
       "      <td>22.0</td>\n",
       "      <td>30.8</td>\n",
       "      <td>37.0</td>\n",
       "      <td>43.8</td>\n",
       "      <td>48.0</td>\n",
       "      <td>33.75</td>\n",
       "    </tr>\n",
       "    <tr>\n",
       "      <th>8</th>\n",
       "      <td>G11</td>\n",
       "      <td>11</td>\n",
       "      <td>DC</td>\n",
       "      <td>Washington, D.C.</td>\n",
       "      <td>51.6</td>\n",
       "      <td>4.16</td>\n",
       "      <td>19.4</td>\n",
       "      <td>14.7</td>\n",
       "      <td>14.5</td>\n",
       "      <td>15.2</td>\n",
       "      <td>22.8</td>\n",
       "      <td>43.2</td>\n",
       "      <td>21.63</td>\n",
       "    </tr>\n",
       "    <tr>\n",
       "      <th>9</th>\n",
       "      <td>G12</td>\n",
       "      <td>12</td>\n",
       "      <td>FL</td>\n",
       "      <td>Florida</td>\n",
       "      <td>45.4</td>\n",
       "      <td>3.69</td>\n",
       "      <td>13.2</td>\n",
       "      <td>16.2</td>\n",
       "      <td>23.7</td>\n",
       "      <td>25.1</td>\n",
       "      <td>13.2</td>\n",
       "      <td>25.5</td>\n",
       "      <td>19.48</td>\n",
       "    </tr>\n",
       "  </tbody>\n",
       "</table>\n",
       "</div>"
      ],
      "text/plain": [
       "  G_STATEFP  STATEFP st_abb           st_name  opPrscRt19  prMisuse19  \\\n",
       "0       G01        1     AL           Alabama        39.1        4.55   \n",
       "1       G02        2     AK            Alaska        85.8        3.99   \n",
       "2       G04        4     AZ           Arizona        80.9        3.80   \n",
       "3       G05        5     AR          Arkansas        44.1        3.66   \n",
       "4       G06        6     CA        California        30.9        3.60   \n",
       "5       G08        8     CO          Colorado        40.0        3.94   \n",
       "6       G09        9     CT       Connecticut        40.5        3.31   \n",
       "7       G10       10     DE          Delaware        39.9        3.45   \n",
       "8       G11       11     DC  Washington, D.C.        51.6        4.16   \n",
       "9       G12       12     FL           Florida        45.4        3.69   \n",
       "\n",
       "   odMortRt14  odMortRt15  odMortRt16  odMortRt17  odMortRt18  odMortRt19  \\\n",
       "0        15.2        15.7        16.2        18.0        16.6        16.3   \n",
       "1        16.8        16.0        16.8        20.2        14.6        17.8   \n",
       "2        18.2        19.0        20.3        22.2        23.8        26.8   \n",
       "3        12.6        13.8        14.0        15.5        15.7        13.5   \n",
       "4        11.1        11.3        11.2        11.7        12.8        15.0   \n",
       "5        16.3        15.4        16.6        17.6        16.8        18.0   \n",
       "6        17.6        22.1        27.4        30.9        30.7        34.7   \n",
       "7        20.9        22.0        30.8        37.0        43.8        48.0   \n",
       "8        19.4        14.7        14.5        15.2        22.8        43.2   \n",
       "9        13.2        16.2        23.7        25.1        13.2        25.5   \n",
       "\n",
       "   odMortRtAv  \n",
       "0       16.33  \n",
       "1       17.03  \n",
       "2       21.72  \n",
       "3       14.18  \n",
       "4       12.18  \n",
       "5       16.78  \n",
       "6       27.23  \n",
       "7       33.75  \n",
       "8       21.63  \n",
       "9       19.48  "
      ]
     },
     "execution_count": 2,
     "metadata": {},
     "output_type": "execute_result"
    }
   ],
   "source": [
    "health04_S_file_path = \"Resources/Health04/Health04_S.csv\"\n",
    "\n",
    "data = pd.read_csv(health04_S_file_path)\n",
    "\n",
    "data.head(10)"
   ]
  },
  {
   "cell_type": "code",
   "execution_count": 3,
   "id": "5f7ceb08-91d9-40a1-b7cc-1fe7ec291bce",
   "metadata": {},
   "outputs": [
    {
     "data": {
      "text/plain": [
       "G_STATEFP      object\n",
       "STATEFP         int64\n",
       "st_abb         object\n",
       "st_name        object\n",
       "opPrscRt19    float64\n",
       "prMisuse19    float64\n",
       "odMortRt14    float64\n",
       "odMortRt15    float64\n",
       "odMortRt16    float64\n",
       "odMortRt17    float64\n",
       "odMortRt18    float64\n",
       "odMortRt19    float64\n",
       "odMortRtAv    float64\n",
       "dtype: object"
      ]
     },
     "execution_count": 3,
     "metadata": {},
     "output_type": "execute_result"
    }
   ],
   "source": [
    "df = pd.DataFrame(data)\n",
    "df.dtypes"
   ]
  },
  {
   "cell_type": "markdown",
   "id": "ad58abee-0b73-4f57-9d4e-ba558ef07d8a",
   "metadata": {},
   "source": [
    "### Create historgram to visualize distribution of odMortRtAv"
   ]
  },
  {
   "cell_type": "code",
   "execution_count": 4,
   "id": "a06d1e59-3ef0-4527-b4d1-9e2ac2d6e7b1",
   "metadata": {},
   "outputs": [
    {
     "data": {
      "image/png": "[encoded data removed]",
      "text/plain": [
       "<Figure size 640x480 with 1 Axes>"
      ]
     },
     "metadata": {},
     "output_type": "display_data"
    }
   ],
   "source": [
    "plt.hist(df['odMortRtAv'], bins=12, histtype='bar')\n",
    "plt.show()"
   ]
  },
  {
   "cell_type": "code",
   "execution_count": 5,
   "id": "fd9dac1c-425d-4b81-9fff-15b58e89d7cd",
   "metadata": {},
   "outputs": [
    {
     "data": {
      "text/plain": [
       "count    51.000000\n",
       "mean     20.402353\n",
       "std       7.617755\n",
       "min       9.750000\n",
       "25%      15.200000\n",
       "50%      18.570000\n",
       "75%      23.360000\n",
       "max      48.520000\n",
       "Name: odMortRtAv, dtype: float64"
      ]
     },
     "execution_count": 5,
     "metadata": {},
     "output_type": "execute_result"
    }
   ],
   "source": [
    "odMortRtAv = df['odMortRtAv']\n",
    "odMortRtAv.describe()"
   ]
  },
  {
   "cell_type": "code",
   "execution_count": 6,
   "id": "162fdc3b-98d0-41ef-910f-03f49c793280",
   "metadata": {},
   "outputs": [
    {
     "name": "stdout",
     "output_type": "stream",
     "text": [
      "0.25    15.20\n",
      "0.50    18.57\n",
      "0.75    23.36\n",
      "Name: odMortRtAv, dtype: float64\n"
     ]
    }
   ],
   "source": [
    "quartiles = odMortRtAv.quantile([.25,.5,.75]).round(2)\n",
    "print(quartiles)"
   ]
  },
  {
   "cell_type": "code",
   "execution_count": 7,
   "id": "7df88001-966c-4ca9-ba0b-6895289505bd",
   "metadata": {},
   "outputs": [
    {
     "data": {
      "text/plain": [
       "23.36"
      ]
     },
     "execution_count": 7,
     "metadata": {},
     "output_type": "execute_result"
    }
   ],
   "source": [
    "upper_quartile = quartiles.iloc[2]\n",
    "upper_quartile"
   ]
  },
  {
   "cell_type": "markdown",
   "id": "dd8fad3c-0f82-44ef-a81a-1147374fbd3d",
   "metadata": {},
   "source": [
    "### Sort df by AvMortRt in descending order"
   ]
  },
  {
   "cell_type": "code",
   "execution_count": 8,
   "id": "e1950446-31a3-4831-a61c-fc877e7f857a",
   "metadata": {},
   "outputs": [
    {
     "data": {
      "text/html": [
       "<div>\n",
       "<style scoped>\n",
       "    .dataframe tbody tr th:only-of-type {\n",
       "        vertical-align: middle;\n",
       "    }\n",
       "\n",
       "    .dataframe tbody tr th {\n",
       "        vertical-align: top;\n",
       "    }\n",
       "\n",
       "    .dataframe thead th {\n",
       "        text-align: right;\n",
       "    }\n",
       "</style>\n",
       "<table border=\"1\" class=\"dataframe\">\n",
       "  <thead>\n",
       "    <tr style=\"text-align: right;\">\n",
       "      <th></th>\n",
       "      <th>G_STATEFP</th>\n",
       "      <th>STATEFP</th>\n",
       "      <th>st_abb</th>\n",
       "      <th>st_name</th>\n",
       "      <th>opPrscRt19</th>\n",
       "      <th>prMisuse19</th>\n",
       "      <th>odMortRt14</th>\n",
       "      <th>odMortRt15</th>\n",
       "      <th>odMortRt16</th>\n",
       "      <th>odMortRt17</th>\n",
       "      <th>odMortRt18</th>\n",
       "      <th>odMortRt19</th>\n",
       "      <th>odMortRtAv</th>\n",
       "    </tr>\n",
       "  </thead>\n",
       "  <tbody>\n",
       "    <tr>\n",
       "      <th>48</th>\n",
       "      <td>G54</td>\n",
       "      <td>54</td>\n",
       "      <td>WV</td>\n",
       "      <td>West Virginia</td>\n",
       "      <td>42.5</td>\n",
       "      <td>3.22</td>\n",
       "      <td>35.5</td>\n",
       "      <td>41.5</td>\n",
       "      <td>52.0</td>\n",
       "      <td>57.8</td>\n",
       "      <td>51.5</td>\n",
       "      <td>52.8</td>\n",
       "      <td>48.52</td>\n",
       "    </tr>\n",
       "    <tr>\n",
       "      <th>7</th>\n",
       "      <td>G10</td>\n",
       "      <td>10</td>\n",
       "      <td>DE</td>\n",
       "      <td>Delaware</td>\n",
       "      <td>39.9</td>\n",
       "      <td>3.45</td>\n",
       "      <td>20.9</td>\n",
       "      <td>22.0</td>\n",
       "      <td>30.8</td>\n",
       "      <td>37.0</td>\n",
       "      <td>43.8</td>\n",
       "      <td>48.0</td>\n",
       "      <td>33.75</td>\n",
       "    </tr>\n",
       "    <tr>\n",
       "      <th>29</th>\n",
       "      <td>G33</td>\n",
       "      <td>33</td>\n",
       "      <td>NH</td>\n",
       "      <td>New Hampshire</td>\n",
       "      <td>50.3</td>\n",
       "      <td>3.38</td>\n",
       "      <td>26.2</td>\n",
       "      <td>34.3</td>\n",
       "      <td>39.0</td>\n",
       "      <td>37.0</td>\n",
       "      <td>33.1</td>\n",
       "      <td>32.0</td>\n",
       "      <td>33.60</td>\n",
       "    </tr>\n",
       "    <tr>\n",
       "      <th>35</th>\n",
       "      <td>G39</td>\n",
       "      <td>39</td>\n",
       "      <td>OH</td>\n",
       "      <td>Ohio</td>\n",
       "      <td>50.8</td>\n",
       "      <td>3.95</td>\n",
       "      <td>24.6</td>\n",
       "      <td>29.9</td>\n",
       "      <td>39.1</td>\n",
       "      <td>46.3</td>\n",
       "      <td>18.4</td>\n",
       "      <td>38.3</td>\n",
       "      <td>32.77</td>\n",
       "    </tr>\n",
       "    <tr>\n",
       "      <th>38</th>\n",
       "      <td>G42</td>\n",
       "      <td>42</td>\n",
       "      <td>PA</td>\n",
       "      <td>Pennsylvania</td>\n",
       "      <td>47.0</td>\n",
       "      <td>3.17</td>\n",
       "      <td>21.9</td>\n",
       "      <td>26.3</td>\n",
       "      <td>37.9</td>\n",
       "      <td>44.3</td>\n",
       "      <td>30.1</td>\n",
       "      <td>35.6</td>\n",
       "      <td>32.68</td>\n",
       "    </tr>\n",
       "    <tr>\n",
       "      <th>17</th>\n",
       "      <td>G21</td>\n",
       "      <td>21</td>\n",
       "      <td>KY</td>\n",
       "      <td>Kentucky</td>\n",
       "      <td>72.3</td>\n",
       "      <td>4.14</td>\n",
       "      <td>24.7</td>\n",
       "      <td>29.9</td>\n",
       "      <td>33.5</td>\n",
       "      <td>37.2</td>\n",
       "      <td>25.4</td>\n",
       "      <td>32.5</td>\n",
       "      <td>30.53</td>\n",
       "    </tr>\n",
       "    <tr>\n",
       "      <th>20</th>\n",
       "      <td>G24</td>\n",
       "      <td>24</td>\n",
       "      <td>MD</td>\n",
       "      <td>Maryland</td>\n",
       "      <td>42.3</td>\n",
       "      <td>3.45</td>\n",
       "      <td>17.4</td>\n",
       "      <td>20.9</td>\n",
       "      <td>33.2</td>\n",
       "      <td>36.3</td>\n",
       "      <td>32.8</td>\n",
       "      <td>38.2</td>\n",
       "      <td>29.80</td>\n",
       "    </tr>\n",
       "    <tr>\n",
       "      <th>21</th>\n",
       "      <td>G25</td>\n",
       "      <td>25</td>\n",
       "      <td>MA</td>\n",
       "      <td>Massachusetts</td>\n",
       "      <td>44.1</td>\n",
       "      <td>3.24</td>\n",
       "      <td>19.0</td>\n",
       "      <td>25.7</td>\n",
       "      <td>33.0</td>\n",
       "      <td>31.8</td>\n",
       "      <td>26.6</td>\n",
       "      <td>32.1</td>\n",
       "      <td>28.03</td>\n",
       "    </tr>\n",
       "    <tr>\n",
       "      <th>19</th>\n",
       "      <td>G23</td>\n",
       "      <td>23</td>\n",
       "      <td>ME</td>\n",
       "      <td>Maine</td>\n",
       "      <td>35.4</td>\n",
       "      <td>3.27</td>\n",
       "      <td>16.8</td>\n",
       "      <td>21.2</td>\n",
       "      <td>28.7</td>\n",
       "      <td>34.4</td>\n",
       "      <td>37.2</td>\n",
       "      <td>29.9</td>\n",
       "      <td>28.03</td>\n",
       "    </tr>\n",
       "    <tr>\n",
       "      <th>39</th>\n",
       "      <td>G44</td>\n",
       "      <td>44</td>\n",
       "      <td>RI</td>\n",
       "      <td>Rhode Island</td>\n",
       "      <td>40.3</td>\n",
       "      <td>3.33</td>\n",
       "      <td>23.4</td>\n",
       "      <td>28.2</td>\n",
       "      <td>30.8</td>\n",
       "      <td>31.0</td>\n",
       "      <td>22.6</td>\n",
       "      <td>29.5</td>\n",
       "      <td>27.58</td>\n",
       "    </tr>\n",
       "  </tbody>\n",
       "</table>\n",
       "</div>"
      ],
      "text/plain": [
       "   G_STATEFP  STATEFP st_abb        st_name  opPrscRt19  prMisuse19  \\\n",
       "48       G54       54     WV  West Virginia        42.5        3.22   \n",
       "7        G10       10     DE       Delaware        39.9        3.45   \n",
       "29       G33       33     NH  New Hampshire        50.3        3.38   \n",
       "35       G39       39     OH           Ohio        50.8        3.95   \n",
       "38       G42       42     PA   Pennsylvania        47.0        3.17   \n",
       "17       G21       21     KY       Kentucky        72.3        4.14   \n",
       "20       G24       24     MD       Maryland        42.3        3.45   \n",
       "21       G25       25     MA  Massachusetts        44.1        3.24   \n",
       "19       G23       23     ME          Maine        35.4        3.27   \n",
       "39       G44       44     RI   Rhode Island        40.3        3.33   \n",
       "\n",
       "    odMortRt14  odMortRt15  odMortRt16  odMortRt17  odMortRt18  odMortRt19  \\\n",
       "48        35.5        41.5        52.0        57.8        51.5        52.8   \n",
       "7         20.9        22.0        30.8        37.0        43.8        48.0   \n",
       "29        26.2        34.3        39.0        37.0        33.1        32.0   \n",
       "35        24.6        29.9        39.1        46.3        18.4        38.3   \n",
       "38        21.9        26.3        37.9        44.3        30.1        35.6   \n",
       "17        24.7        29.9        33.5        37.2        25.4        32.5   \n",
       "20        17.4        20.9        33.2        36.3        32.8        38.2   \n",
       "21        19.0        25.7        33.0        31.8        26.6        32.1   \n",
       "19        16.8        21.2        28.7        34.4        37.2        29.9   \n",
       "39        23.4        28.2        30.8        31.0        22.6        29.5   \n",
       "\n",
       "    odMortRtAv  \n",
       "48       48.52  \n",
       "7        33.75  \n",
       "29       33.60  \n",
       "35       32.77  \n",
       "38       32.68  \n",
       "17       30.53  \n",
       "20       29.80  \n",
       "21       28.03  \n",
       "19       28.03  \n",
       "39       27.58  "
      ]
     },
     "execution_count": 8,
     "metadata": {},
     "output_type": "execute_result"
    }
   ],
   "source": [
    "df_sort_descend = df.sort_values(by=['odMortRtAv'], ascending = False)\n",
    "df_sort_descend.head(10)"
   ]
  },
  {
   "cell_type": "code",
   "execution_count": 9,
   "id": "85633793-59a2-4dc8-9946-831b49bd3a09",
   "metadata": {},
   "outputs": [
    {
     "data": {
      "text/plain": [
       "51"
      ]
     },
     "execution_count": 9,
     "metadata": {},
     "output_type": "execute_result"
    }
   ],
   "source": [
    "len(df_sort_descend)"
   ]
  },
  {
   "cell_type": "code",
   "execution_count": 10,
   "id": "ee7d9757-72e4-4748-9a1e-1e49b6db5bfd",
   "metadata": {},
   "outputs": [
    {
     "data": {
      "text/plain": [
       "G_STATEFP          G31\n",
       "STATEFP             31\n",
       "st_abb              NE\n",
       "st_name       Nebraska\n",
       "opPrscRt19        56.7\n",
       "prMisuse19        3.31\n",
       "odMortRt14         7.2\n",
       "odMortRt15         6.9\n",
       "odMortRt16         6.4\n",
       "odMortRt17         8.1\n",
       "odMortRt18        21.2\n",
       "odMortRt19         8.7\n",
       "odMortRtAv        9.75\n",
       "Name: 27, dtype: object"
      ]
     },
     "execution_count": 10,
     "metadata": {},
     "output_type": "execute_result"
    }
   ],
   "source": [
    "df_sort_descend.iloc[df_sort_descend['st_name'].count()-1]"
   ]
  },
  {
   "cell_type": "markdown",
   "id": "510381a5-65cf-4f6c-8290-545845e61340",
   "metadata": {},
   "source": [
    "### Create bar plot to visualize all States and their respective AvMortRts"
   ]
  },
  {
   "cell_type": "code",
   "execution_count": 11,
   "id": "224369f7-0407-4d2b-ae07-1b4d54c782ca",
   "metadata": {
    "tags": []
   },
   "outputs": [
    {
     "data": {
      "image/png": "[encoded data removed]",
      "text/plain": [
       "<Figure size 1500x1000 with 1 Axes>"
      ]
     },
     "metadata": {},
     "output_type": "display_data"
    }
   ],
   "source": [
    "df_sort_descend.plot.bar(x='st_abb', y='odMortRtAv', title = \"Barplot of Average Opioid Mortality Rate (per 100,000) by U.S. State (2014-2019)\",\n",
    "                         xlabel = \"State\", ylabel = \"Average Opioid Mortality Rate (per 100,000)\",\n",
    "                        figsize = [15,10])\n",
    "plt.show()"
   ]
  },
  {
   "cell_type": "code",
   "execution_count": 25,
   "id": "07c84a01-fa53-42dd-babc-057117105635",
   "metadata": {},
   "outputs": [
    {
     "data": {
      "application/vnd.plotly.v1+json": {
       "config": {
        "plotlyServerURL": "https://plot.ly"
       },
       "data": [
        {
         "colorbar": {
          "title": {
           "text": "Average Rate per 100,000"
          }
         },
         "colorscale": [
          [
           0,
           "rgb(255,245,240)"
          ],
          [
           0.125,
           "rgb(254,224,210)"
          ],
          [
           0.25,
           "rgb(252,187,161)"
          ],
          [
           0.375,
           "rgb(252,146,114)"
          ],
          [
           0.5,
           "rgb(251,106,74)"
          ],
          [
           0.625,
           "rgb(239,59,44)"
          ],
          [
           0.75,
           "rgb(203,24,29)"
          ],
          [
           0.875,
           "rgb(165,15,21)"
          ],
          [
           1,
           "rgb(103,0,13)"
          ]
         ],
         "locationmode": "USA-states",
         "locations": [
          "WV",
          "DE",
          "NH",
          "OH",
          "PA",
          "KY",
          "MD",
          "MA",
          "ME",
          "RI",
          "CT",
          "NM",
          "NJ",
          "LA",
          "NV",
          "UT",
          "TN",
          "AZ",
          "DC",
          "IN",
          "MI",
          "MO",
          "VT",
          "FL",
          "IL",
          "WI",
          "OK",
          "WA",
          "NC",
          "NY",
          "AK",
          "CO",
          "OR",
          "SC",
          "AL",
          "ID",
          "VA",
          "KS",
          "WY",
          "MS",
          "AR",
          "ND",
          "GA",
          "HI",
          "CA",
          "TX",
          "MT",
          "SD",
          "MN",
          "IA",
          "NE"
         ],
         "type": "choropleth",
         "z": [
          48.52,
          33.75,
          33.6,
          32.77,
          32.68,
          30.53,
          29.8,
          28.03,
          28.03,
          27.58,
          27.23,
          25.2,
          23.65,
          23.07,
          23,
          22.67,
          22.4,
          21.72,
          21.63,
          21.22,
          21.08,
          20.37,
          19.48,
          19.48,
          19.2,
          18.57,
          18.37,
          18.15,
          17.65,
          17.15,
          17.03,
          16.78,
          16.53,
          16.38,
          16.33,
          15.65,
          15.3,
          15.27,
          15.13,
          14.88,
          14.18,
          13.67,
          13.33,
          13.22,
          12.18,
          11.95,
          11.85,
          11.85,
          11.83,
          10.85,
          9.75
         ]
        }
       ],
       "layout": {
        "autosize": true,
        "geo": {
         "scope": "usa"
        },
        "template": {
         "data": {
          "bar": [
           {
            "error_x": {
             "color": "#2a3f5f"
            },
            "error_y": {
             "color": "#2a3f5f"
            },
            "marker": {
             "line": {
              "color": "#E5ECF6",
              "width": 0.5
             },
             "pattern": {
              "fillmode": "overlay",
              "size": 10,
              "solidity": 0.2
             }
            },
            "type": "bar"
           }
          ],
          "barpolar": [
           {
            "marker": {
             "line": {
              "color": "#E5ECF6",
              "width": 0.5
             },
             "pattern": {
              "fillmode": "overlay",
              "size": 10,
              "solidity": 0.2
             }
            },
            "type": "barpolar"
           }
          ],
          "carpet": [
           {
            "aaxis": {
             "endlinecolor": "#2a3f5f",
             "gridcolor": "white",
             "linecolor": "white",
             "minorgridcolor": "white",
             "startlinecolor": "#2a3f5f"
            },
            "baxis": {
             "endlinecolor": "#2a3f5f",
             "gridcolor": "white",
             "linecolor": "white",
             "minorgridcolor": "white",
             "startlinecolor": "#2a3f5f"
            },
            "type": "carpet"
           }
          ],
          "choropleth": [
           {
            "colorbar": {
             "outlinewidth": 0,
             "ticks": ""
            },
            "type": "choropleth"
           }
          ],
          "contour": [
           {
            "colorbar": {
             "outlinewidth": 0,
             "ticks": ""
            },
            "colorscale": [
             [
              0,
              "#0d0887"
             ],
             [
              0.1111111111111111,
              "#46039f"
             ],
             [
              0.2222222222222222,
              "#7201a8"
             ],
             [
              0.3333333333333333,
              "#9c179e"
             ],
             [
              0.4444444444444444,
              "#bd3786"
             ],
             [
              0.5555555555555556,
              "#d8576b"
             ],
             [
              0.6666666666666666,
              "#ed7953"
             ],
             [
              0.7777777777777778,
              "#fb9f3a"
             ],
             [
              0.8888888888888888,
              "#fdca26"
             ],
             [
              1,
              "#f0f921"
             ]
            ],
            "type": "contour"
           }
          ],
          "contourcarpet": [
           {
            "colorbar": {
             "outlinewidth": 0,
             "ticks": ""
            },
            "type": "contourcarpet"
           }
          ],
          "heatmap": [
           {
            "colorbar": {
             "outlinewidth": 0,
             "ticks": ""
            },
            "colorscale": [
             [
              0,
              "#0d0887"
             ],
             [
              0.1111111111111111,
              "#46039f"
             ],
             [
              0.2222222222222222,
              "#7201a8"
             ],
             [
              0.3333333333333333,
              "#9c179e"
             ],
             [
              0.4444444444444444,
              "#bd3786"
             ],
             [
              0.5555555555555556,
              "#d8576b"
             ],
             [
              0.6666666666666666,
              "#ed7953"
             ],
             [
              0.7777777777777778,
              "#fb9f3a"
             ],
             [
              0.8888888888888888,
              "#fdca26"
             ],
             [
              1,
              "#f0f921"
             ]
            ],
            "type": "heatmap"
           }
          ],
          "heatmapgl": [
           {
            "colorbar": {
             "outlinewidth": 0,
             "ticks": ""
            },
            "colorscale": [
             [
              0,
              "#0d0887"
             ],
             [
              0.1111111111111111,
              "#46039f"
             ],
             [
              0.2222222222222222,
              "#7201a8"
             ],
             [
              0.3333333333333333,
              "#9c179e"
             ],
             [
              0.4444444444444444,
              "#bd3786"
             ],
             [
              0.5555555555555556,
              "#d8576b"
             ],
             [
              0.6666666666666666,
              "#ed7953"
             ],
             [
              0.7777777777777778,
              "#fb9f3a"
             ],
             [
              0.8888888888888888,
              "#fdca26"
             ],
             [
              1,
              "#f0f921"
             ]
            ],
            "type": "heatmapgl"
           }
          ],
          "histogram": [
           {
            "marker": {
             "pattern": {
              "fillmode": "overlay",
              "size": 10,
              "solidity": 0.2
             }
            },
            "type": "histogram"
           }
          ],
          "histogram2d": [
           {
            "colorbar": {
             "outlinewidth": 0,
             "ticks": ""
            },
            "colorscale": [
             [
              0,
              "#0d0887"
             ],
             [
              0.1111111111111111,
              "#46039f"
             ],
             [
              0.2222222222222222,
              "#7201a8"
             ],
             [
              0.3333333333333333,
              "#9c179e"
             ],
             [
              0.4444444444444444,
              "#bd3786"
             ],
             [
              0.5555555555555556,
              "#d8576b"
             ],
             [
              0.6666666666666666,
              "#ed7953"
             ],
             [
              0.7777777777777778,
              "#fb9f3a"
             ],
             [
              0.8888888888888888,
              "#fdca26"
             ],
             [
              1,
              "#f0f921"
             ]
            ],
            "type": "histogram2d"
           }
          ],
          "histogram2dcontour": [
           {
            "colorbar": {
             "outlinewidth": 0,
             "ticks": ""
            },
            "colorscale": [
             [
              0,
              "#0d0887"
             ],
             [
              0.1111111111111111,
              "#46039f"
             ],
             [
              0.2222222222222222,
              "#7201a8"
             ],
             [
              0.3333333333333333,
              "#9c179e"
             ],
             [
              0.4444444444444444,
              "#bd3786"
             ],
             [
              0.5555555555555556,
              "#d8576b"
             ],
             [
              0.6666666666666666,
              "#ed7953"
             ],
             [
              0.7777777777777778,
              "#fb9f3a"
             ],
             [
              0.8888888888888888,
              "#fdca26"
             ],
             [
              1,
              "#f0f921"
             ]
            ],
            "type": "histogram2dcontour"
           }
          ],
          "mesh3d": [
           {
            "colorbar": {
             "outlinewidth": 0,
             "ticks": ""
            },
            "type": "mesh3d"
           }
          ],
          "parcoords": [
           {
            "line": {
             "colorbar": {
              "outlinewidth": 0,
              "ticks": ""
             }
            },
            "type": "parcoords"
           }
          ],
          "pie": [
           {
            "automargin": true,
            "type": "pie"
           }
          ],
          "scatter": [
           {
            "fillpattern": {
             "fillmode": "overlay",
             "size": 10,
             "solidity": 0.2
            },
            "type": "scatter"
           }
          ],
          "scatter3d": [
           {
            "line": {
             "colorbar": {
              "outlinewidth": 0,
              "ticks": ""
             }
            },
            "marker": {
             "colorbar": {
              "outlinewidth": 0,
              "ticks": ""
             }
            },
            "type": "scatter3d"
           }
          ],
          "scattercarpet": [
           {
            "marker": {
             "colorbar": {
              "outlinewidth": 0,
              "ticks": ""
             }
            },
            "type": "scattercarpet"
           }
          ],
          "scattergeo": [
           {
            "marker": {
             "colorbar": {
              "outlinewidth": 0,
              "ticks": ""
             }
            },
            "type": "scattergeo"
           }
          ],
          "scattergl": [
           {
            "marker": {
             "colorbar": {
              "outlinewidth": 0,
              "ticks": ""
             }
            },
            "type": "scattergl"
           }
          ],
          "scattermapbox": [
           {
            "marker": {
             "colorbar": {
              "outlinewidth": 0,
              "ticks": ""
             }
            },
            "type": "scattermapbox"
           }
          ],
          "scatterpolar": [
           {
            "marker": {
             "colorbar": {
              "outlinewidth": 0,
              "ticks": ""
             }
            },
            "type": "scatterpolar"
           }
          ],
          "scatterpolargl": [
           {
            "marker": {
             "colorbar": {
              "outlinewidth": 0,
              "ticks": ""
             }
            },
            "type": "scatterpolargl"
           }
          ],
          "scatterternary": [
           {
            "marker": {
             "colorbar": {
              "outlinewidth": 0,
              "ticks": ""
             }
            },
            "type": "scatterternary"
           }
          ],
          "surface": [
           {
            "colorbar": {
             "outlinewidth": 0,
             "ticks": ""
            },
            "colorscale": [
             [
              0,
              "#0d0887"
             ],
             [
              0.1111111111111111,
              "#46039f"
             ],
             [
              0.2222222222222222,
              "#7201a8"
             ],
             [
              0.3333333333333333,
              "#9c179e"
             ],
             [
              0.4444444444444444,
              "#bd3786"
             ],
             [
              0.5555555555555556,
              "#d8576b"
             ],
             [
              0.6666666666666666,
              "#ed7953"
             ],
             [
              0.7777777777777778,
              "#fb9f3a"
             ],
             [
              0.8888888888888888,
              "#fdca26"
             ],
             [
              1,
              "#f0f921"
             ]
            ],
            "type": "surface"
           }
          ],
          "table": [
           {
            "cells": {
             "fill": {
              "color": "#EBF0F8"
             },
             "line": {
              "color": "white"
             }
            },
            "header": {
             "fill": {
              "color": "#C8D4E3"
             },
             "line": {
              "color": "white"
             }
            },
            "type": "table"
           }
          ]
         },
         "layout": {
          "annotationdefaults": {
           "arrowcolor": "#2a3f5f",
           "arrowhead": 0,
           "arrowwidth": 1
          },
          "autotypenumbers": "strict",
          "coloraxis": {
           "colorbar": {
            "outlinewidth": 0,
            "ticks": ""
           }
          },
          "colorscale": {
           "diverging": [
            [
             0,
             "#8e0152"
            ],
            [
             0.1,
             "#c51b7d"
            ],
            [
             0.2,
             "#de77ae"
            ],
            [
             0.3,
             "#f1b6da"
            ],
            [
             0.4,
             "#fde0ef"
            ],
            [
             0.5,
             "#f7f7f7"
            ],
            [
             0.6,
             "#e6f5d0"
            ],
            [
             0.7,
             "#b8e186"
            ],
            [
             0.8,
             "#7fbc41"
            ],
            [
             0.9,
             "#4d9221"
            ],
            [
             1,
             "#276419"
            ]
           ],
           "sequential": [
            [
             0,
             "#0d0887"
            ],
            [
             0.1111111111111111,
             "#46039f"
            ],
            [
             0.2222222222222222,
             "#7201a8"
            ],
            [
             0.3333333333333333,
             "#9c179e"
            ],
            [
             0.4444444444444444,
             "#bd3786"
            ],
            [
             0.5555555555555556,
             "#d8576b"
            ],
            [
             0.6666666666666666,
             "#ed7953"
            ],
            [
             0.7777777777777778,
             "#fb9f3a"
            ],
            [
             0.8888888888888888,
             "#fdca26"
            ],
            [
             1,
             "#f0f921"
            ]
           ],
           "sequentialminus": [
            [
             0,
             "#0d0887"
            ],
            [
             0.1111111111111111,
             "#46039f"
            ],
            [
             0.2222222222222222,
             "#7201a8"
            ],
            [
             0.3333333333333333,
             "#9c179e"
            ],
            [
             0.4444444444444444,
             "#bd3786"
            ],
            [
             0.5555555555555556,
             "#d8576b"
            ],
            [
             0.6666666666666666,
             "#ed7953"
            ],
            [
             0.7777777777777778,
             "#fb9f3a"
            ],
            [
             0.8888888888888888,
             "#fdca26"
            ],
            [
             1,
             "#f0f921"
            ]
           ]
          },
          "colorway": [
           "#636efa",
           "#EF553B",
           "#00cc96",
           "#ab63fa",
           "#FFA15A",
           "#19d3f3",
           "#FF6692",
           "#B6E880",
           "#FF97FF",
           "#FECB52"
          ],
          "font": {
           "color": "#2a3f5f"
          },
          "geo": {
           "bgcolor": "white",
           "lakecolor": "white",
           "landcolor": "#E5ECF6",
           "showlakes": true,
           "showland": true,
           "subunitcolor": "white"
          },
          "hoverlabel": {
           "align": "left"
          },
          "hovermode": "closest",
          "mapbox": {
           "style": "light"
          },
          "paper_bgcolor": "white",
          "plot_bgcolor": "#E5ECF6",
          "polar": {
           "angularaxis": {
            "gridcolor": "white",
            "linecolor": "white",
            "ticks": ""
           },
           "bgcolor": "#E5ECF6",
           "radialaxis": {
            "gridcolor": "white",
            "linecolor": "white",
            "ticks": ""
           }
          },
          "scene": {
           "xaxis": {
            "backgroundcolor": "#E5ECF6",
            "gridcolor": "white",
            "gridwidth": 2,
            "linecolor": "white",
            "showbackground": true,
            "ticks": "",
            "zerolinecolor": "white"
           },
           "yaxis": {
            "backgroundcolor": "#E5ECF6",
            "gridcolor": "white",
            "gridwidth": 2,
            "linecolor": "white",
            "showbackground": true,
            "ticks": "",
            "zerolinecolor": "white"
           },
           "zaxis": {
            "backgroundcolor": "#E5ECF6",
            "gridcolor": "white",
            "gridwidth": 2,
            "linecolor": "white",
            "showbackground": true,
            "ticks": "",
            "zerolinecolor": "white"
           }
          },
          "shapedefaults": {
           "line": {
            "color": "#2a3f5f"
           }
          },
          "ternary": {
           "aaxis": {
            "gridcolor": "white",
            "linecolor": "white",
            "ticks": ""
           },
           "baxis": {
            "gridcolor": "white",
            "linecolor": "white",
            "ticks": ""
           },
           "bgcolor": "#E5ECF6",
           "caxis": {
            "gridcolor": "white",
            "linecolor": "white",
            "ticks": ""
           }
          },
          "title": {
           "x": 0.05
          },
          "xaxis": {
           "automargin": true,
           "gridcolor": "white",
           "linecolor": "white",
           "ticks": "",
           "title": {
            "standoff": 15
           },
           "zerolinecolor": "white",
           "zerolinewidth": 2
          },
          "yaxis": {
           "automargin": true,
           "gridcolor": "white",
           "linecolor": "white",
           "ticks": "",
           "title": {
            "standoff": 15
           },
           "zerolinecolor": "white",
           "zerolinewidth": 2
          }
         }
        },
        "title": {
         "text": "Opioid Mortality Rate"
        }
       }
      },
      "image/png": "[encoded data removed]",
      "text/html": [
       "<div>                            <div id=\"ee1002a9-c5b1-4b72-96cf-aab00468725d\" class=\"plotly-graph-div\" style=\"height:525px; width:100%;\"></div>            <script type=\"text/javascript\">                require([\"plotly\"], function(Plotly) {                    window.PLOTLYENV=window.PLOTLYENV || {};                                    if (document.getElementById(\"ee1002a9-c5b1-4b72-96cf-aab00468725d\")) {                    Plotly.newPlot(                        \"ee1002a9-c5b1-4b72-96cf-aab00468725d\",                        [{\"colorbar\":{\"title\":{\"text\":\"Average Rate per 100,000\"}},\"colorscale\":[[0.0,\"rgb(255,245,240)\"],[0.125,\"rgb(254,224,210)\"],[0.25,\"rgb(252,187,161)\"],[0.375,\"rgb(252,146,114)\"],[0.5,\"rgb(251,106,74)\"],[0.625,\"rgb(239,59,44)\"],[0.75,\"rgb(203,24,29)\"],[0.875,\"rgb(165,15,21)\"],[1.0,\"rgb(103,0,13)\"]],\"locationmode\":\"USA-states\",\"locations\":[\"WV\",\"DE\",\"NH\",\"OH\",\"PA\",\"KY\",\"MD\",\"MA\",\"ME\",\"RI\",\"CT\",\"NM\",\"NJ\",\"LA\",\"NV\",\"UT\",\"TN\",\"AZ\",\"DC\",\"IN\",\"MI\",\"MO\",\"VT\",\"FL\",\"IL\",\"WI\",\"OK\",\"WA\",\"NC\",\"NY\",\"AK\",\"CO\",\"OR\",\"SC\",\"AL\",\"ID\",\"VA\",\"KS\",\"WY\",\"MS\",\"AR\",\"ND\",\"GA\",\"HI\",\"CA\",\"TX\",\"MT\",\"SD\",\"MN\",\"IA\",\"NE\"],\"z\":[48.52,33.75,33.6,32.77,32.68,30.53,29.8,28.03,28.03,27.58,27.23,25.2,23.65,23.07,23.0,22.67,22.4,21.72,21.63,21.22,21.08,20.37,19.48,19.48,19.2,18.57,18.37,18.15,17.65,17.15,17.03,16.78,16.53,16.38,16.33,15.65,15.3,15.27,15.13,14.88,14.18,13.67,13.33,13.22,12.18,11.95,11.85,11.85,11.83,10.85,9.75],\"type\":\"choropleth\"}],                        {\"template\":{\"data\":{\"histogram2dcontour\":[{\"type\":\"histogram2dcontour\",\"colorbar\":{\"outlinewidth\":0,\"ticks\":\"\"},\"colorscale\":[[0.0,\"#0d0887\"],[0.1111111111111111,\"#46039f\"],[0.2222222222222222,\"#7201a8\"],[0.3333333333333333,\"#9c179e\"],[0.4444444444444444,\"#bd3786\"],[0.5555555555555556,\"#d8576b\"],[0.6666666666666666,\"#ed7953\"],[0.7777777777777778,\"#fb9f3a\"],[0.8888888888888888,\"#fdca26\"],[1.0,\"#f0f921\"]]}],\"choropleth\":[{\"type\":\"choropleth\",\"colorbar\":{\"outlinewidth\":0,\"ticks\":\"\"}}],\"histogram2d\":[{\"type\":\"histogram2d\",\"colorbar\":{\"outlinewidth\":0,\"ticks\":\"\"},\"colorscale\":[[0.0,\"#0d0887\"],[0.1111111111111111,\"#46039f\"],[0.2222222222222222,\"#7201a8\"],[0.3333333333333333,\"#9c179e\"],[0.4444444444444444,\"#bd3786\"],[0.5555555555555556,\"#d8576b\"],[0.6666666666666666,\"#ed7953\"],[0.7777777777777778,\"#fb9f3a\"],[0.8888888888888888,\"#fdca26\"],[1.0,\"#f0f921\"]]}],\"heatmap\":[{\"type\":\"heatmap\",\"colorbar\":{\"outlinewidth\":0,\"ticks\":\"\"},\"colorscale\":[[0.0,\"#0d0887\"],[0.1111111111111111,\"#46039f\"],[0.2222222222222222,\"#7201a8\"],[0.3333333333333333,\"#9c179e\"],[0.4444444444444444,\"#bd3786\"],[0.5555555555555556,\"#d8576b\"],[0.6666666666666666,\"#ed7953\"],[0.7777777777777778,\"#fb9f3a\"],[0.8888888888888888,\"#fdca26\"],[1.0,\"#f0f921\"]]}],\"heatmapgl\":[{\"type\":\"heatmapgl\",\"colorbar\":{\"outlinewidth\":0,\"ticks\":\"\"},\"colorscale\":[[0.0,\"#0d0887\"],[0.1111111111111111,\"#46039f\"],[0.2222222222222222,\"#7201a8\"],[0.3333333333333333,\"#9c179e\"],[0.4444444444444444,\"#bd3786\"],[0.5555555555555556,\"#d8576b\"],[0.6666666666666666,\"#ed7953\"],[0.7777777777777778,\"#fb9f3a\"],[0.8888888888888888,\"#fdca26\"],[1.0,\"#f0f921\"]]}],\"contourcarpet\":[{\"type\":\"contourcarpet\",\"colorbar\":{\"outlinewidth\":0,\"ticks\":\"\"}}],\"contour\":[{\"type\":\"contour\",\"colorbar\":{\"outlinewidth\":0,\"ticks\":\"\"},\"colorscale\":[[0.0,\"#0d0887\"],[0.1111111111111111,\"#46039f\"],[0.2222222222222222,\"#7201a8\"],[0.3333333333333333,\"#9c179e\"],[0.4444444444444444,\"#bd3786\"],[0.5555555555555556,\"#d8576b\"],[0.6666666666666666,\"#ed7953\"],[0.7777777777777778,\"#fb9f3a\"],[0.8888888888888888,\"#fdca26\"],[1.0,\"#f0f921\"]]}],\"surface\":[{\"type\":\"surface\",\"colorbar\":{\"outlinewidth\":0,\"ticks\":\"\"},\"colorscale\":[[0.0,\"#0d0887\"],[0.1111111111111111,\"#46039f\"],[0.2222222222222222,\"#7201a8\"],[0.3333333333333333,\"#9c179e\"],[0.4444444444444444,\"#bd3786\"],[0.5555555555555556,\"#d8576b\"],[0.6666666666666666,\"#ed7953\"],[0.7777777777777778,\"#fb9f3a\"],[0.8888888888888888,\"#fdca26\"],[1.0,\"#f0f921\"]]}],\"mesh3d\":[{\"type\":\"mesh3d\",\"colorbar\":{\"outlinewidth\":0,\"ticks\":\"\"}}],\"scatter\":[{\"fillpattern\":{\"fillmode\":\"overlay\",\"size\":10,\"solidity\":0.2},\"type\":\"scatter\"}],\"parcoords\":[{\"type\":\"parcoords\",\"line\":{\"colorbar\":{\"outlinewidth\":0,\"ticks\":\"\"}}}],\"scatterpolargl\":[{\"type\":\"scatterpolargl\",\"marker\":{\"colorbar\":{\"outlinewidth\":0,\"ticks\":\"\"}}}],\"bar\":[{\"error_x\":{\"color\":\"#2a3f5f\"},\"error_y\":{\"color\":\"#2a3f5f\"},\"marker\":{\"line\":{\"color\":\"#E5ECF6\",\"width\":0.5},\"pattern\":{\"fillmode\":\"overlay\",\"size\":10,\"solidity\":0.2}},\"type\":\"bar\"}],\"scattergeo\":[{\"type\":\"scattergeo\",\"marker\":{\"colorbar\":{\"outlinewidth\":0,\"ticks\":\"\"}}}],\"scatterpolar\":[{\"type\":\"scatterpolar\",\"marker\":{\"colorbar\":{\"outlinewidth\":0,\"ticks\":\"\"}}}],\"histogram\":[{\"marker\":{\"pattern\":{\"fillmode\":\"overlay\",\"size\":10,\"solidity\":0.2}},\"type\":\"histogram\"}],\"scattergl\":[{\"type\":\"scattergl\",\"marker\":{\"colorbar\":{\"outlinewidth\":0,\"ticks\":\"\"}}}],\"scatter3d\":[{\"type\":\"scatter3d\",\"line\":{\"colorbar\":{\"outlinewidth\":0,\"ticks\":\"\"}},\"marker\":{\"colorbar\":{\"outlinewidth\":0,\"ticks\":\"\"}}}],\"scattermapbox\":[{\"type\":\"scattermapbox\",\"marker\":{\"colorbar\":{\"outlinewidth\":0,\"ticks\":\"\"}}}],\"scatterternary\":[{\"type\":\"scatterternary\",\"marker\":{\"colorbar\":{\"outlinewidth\":0,\"ticks\":\"\"}}}],\"scattercarpet\":[{\"type\":\"scattercarpet\",\"marker\":{\"colorbar\":{\"outlinewidth\":0,\"ticks\":\"\"}}}],\"carpet\":[{\"aaxis\":{\"endlinecolor\":\"#2a3f5f\",\"gridcolor\":\"white\",\"linecolor\":\"white\",\"minorgridcolor\":\"white\",\"startlinecolor\":\"#2a3f5f\"},\"baxis\":{\"endlinecolor\":\"#2a3f5f\",\"gridcolor\":\"white\",\"linecolor\":\"white\",\"minorgridcolor\":\"white\",\"startlinecolor\":\"#2a3f5f\"},\"type\":\"carpet\"}],\"table\":[{\"cells\":{\"fill\":{\"color\":\"#EBF0F8\"},\"line\":{\"color\":\"white\"}},\"header\":{\"fill\":{\"color\":\"#C8D4E3\"},\"line\":{\"color\":\"white\"}},\"type\":\"table\"}],\"barpolar\":[{\"marker\":{\"line\":{\"color\":\"#E5ECF6\",\"width\":0.5},\"pattern\":{\"fillmode\":\"overlay\",\"size\":10,\"solidity\":0.2}},\"type\":\"barpolar\"}],\"pie\":[{\"automargin\":true,\"type\":\"pie\"}]},\"layout\":{\"autotypenumbers\":\"strict\",\"colorway\":[\"#636efa\",\"#EF553B\",\"#00cc96\",\"#ab63fa\",\"#FFA15A\",\"#19d3f3\",\"#FF6692\",\"#B6E880\",\"#FF97FF\",\"#FECB52\"],\"font\":{\"color\":\"#2a3f5f\"},\"hovermode\":\"closest\",\"hoverlabel\":{\"align\":\"left\"},\"paper_bgcolor\":\"white\",\"plot_bgcolor\":\"#E5ECF6\",\"polar\":{\"bgcolor\":\"#E5ECF6\",\"angularaxis\":{\"gridcolor\":\"white\",\"linecolor\":\"white\",\"ticks\":\"\"},\"radialaxis\":{\"gridcolor\":\"white\",\"linecolor\":\"white\",\"ticks\":\"\"}},\"ternary\":{\"bgcolor\":\"#E5ECF6\",\"aaxis\":{\"gridcolor\":\"white\",\"linecolor\":\"white\",\"ticks\":\"\"},\"baxis\":{\"gridcolor\":\"white\",\"linecolor\":\"white\",\"ticks\":\"\"},\"caxis\":{\"gridcolor\":\"white\",\"linecolor\":\"white\",\"ticks\":\"\"}},\"coloraxis\":{\"colorbar\":{\"outlinewidth\":0,\"ticks\":\"\"}},\"colorscale\":{\"sequential\":[[0.0,\"#0d0887\"],[0.1111111111111111,\"#46039f\"],[0.2222222222222222,\"#7201a8\"],[0.3333333333333333,\"#9c179e\"],[0.4444444444444444,\"#bd3786\"],[0.5555555555555556,\"#d8576b\"],[0.6666666666666666,\"#ed7953\"],[0.7777777777777778,\"#fb9f3a\"],[0.8888888888888888,\"#fdca26\"],[1.0,\"#f0f921\"]],\"sequentialminus\":[[0.0,\"#0d0887\"],[0.1111111111111111,\"#46039f\"],[0.2222222222222222,\"#7201a8\"],[0.3333333333333333,\"#9c179e\"],[0.4444444444444444,\"#bd3786\"],[0.5555555555555556,\"#d8576b\"],[0.6666666666666666,\"#ed7953\"],[0.7777777777777778,\"#fb9f3a\"],[0.8888888888888888,\"#fdca26\"],[1.0,\"#f0f921\"]],\"diverging\":[[0,\"#8e0152\"],[0.1,\"#c51b7d\"],[0.2,\"#de77ae\"],[0.3,\"#f1b6da\"],[0.4,\"#fde0ef\"],[0.5,\"#f7f7f7\"],[0.6,\"#e6f5d0\"],[0.7,\"#b8e186\"],[0.8,\"#7fbc41\"],[0.9,\"#4d9221\"],[1,\"#276419\"]]},\"xaxis\":{\"gridcolor\":\"white\",\"linecolor\":\"white\",\"ticks\":\"\",\"title\":{\"standoff\":15},\"zerolinecolor\":\"white\",\"automargin\":true,\"zerolinewidth\":2},\"yaxis\":{\"gridcolor\":\"white\",\"linecolor\":\"white\",\"ticks\":\"\",\"title\":{\"standoff\":15},\"zerolinecolor\":\"white\",\"automargin\":true,\"zerolinewidth\":2},\"scene\":{\"xaxis\":{\"backgroundcolor\":\"#E5ECF6\",\"gridcolor\":\"white\",\"linecolor\":\"white\",\"showbackground\":true,\"ticks\":\"\",\"zerolinecolor\":\"white\",\"gridwidth\":2},\"yaxis\":{\"backgroundcolor\":\"#E5ECF6\",\"gridcolor\":\"white\",\"linecolor\":\"white\",\"showbackground\":true,\"ticks\":\"\",\"zerolinecolor\":\"white\",\"gridwidth\":2},\"zaxis\":{\"backgroundcolor\":\"#E5ECF6\",\"gridcolor\":\"white\",\"linecolor\":\"white\",\"showbackground\":true,\"ticks\":\"\",\"zerolinecolor\":\"white\",\"gridwidth\":2}},\"shapedefaults\":{\"line\":{\"color\":\"#2a3f5f\"}},\"annotationdefaults\":{\"arrowcolor\":\"#2a3f5f\",\"arrowhead\":0,\"arrowwidth\":1},\"geo\":{\"bgcolor\":\"white\",\"landcolor\":\"#E5ECF6\",\"subunitcolor\":\"white\",\"showland\":true,\"showlakes\":true,\"lakecolor\":\"white\"},\"title\":{\"x\":0.05},\"mapbox\":{\"style\":\"light\"}}},\"title\":{\"text\":\"Opioid Mortality Rate\"},\"geo\":{\"scope\":\"usa\"}},                        {\"responsive\": true}                    ).then(function(){\n",
       "                            \n",
       "var gd = document.getElementById('ee1002a9-c5b1-4b72-96cf-aab00468725d');\n",
       "var x = new MutationObserver(function (mutations, observer) {{\n",
       "        var display = window.getComputedStyle(gd).display;\n",
       "        if (!display || display === 'none') {{\n",
       "            console.log([gd, 'removed!']);\n",
       "            Plotly.purge(gd);\n",
       "            observer.disconnect();\n",
       "        }}\n",
       "}});\n",
       "\n",
       "// Listen for the removal of the full notebook cells\n",
       "var notebookContainer = gd.closest('#notebook-container');\n",
       "if (notebookContainer) {{\n",
       "    x.observe(notebookContainer, {childList: true});\n",
       "}}\n",
       "\n",
       "// Listen for the clearing of the current output cell\n",
       "var outputEl = gd.closest('.output');\n",
       "if (outputEl) {{\n",
       "    x.observe(outputEl, {childList: true});\n",
       "}}\n",
       "\n",
       "                        })                };                });            </script>        </div>"
      ]
     },
     "metadata": {},
     "output_type": "display_data"
    }
   ],
   "source": [
    "#mapping test\n",
    "fig = go.Figure(data=go.Choropleth(\n",
    "    locations=df_sort_descend['st_abb'], # Spatial coordinates\n",
    "    z = df_sort_descend['odMortRtAv'].astype(float), # Data to be color-coded\n",
    "    locationmode = 'USA-states', # set of locations match entries in `locations`\n",
    "    colorscale = 'Reds',\n",
    "    colorbar_title = \"Average Rate per 100,000\",\n",
    "))\n",
    "\n",
    "fig.update_layout(\n",
    "    title_text = 'Opioid Mortality Rate',\n",
    "    geo_scope='usa', # limit map scope to USA\n",
    ")\n",
    "\n",
    "fig.show()\n"
   ]
  },
  {
   "cell_type": "markdown",
   "id": "5914b69b-b8fa-47a7-b8c7-32f349c80a7c",
   "metadata": {},
   "source": [
    "### Subset the data to only those states with odMortRtAv in the upper quartile"
   ]
  },
  {
   "cell_type": "code",
   "execution_count": 13,
   "id": "6dca056e-ba20-40c8-b03e-69f417f996e9",
   "metadata": {},
   "outputs": [
    {
     "data": {
      "text/html": [
       "<div>\n",
       "<style scoped>\n",
       "    .dataframe tbody tr th:only-of-type {\n",
       "        vertical-align: middle;\n",
       "    }\n",
       "\n",
       "    .dataframe tbody tr th {\n",
       "        vertical-align: top;\n",
       "    }\n",
       "\n",
       "    .dataframe thead th {\n",
       "        text-align: right;\n",
       "    }\n",
       "</style>\n",
       "<table border=\"1\" class=\"dataframe\">\n",
       "  <thead>\n",
       "    <tr style=\"text-align: right;\">\n",
       "      <th></th>\n",
       "      <th>G_STATEFP</th>\n",
       "      <th>STATEFP</th>\n",
       "      <th>st_abb</th>\n",
       "      <th>st_name</th>\n",
       "      <th>opPrscRt19</th>\n",
       "      <th>prMisuse19</th>\n",
       "      <th>odMortRt14</th>\n",
       "      <th>odMortRt15</th>\n",
       "      <th>odMortRt16</th>\n",
       "      <th>odMortRt17</th>\n",
       "      <th>odMortRt18</th>\n",
       "      <th>odMortRt19</th>\n",
       "      <th>odMortRtAv</th>\n",
       "    </tr>\n",
       "  </thead>\n",
       "  <tbody>\n",
       "    <tr>\n",
       "      <th>48</th>\n",
       "      <td>G54</td>\n",
       "      <td>54</td>\n",
       "      <td>WV</td>\n",
       "      <td>West Virginia</td>\n",
       "      <td>42.5</td>\n",
       "      <td>3.22</td>\n",
       "      <td>35.5</td>\n",
       "      <td>41.5</td>\n",
       "      <td>52.0</td>\n",
       "      <td>57.8</td>\n",
       "      <td>51.5</td>\n",
       "      <td>52.8</td>\n",
       "      <td>48.52</td>\n",
       "    </tr>\n",
       "    <tr>\n",
       "      <th>7</th>\n",
       "      <td>G10</td>\n",
       "      <td>10</td>\n",
       "      <td>DE</td>\n",
       "      <td>Delaware</td>\n",
       "      <td>39.9</td>\n",
       "      <td>3.45</td>\n",
       "      <td>20.9</td>\n",
       "      <td>22.0</td>\n",
       "      <td>30.8</td>\n",
       "      <td>37.0</td>\n",
       "      <td>43.8</td>\n",
       "      <td>48.0</td>\n",
       "      <td>33.75</td>\n",
       "    </tr>\n",
       "    <tr>\n",
       "      <th>29</th>\n",
       "      <td>G33</td>\n",
       "      <td>33</td>\n",
       "      <td>NH</td>\n",
       "      <td>New Hampshire</td>\n",
       "      <td>50.3</td>\n",
       "      <td>3.38</td>\n",
       "      <td>26.2</td>\n",
       "      <td>34.3</td>\n",
       "      <td>39.0</td>\n",
       "      <td>37.0</td>\n",
       "      <td>33.1</td>\n",
       "      <td>32.0</td>\n",
       "      <td>33.60</td>\n",
       "    </tr>\n",
       "    <tr>\n",
       "      <th>35</th>\n",
       "      <td>G39</td>\n",
       "      <td>39</td>\n",
       "      <td>OH</td>\n",
       "      <td>Ohio</td>\n",
       "      <td>50.8</td>\n",
       "      <td>3.95</td>\n",
       "      <td>24.6</td>\n",
       "      <td>29.9</td>\n",
       "      <td>39.1</td>\n",
       "      <td>46.3</td>\n",
       "      <td>18.4</td>\n",
       "      <td>38.3</td>\n",
       "      <td>32.77</td>\n",
       "    </tr>\n",
       "    <tr>\n",
       "      <th>38</th>\n",
       "      <td>G42</td>\n",
       "      <td>42</td>\n",
       "      <td>PA</td>\n",
       "      <td>Pennsylvania</td>\n",
       "      <td>47.0</td>\n",
       "      <td>3.17</td>\n",
       "      <td>21.9</td>\n",
       "      <td>26.3</td>\n",
       "      <td>37.9</td>\n",
       "      <td>44.3</td>\n",
       "      <td>30.1</td>\n",
       "      <td>35.6</td>\n",
       "      <td>32.68</td>\n",
       "    </tr>\n",
       "    <tr>\n",
       "      <th>17</th>\n",
       "      <td>G21</td>\n",
       "      <td>21</td>\n",
       "      <td>KY</td>\n",
       "      <td>Kentucky</td>\n",
       "      <td>72.3</td>\n",
       "      <td>4.14</td>\n",
       "      <td>24.7</td>\n",
       "      <td>29.9</td>\n",
       "      <td>33.5</td>\n",
       "      <td>37.2</td>\n",
       "      <td>25.4</td>\n",
       "      <td>32.5</td>\n",
       "      <td>30.53</td>\n",
       "    </tr>\n",
       "    <tr>\n",
       "      <th>20</th>\n",
       "      <td>G24</td>\n",
       "      <td>24</td>\n",
       "      <td>MD</td>\n",
       "      <td>Maryland</td>\n",
       "      <td>42.3</td>\n",
       "      <td>3.45</td>\n",
       "      <td>17.4</td>\n",
       "      <td>20.9</td>\n",
       "      <td>33.2</td>\n",
       "      <td>36.3</td>\n",
       "      <td>32.8</td>\n",
       "      <td>38.2</td>\n",
       "      <td>29.80</td>\n",
       "    </tr>\n",
       "    <tr>\n",
       "      <th>21</th>\n",
       "      <td>G25</td>\n",
       "      <td>25</td>\n",
       "      <td>MA</td>\n",
       "      <td>Massachusetts</td>\n",
       "      <td>44.1</td>\n",
       "      <td>3.24</td>\n",
       "      <td>19.0</td>\n",
       "      <td>25.7</td>\n",
       "      <td>33.0</td>\n",
       "      <td>31.8</td>\n",
       "      <td>26.6</td>\n",
       "      <td>32.1</td>\n",
       "      <td>28.03</td>\n",
       "    </tr>\n",
       "    <tr>\n",
       "      <th>19</th>\n",
       "      <td>G23</td>\n",
       "      <td>23</td>\n",
       "      <td>ME</td>\n",
       "      <td>Maine</td>\n",
       "      <td>35.4</td>\n",
       "      <td>3.27</td>\n",
       "      <td>16.8</td>\n",
       "      <td>21.2</td>\n",
       "      <td>28.7</td>\n",
       "      <td>34.4</td>\n",
       "      <td>37.2</td>\n",
       "      <td>29.9</td>\n",
       "      <td>28.03</td>\n",
       "    </tr>\n",
       "    <tr>\n",
       "      <th>39</th>\n",
       "      <td>G44</td>\n",
       "      <td>44</td>\n",
       "      <td>RI</td>\n",
       "      <td>Rhode Island</td>\n",
       "      <td>40.3</td>\n",
       "      <td>3.33</td>\n",
       "      <td>23.4</td>\n",
       "      <td>28.2</td>\n",
       "      <td>30.8</td>\n",
       "      <td>31.0</td>\n",
       "      <td>22.6</td>\n",
       "      <td>29.5</td>\n",
       "      <td>27.58</td>\n",
       "    </tr>\n",
       "    <tr>\n",
       "      <th>6</th>\n",
       "      <td>G09</td>\n",
       "      <td>9</td>\n",
       "      <td>CT</td>\n",
       "      <td>Connecticut</td>\n",
       "      <td>40.5</td>\n",
       "      <td>3.31</td>\n",
       "      <td>17.6</td>\n",
       "      <td>22.1</td>\n",
       "      <td>27.4</td>\n",
       "      <td>30.9</td>\n",
       "      <td>30.7</td>\n",
       "      <td>34.7</td>\n",
       "      <td>27.23</td>\n",
       "    </tr>\n",
       "    <tr>\n",
       "      <th>31</th>\n",
       "      <td>G35</td>\n",
       "      <td>35</td>\n",
       "      <td>NM</td>\n",
       "      <td>New Mexico</td>\n",
       "      <td>34.8</td>\n",
       "      <td>3.71</td>\n",
       "      <td>27.3</td>\n",
       "      <td>25.3</td>\n",
       "      <td>25.2</td>\n",
       "      <td>24.8</td>\n",
       "      <td>18.4</td>\n",
       "      <td>30.2</td>\n",
       "      <td>25.20</td>\n",
       "    </tr>\n",
       "    <tr>\n",
       "      <th>30</th>\n",
       "      <td>G34</td>\n",
       "      <td>34</td>\n",
       "      <td>NJ</td>\n",
       "      <td>New Jersey</td>\n",
       "      <td>38.1</td>\n",
       "      <td>2.99</td>\n",
       "      <td>14.0</td>\n",
       "      <td>16.3</td>\n",
       "      <td>23.2</td>\n",
       "      <td>30.0</td>\n",
       "      <td>26.7</td>\n",
       "      <td>31.7</td>\n",
       "      <td>23.65</td>\n",
       "    </tr>\n",
       "  </tbody>\n",
       "</table>\n",
       "</div>"
      ],
      "text/plain": [
       "   G_STATEFP  STATEFP st_abb        st_name  opPrscRt19  prMisuse19  \\\n",
       "48       G54       54     WV  West Virginia        42.5        3.22   \n",
       "7        G10       10     DE       Delaware        39.9        3.45   \n",
       "29       G33       33     NH  New Hampshire        50.3        3.38   \n",
       "35       G39       39     OH           Ohio        50.8        3.95   \n",
       "38       G42       42     PA   Pennsylvania        47.0        3.17   \n",
       "17       G21       21     KY       Kentucky        72.3        4.14   \n",
       "20       G24       24     MD       Maryland        42.3        3.45   \n",
       "21       G25       25     MA  Massachusetts        44.1        3.24   \n",
       "19       G23       23     ME          Maine        35.4        3.27   \n",
       "39       G44       44     RI   Rhode Island        40.3        3.33   \n",
       "6        G09        9     CT    Connecticut        40.5        3.31   \n",
       "31       G35       35     NM     New Mexico        34.8        3.71   \n",
       "30       G34       34     NJ     New Jersey        38.1        2.99   \n",
       "\n",
       "    odMortRt14  odMortRt15  odMortRt16  odMortRt17  odMortRt18  odMortRt19  \\\n",
       "48        35.5        41.5        52.0        57.8        51.5        52.8   \n",
       "7         20.9        22.0        30.8        37.0        43.8        48.0   \n",
       "29        26.2        34.3        39.0        37.0        33.1        32.0   \n",
       "35        24.6        29.9        39.1        46.3        18.4        38.3   \n",
       "38        21.9        26.3        37.9        44.3        30.1        35.6   \n",
       "17        24.7        29.9        33.5        37.2        25.4        32.5   \n",
       "20        17.4        20.9        33.2        36.3        32.8        38.2   \n",
       "21        19.0        25.7        33.0        31.8        26.6        32.1   \n",
       "19        16.8        21.2        28.7        34.4        37.2        29.9   \n",
       "39        23.4        28.2        30.8        31.0        22.6        29.5   \n",
       "6         17.6        22.1        27.4        30.9        30.7        34.7   \n",
       "31        27.3        25.3        25.2        24.8        18.4        30.2   \n",
       "30        14.0        16.3        23.2        30.0        26.7        31.7   \n",
       "\n",
       "    odMortRtAv  \n",
       "48       48.52  \n",
       "7        33.75  \n",
       "29       33.60  \n",
       "35       32.77  \n",
       "38       32.68  \n",
       "17       30.53  \n",
       "20       29.80  \n",
       "21       28.03  \n",
       "19       28.03  \n",
       "39       27.58  \n",
       "6        27.23  \n",
       "31       25.20  \n",
       "30       23.65  "
      ]
     },
     "execution_count": 13,
     "metadata": {},
     "output_type": "execute_result"
    }
   ],
   "source": [
    "upper_quartile_subset = df_sort_descend.loc[df_sort_descend['odMortRtAv'] >= upper_quartile]\n",
    "upper_quartile_subset"
   ]
  },
  {
   "cell_type": "code",
   "execution_count": 14,
   "id": "1cb32ea1-4b95-4990-8f66-2d4f90292a49",
   "metadata": {},
   "outputs": [
    {
     "data": {
      "text/html": [
       "<div>\n",
       "<style scoped>\n",
       "    .dataframe tbody tr th:only-of-type {\n",
       "        vertical-align: middle;\n",
       "    }\n",
       "\n",
       "    .dataframe tbody tr th {\n",
       "        vertical-align: top;\n",
       "    }\n",
       "\n",
       "    .dataframe thead th {\n",
       "        text-align: right;\n",
       "    }\n",
       "</style>\n",
       "<table border=\"1\" class=\"dataframe\">\n",
       "  <thead>\n",
       "    <tr style=\"text-align: right;\">\n",
       "      <th></th>\n",
       "      <th>G_STATEFP</th>\n",
       "      <th>STATEFP</th>\n",
       "      <th>st_abb</th>\n",
       "      <th>st_name</th>\n",
       "      <th>opPrscRt19</th>\n",
       "      <th>prMisuse19</th>\n",
       "      <th>odMortRt14</th>\n",
       "      <th>odMortRt15</th>\n",
       "      <th>odMortRt16</th>\n",
       "      <th>odMortRt17</th>\n",
       "      <th>odMortRt18</th>\n",
       "      <th>odMortRt19</th>\n",
       "      <th>odMortRtAv</th>\n",
       "    </tr>\n",
       "  </thead>\n",
       "  <tbody>\n",
       "    <tr>\n",
       "      <th>48</th>\n",
       "      <td>G54</td>\n",
       "      <td>54</td>\n",
       "      <td>WV</td>\n",
       "      <td>West Virginia</td>\n",
       "      <td>42.5</td>\n",
       "      <td>3.22</td>\n",
       "      <td>35.5</td>\n",
       "      <td>41.5</td>\n",
       "      <td>52.0</td>\n",
       "      <td>57.8</td>\n",
       "      <td>51.5</td>\n",
       "      <td>52.8</td>\n",
       "      <td>48.52</td>\n",
       "    </tr>\n",
       "    <tr>\n",
       "      <th>7</th>\n",
       "      <td>G10</td>\n",
       "      <td>10</td>\n",
       "      <td>DE</td>\n",
       "      <td>Delaware</td>\n",
       "      <td>39.9</td>\n",
       "      <td>3.45</td>\n",
       "      <td>20.9</td>\n",
       "      <td>22.0</td>\n",
       "      <td>30.8</td>\n",
       "      <td>37.0</td>\n",
       "      <td>43.8</td>\n",
       "      <td>48.0</td>\n",
       "      <td>33.75</td>\n",
       "    </tr>\n",
       "    <tr>\n",
       "      <th>29</th>\n",
       "      <td>G33</td>\n",
       "      <td>33</td>\n",
       "      <td>NH</td>\n",
       "      <td>New Hampshire</td>\n",
       "      <td>50.3</td>\n",
       "      <td>3.38</td>\n",
       "      <td>26.2</td>\n",
       "      <td>34.3</td>\n",
       "      <td>39.0</td>\n",
       "      <td>37.0</td>\n",
       "      <td>33.1</td>\n",
       "      <td>32.0</td>\n",
       "      <td>33.60</td>\n",
       "    </tr>\n",
       "    <tr>\n",
       "      <th>35</th>\n",
       "      <td>G39</td>\n",
       "      <td>39</td>\n",
       "      <td>OH</td>\n",
       "      <td>Ohio</td>\n",
       "      <td>50.8</td>\n",
       "      <td>3.95</td>\n",
       "      <td>24.6</td>\n",
       "      <td>29.9</td>\n",
       "      <td>39.1</td>\n",
       "      <td>46.3</td>\n",
       "      <td>18.4</td>\n",
       "      <td>38.3</td>\n",
       "      <td>32.77</td>\n",
       "    </tr>\n",
       "    <tr>\n",
       "      <th>38</th>\n",
       "      <td>G42</td>\n",
       "      <td>42</td>\n",
       "      <td>PA</td>\n",
       "      <td>Pennsylvania</td>\n",
       "      <td>47.0</td>\n",
       "      <td>3.17</td>\n",
       "      <td>21.9</td>\n",
       "      <td>26.3</td>\n",
       "      <td>37.9</td>\n",
       "      <td>44.3</td>\n",
       "      <td>30.1</td>\n",
       "      <td>35.6</td>\n",
       "      <td>32.68</td>\n",
       "    </tr>\n",
       "    <tr>\n",
       "      <th>17</th>\n",
       "      <td>G21</td>\n",
       "      <td>21</td>\n",
       "      <td>KY</td>\n",
       "      <td>Kentucky</td>\n",
       "      <td>72.3</td>\n",
       "      <td>4.14</td>\n",
       "      <td>24.7</td>\n",
       "      <td>29.9</td>\n",
       "      <td>33.5</td>\n",
       "      <td>37.2</td>\n",
       "      <td>25.4</td>\n",
       "      <td>32.5</td>\n",
       "      <td>30.53</td>\n",
       "    </tr>\n",
       "    <tr>\n",
       "      <th>20</th>\n",
       "      <td>G24</td>\n",
       "      <td>24</td>\n",
       "      <td>MD</td>\n",
       "      <td>Maryland</td>\n",
       "      <td>42.3</td>\n",
       "      <td>3.45</td>\n",
       "      <td>17.4</td>\n",
       "      <td>20.9</td>\n",
       "      <td>33.2</td>\n",
       "      <td>36.3</td>\n",
       "      <td>32.8</td>\n",
       "      <td>38.2</td>\n",
       "      <td>29.80</td>\n",
       "    </tr>\n",
       "    <tr>\n",
       "      <th>21</th>\n",
       "      <td>G25</td>\n",
       "      <td>25</td>\n",
       "      <td>MA</td>\n",
       "      <td>Massachusetts</td>\n",
       "      <td>44.1</td>\n",
       "      <td>3.24</td>\n",
       "      <td>19.0</td>\n",
       "      <td>25.7</td>\n",
       "      <td>33.0</td>\n",
       "      <td>31.8</td>\n",
       "      <td>26.6</td>\n",
       "      <td>32.1</td>\n",
       "      <td>28.03</td>\n",
       "    </tr>\n",
       "    <tr>\n",
       "      <th>19</th>\n",
       "      <td>G23</td>\n",
       "      <td>23</td>\n",
       "      <td>ME</td>\n",
       "      <td>Maine</td>\n",
       "      <td>35.4</td>\n",
       "      <td>3.27</td>\n",
       "      <td>16.8</td>\n",
       "      <td>21.2</td>\n",
       "      <td>28.7</td>\n",
       "      <td>34.4</td>\n",
       "      <td>37.2</td>\n",
       "      <td>29.9</td>\n",
       "      <td>28.03</td>\n",
       "    </tr>\n",
       "    <tr>\n",
       "      <th>39</th>\n",
       "      <td>G44</td>\n",
       "      <td>44</td>\n",
       "      <td>RI</td>\n",
       "      <td>Rhode Island</td>\n",
       "      <td>40.3</td>\n",
       "      <td>3.33</td>\n",
       "      <td>23.4</td>\n",
       "      <td>28.2</td>\n",
       "      <td>30.8</td>\n",
       "      <td>31.0</td>\n",
       "      <td>22.6</td>\n",
       "      <td>29.5</td>\n",
       "      <td>27.58</td>\n",
       "    </tr>\n",
       "  </tbody>\n",
       "</table>\n",
       "</div>"
      ],
      "text/plain": [
       "   G_STATEFP  STATEFP st_abb        st_name  opPrscRt19  prMisuse19  \\\n",
       "48       G54       54     WV  West Virginia        42.5        3.22   \n",
       "7        G10       10     DE       Delaware        39.9        3.45   \n",
       "29       G33       33     NH  New Hampshire        50.3        3.38   \n",
       "35       G39       39     OH           Ohio        50.8        3.95   \n",
       "38       G42       42     PA   Pennsylvania        47.0        3.17   \n",
       "17       G21       21     KY       Kentucky        72.3        4.14   \n",
       "20       G24       24     MD       Maryland        42.3        3.45   \n",
       "21       G25       25     MA  Massachusetts        44.1        3.24   \n",
       "19       G23       23     ME          Maine        35.4        3.27   \n",
       "39       G44       44     RI   Rhode Island        40.3        3.33   \n",
       "\n",
       "    odMortRt14  odMortRt15  odMortRt16  odMortRt17  odMortRt18  odMortRt19  \\\n",
       "48        35.5        41.5        52.0        57.8        51.5        52.8   \n",
       "7         20.9        22.0        30.8        37.0        43.8        48.0   \n",
       "29        26.2        34.3        39.0        37.0        33.1        32.0   \n",
       "35        24.6        29.9        39.1        46.3        18.4        38.3   \n",
       "38        21.9        26.3        37.9        44.3        30.1        35.6   \n",
       "17        24.7        29.9        33.5        37.2        25.4        32.5   \n",
       "20        17.4        20.9        33.2        36.3        32.8        38.2   \n",
       "21        19.0        25.7        33.0        31.8        26.6        32.1   \n",
       "19        16.8        21.2        28.7        34.4        37.2        29.9   \n",
       "39        23.4        28.2        30.8        31.0        22.6        29.5   \n",
       "\n",
       "    odMortRtAv  \n",
       "48       48.52  \n",
       "7        33.75  \n",
       "29       33.60  \n",
       "35       32.77  \n",
       "38       32.68  \n",
       "17       30.53  \n",
       "20       29.80  \n",
       "21       28.03  \n",
       "19       28.03  \n",
       "39       27.58  "
      ]
     },
     "execution_count": 14,
     "metadata": {},
     "output_type": "execute_result"
    }
   ],
   "source": [
    "top_ten = df_sort_descend.iloc[0:10]\n",
    "top_ten"
   ]
  },
  {
   "cell_type": "code",
   "execution_count": 15,
   "id": "1612134a-ab6d-4fc0-b2a9-174576d09a1e",
   "metadata": {},
   "outputs": [
    {
     "data": {
      "image/png": "[encoded data removed]",
      "text/plain": [
       "<Figure size 1500x1000 with 1 Axes>"
      ]
     },
     "metadata": {},
     "output_type": "display_data"
    }
   ],
   "source": [
    "top_ten.plot.bar(x='st_abb', y='odMortRtAv', title = \"Barplot of Top 10 Average Opioid Mortality Rate (per 100,000) by U.S. State (2014-2019)\",\n",
    "                         xlabel = \"State\", ylabel = \"Average Opioid Mortality Rate (per 100,000)\",\n",
    "                            color = 'purple', figsize = [15,10])\n",
    "plt.show()"
   ]
  },
  {
   "cell_type": "markdown",
   "id": "c7dc8dc1-7a25-4e4e-a3d4-a22b77c25769",
   "metadata": {},
   "source": [
    "### Consideration the time limitations of this project, we will focus focus further analyses on the Top Ten"
   ]
  },
  {
   "cell_type": "code",
   "execution_count": 16,
   "id": "21f7ebff-5d2a-4594-bb63-e4294874e5bf",
   "metadata": {},
   "outputs": [
    {
     "data": {
      "text/plain": [
       "['WV', 'DE', 'NH', 'OH', 'PA', 'KY', 'MD', 'MA', 'ME', 'RI']"
      ]
     },
     "execution_count": 16,
     "metadata": {},
     "output_type": "execute_result"
    }
   ],
   "source": [
    "top_ten_st_abb = list(top_ten['st_abb'])\n",
    "top_ten_st_abb"
   ]
  },
  {
   "cell_type": "code",
   "execution_count": null,
   "id": "294e43d3-6bb6-469e-81cd-af7ff6212150",
   "metadata": {},
   "outputs": [],
   "source": []
  },
  {
   "cell_type": "markdown",
   "id": "d47783a7-b622-4f14-bee6-dfd33c9657cc",
   "metadata": {},
   "source": [
    "### Go to opioid-analysis/Resources/NSSATS/NSSATS_PUF_2020_CSV.csv"
   ]
  }
 ],
 "metadata": {
  "kernelspec": {
   "display_name": "Python 3 (ipykernel)",
   "language": "python",
   "name": "python3"
  },
  "language_info": {
   "codemirror_mode": {
    "name": "ipython",
    "version": 3
   },
   "file_extension": ".py",
   "mimetype": "text/x-python",
   "name": "python",
   "nbconvert_exporter": "python",
   "pygments_lexer": "ipython3",
   "version": "3.9.13"
  }
 },
 "nbformat": 4,
 "nbformat_minor": 5
}
