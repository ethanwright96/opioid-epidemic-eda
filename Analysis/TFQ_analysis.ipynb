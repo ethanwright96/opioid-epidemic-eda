{
 "cells": [
  {
   "cell_type": "markdown",
   "id": "815b01eb-92e7-4257-b81a-61460a15fe3c",
   "metadata": {},
   "source": [
    "## Data Collection Procedures for the 2020 N-SSATS\n",
    "### Field period and reference date\n",
    "### The survey reference date for the 2020 N-SSATS was March 31, 2020. The field period was from March 31, 2020, through December 14, 2020.\n",
    "## Survey universe\n",
    "### The 2020 N-SSATS facility universe totaled 19,926 facilities, including all 18,434 active treatment facilities on SAMHSA’s I-BHS at a point five weeks before the survey reference date, and 1,492facilities that were added by state substance abuse agencies or otherwise discovered during the data collection period."
   ]
  },
  {
   "cell_type": "code",
   "execution_count": 55,
   "id": "d8934e32-9430-48ac-ae6a-4c9d6a6e331e",
   "metadata": {},
   "outputs": [],
   "source": [
    "# Dependencies and Setup\n",
    "import numpy as np\n",
    "import matplotlib.pyplot as plt\n",
    "import pandas as pd\n",
    "import scipy.stats as sts"
   ]
  },
  {
   "cell_type": "markdown",
   "id": "6b83c0ae-a84e-43c4-916c-6c6b4a00bc59",
   "metadata": {},
   "source": [
    "### Import opioid mortality rate dataset"
   ]
  },
  {
   "cell_type": "code",
   "execution_count": 65,
   "id": "8b1b1c42-aec9-4e38-9d2f-49e94491342f",
   "metadata": {},
   "outputs": [
    {
     "data": {
      "text/html": [
       "<div>\n",
       "<style scoped>\n",
       "    .dataframe tbody tr th:only-of-type {\n",
       "        vertical-align: middle;\n",
       "    }\n",
       "\n",
       "    .dataframe tbody tr th {\n",
       "        vertical-align: top;\n",
       "    }\n",
       "\n",
       "    .dataframe thead th {\n",
       "        text-align: right;\n",
       "    }\n",
       "</style>\n",
       "<table border=\"1\" class=\"dataframe\">\n",
       "  <thead>\n",
       "    <tr style=\"text-align: right;\">\n",
       "      <th></th>\n",
       "      <th>G_STATEFP</th>\n",
       "      <th>STATEFP</th>\n",
       "      <th>st_abb</th>\n",
       "      <th>st_name</th>\n",
       "      <th>opPrscRt19</th>\n",
       "      <th>prMisuse19</th>\n",
       "      <th>odMortRt14</th>\n",
       "      <th>odMortRt15</th>\n",
       "      <th>odMortRt16</th>\n",
       "      <th>odMortRt17</th>\n",
       "      <th>odMortRt18</th>\n",
       "      <th>odMortRt19</th>\n",
       "      <th>odMortRtAv</th>\n",
       "    </tr>\n",
       "  </thead>\n",
       "  <tbody>\n",
       "    <tr>\n",
       "      <th>0</th>\n",
       "      <td>G01</td>\n",
       "      <td>1</td>\n",
       "      <td>AL</td>\n",
       "      <td>Alabama</td>\n",
       "      <td>39.1</td>\n",
       "      <td>4.55</td>\n",
       "      <td>15.2</td>\n",
       "      <td>15.7</td>\n",
       "      <td>16.2</td>\n",
       "      <td>18.0</td>\n",
       "      <td>16.6</td>\n",
       "      <td>16.3</td>\n",
       "      <td>16.33</td>\n",
       "    </tr>\n",
       "    <tr>\n",
       "      <th>1</th>\n",
       "      <td>G02</td>\n",
       "      <td>2</td>\n",
       "      <td>AK</td>\n",
       "      <td>Alaska</td>\n",
       "      <td>85.8</td>\n",
       "      <td>3.99</td>\n",
       "      <td>16.8</td>\n",
       "      <td>16.0</td>\n",
       "      <td>16.8</td>\n",
       "      <td>20.2</td>\n",
       "      <td>14.6</td>\n",
       "      <td>17.8</td>\n",
       "      <td>17.03</td>\n",
       "    </tr>\n",
       "    <tr>\n",
       "      <th>2</th>\n",
       "      <td>G04</td>\n",
       "      <td>4</td>\n",
       "      <td>AZ</td>\n",
       "      <td>Arizona</td>\n",
       "      <td>80.9</td>\n",
       "      <td>3.80</td>\n",
       "      <td>18.2</td>\n",
       "      <td>19.0</td>\n",
       "      <td>20.3</td>\n",
       "      <td>22.2</td>\n",
       "      <td>23.8</td>\n",
       "      <td>26.8</td>\n",
       "      <td>21.72</td>\n",
       "    </tr>\n",
       "  </tbody>\n",
       "</table>\n",
       "</div>"
      ],
      "text/plain": [
       "  G_STATEFP  STATEFP st_abb  st_name  opPrscRt19  prMisuse19  odMortRt14  \\\n",
       "0       G01        1     AL  Alabama        39.1        4.55        15.2   \n",
       "1       G02        2     AK   Alaska        85.8        3.99        16.8   \n",
       "2       G04        4     AZ  Arizona        80.9        3.80        18.2   \n",
       "\n",
       "   odMortRt15  odMortRt16  odMortRt17  odMortRt18  odMortRt19  odMortRtAv  \n",
       "0        15.7        16.2        18.0        16.6        16.3       16.33  \n",
       "1        16.0        16.8        20.2        14.6        17.8       17.03  \n",
       "2        19.0        20.3        22.2        23.8        26.8       21.72  "
      ]
     },
     "execution_count": 65,
     "metadata": {},
     "output_type": "execute_result"
    }
   ],
   "source": [
    "health04_S_file_path = \"../Resources/Health04/Health04_S.csv\"\n",
    "mortality_data = pd.read_csv(health04_S_file_path)\n",
    "mortality_df = pd.DataFrame(mortality_data)\n",
    "mortality_df.head(3)"
   ]
  },
  {
   "cell_type": "markdown",
   "id": "a7c3ddf3-027a-42c1-9511-d2e245185474",
   "metadata": {},
   "source": [
    "### Before getting carried away, create a dataframe with state abbreviation and opioid mortality rate from mortality_data"
   ]
  },
  {
   "cell_type": "code",
   "execution_count": 86,
   "id": "38241a2f-f77d-44a2-9dac-08eaa2d74089",
   "metadata": {},
   "outputs": [
    {
     "data": {
      "text/html": [
       "<div>\n",
       "<style scoped>\n",
       "    .dataframe tbody tr th:only-of-type {\n",
       "        vertical-align: middle;\n",
       "    }\n",
       "\n",
       "    .dataframe tbody tr th {\n",
       "        vertical-align: top;\n",
       "    }\n",
       "\n",
       "    .dataframe thead th {\n",
       "        text-align: right;\n",
       "    }\n",
       "</style>\n",
       "<table border=\"1\" class=\"dataframe\">\n",
       "  <thead>\n",
       "    <tr style=\"text-align: right;\">\n",
       "      <th></th>\n",
       "      <th>STATE</th>\n",
       "      <th>odMortRtAv</th>\n",
       "    </tr>\n",
       "  </thead>\n",
       "  <tbody>\n",
       "    <tr>\n",
       "      <th>0</th>\n",
       "      <td>AL</td>\n",
       "      <td>16.33</td>\n",
       "    </tr>\n",
       "    <tr>\n",
       "      <th>1</th>\n",
       "      <td>AK</td>\n",
       "      <td>17.03</td>\n",
       "    </tr>\n",
       "    <tr>\n",
       "      <th>2</th>\n",
       "      <td>AZ</td>\n",
       "      <td>21.72</td>\n",
       "    </tr>\n",
       "    <tr>\n",
       "      <th>3</th>\n",
       "      <td>AR</td>\n",
       "      <td>14.18</td>\n",
       "    </tr>\n",
       "    <tr>\n",
       "      <th>4</th>\n",
       "      <td>CA</td>\n",
       "      <td>12.18</td>\n",
       "    </tr>\n",
       "  </tbody>\n",
       "</table>\n",
       "</div>"
      ],
      "text/plain": [
       "  STATE  odMortRtAv\n",
       "0    AL       16.33\n",
       "1    AK       17.03\n",
       "2    AZ       21.72\n",
       "3    AR       14.18\n",
       "4    CA       12.18"
      ]
     },
     "execution_count": 86,
     "metadata": {},
     "output_type": "execute_result"
    }
   ],
   "source": [
    "mort_df = mortality_df.loc[:,['st_abb', 'odMortRtAv']]\n",
    "mort_df = mort_df.rename(columns={'st_abb' : 'STATE', 'odMortRtAv' : 'odMortRtAv'})\n",
    "mort_df.head(5)"
   ]
  },
  {
   "cell_type": "markdown",
   "id": "16799b31-93af-4ef0-bdee-312517287610",
   "metadata": {},
   "source": [
    "### Import treatment facility dataset"
   ]
  },
  {
   "cell_type": "code",
   "execution_count": 87,
   "id": "08ec310d-3832-4847-af88-bef88c18de78",
   "metadata": {},
   "outputs": [
    {
     "data": {
      "text/html": [
       "<div>\n",
       "<style scoped>\n",
       "    .dataframe tbody tr th:only-of-type {\n",
       "        vertical-align: middle;\n",
       "    }\n",
       "\n",
       "    .dataframe tbody tr th {\n",
       "        vertical-align: top;\n",
       "    }\n",
       "\n",
       "    .dataframe thead th {\n",
       "        text-align: right;\n",
       "    }\n",
       "</style>\n",
       "<table border=\"1\" class=\"dataframe\">\n",
       "  <thead>\n",
       "    <tr style=\"text-align: right;\">\n",
       "      <th></th>\n",
       "      <th>CASEID</th>\n",
       "      <th>STATE</th>\n",
       "      <th>STFIPS</th>\n",
       "      <th>DETOX</th>\n",
       "      <th>TREATMT</th>\n",
       "      <th>SMISEDSUD</th>\n",
       "      <th>OWNERSHP</th>\n",
       "      <th>FEDOWN</th>\n",
       "      <th>HOSPITAL</th>\n",
       "      <th>LOCS</th>\n",
       "      <th>...</th>\n",
       "      <th>T_CLIHI_X</th>\n",
       "      <th>T_CLIML_D</th>\n",
       "      <th>T_CLIML_O</th>\n",
       "      <th>T_CLIML_X</th>\n",
       "      <th>T_CLIOP_D</th>\n",
       "      <th>T_CLIOP_O</th>\n",
       "      <th>T_CLIOP_X</th>\n",
       "      <th>T_CLIRC_D</th>\n",
       "      <th>T_CLIRC_O</th>\n",
       "      <th>T_CLIRC_X</th>\n",
       "    </tr>\n",
       "  </thead>\n",
       "  <tbody>\n",
       "    <tr>\n",
       "      <th>0</th>\n",
       "      <td>1</td>\n",
       "      <td>AK</td>\n",
       "      <td>2</td>\n",
       "      <td>0</td>\n",
       "      <td>1</td>\n",
       "      <td>1</td>\n",
       "      <td>6</td>\n",
       "      <td>3.0</td>\n",
       "      <td>0</td>\n",
       "      <td>NaN</td>\n",
       "      <td>...</td>\n",
       "      <td>NaN</td>\n",
       "      <td>NaN</td>\n",
       "      <td>NaN</td>\n",
       "      <td>1.0</td>\n",
       "      <td>NaN</td>\n",
       "      <td>NaN</td>\n",
       "      <td>4.0</td>\n",
       "      <td>NaN</td>\n",
       "      <td>NaN</td>\n",
       "      <td>NaN</td>\n",
       "    </tr>\n",
       "    <tr>\n",
       "      <th>1</th>\n",
       "      <td>2</td>\n",
       "      <td>AK</td>\n",
       "      <td>2</td>\n",
       "      <td>0</td>\n",
       "      <td>1</td>\n",
       "      <td>1</td>\n",
       "      <td>2</td>\n",
       "      <td>NaN</td>\n",
       "      <td>0</td>\n",
       "      <td>NaN</td>\n",
       "      <td>...</td>\n",
       "      <td>NaN</td>\n",
       "      <td>NaN</td>\n",
       "      <td>NaN</td>\n",
       "      <td>NaN</td>\n",
       "      <td>NaN</td>\n",
       "      <td>NaN</td>\n",
       "      <td>NaN</td>\n",
       "      <td>NaN</td>\n",
       "      <td>NaN</td>\n",
       "      <td>4.0</td>\n",
       "    </tr>\n",
       "    <tr>\n",
       "      <th>2</th>\n",
       "      <td>3</td>\n",
       "      <td>AK</td>\n",
       "      <td>2</td>\n",
       "      <td>1</td>\n",
       "      <td>1</td>\n",
       "      <td>0</td>\n",
       "      <td>2</td>\n",
       "      <td>NaN</td>\n",
       "      <td>0</td>\n",
       "      <td>NaN</td>\n",
       "      <td>...</td>\n",
       "      <td>NaN</td>\n",
       "      <td>NaN</td>\n",
       "      <td>1.0</td>\n",
       "      <td>NaN</td>\n",
       "      <td>NaN</td>\n",
       "      <td>1.0</td>\n",
       "      <td>NaN</td>\n",
       "      <td>NaN</td>\n",
       "      <td>NaN</td>\n",
       "      <td>NaN</td>\n",
       "    </tr>\n",
       "  </tbody>\n",
       "</table>\n",
       "<p>3 rows × 262 columns</p>\n",
       "</div>"
      ],
      "text/plain": [
       "   CASEID STATE  STFIPS  DETOX  TREATMT  SMISEDSUD  OWNERSHP  FEDOWN HOSPITAL  \\\n",
       "0       1    AK       2      0        1          1         6     3.0        0   \n",
       "1       2    AK       2      0        1          1         2     NaN        0   \n",
       "2       3    AK       2      1        1          0         2     NaN        0   \n",
       "\n",
       "  LOCS  ...  T_CLIHI_X  T_CLIML_D  T_CLIML_O  T_CLIML_X  T_CLIOP_D  T_CLIOP_O  \\\n",
       "0  NaN  ...        NaN        NaN        NaN        1.0        NaN        NaN   \n",
       "1  NaN  ...        NaN        NaN        NaN        NaN        NaN        NaN   \n",
       "2  NaN  ...        NaN        NaN        1.0        NaN        NaN        1.0   \n",
       "\n",
       "   T_CLIOP_X  T_CLIRC_D  T_CLIRC_O  T_CLIRC_X  \n",
       "0        4.0        NaN        NaN        NaN  \n",
       "1        NaN        NaN        NaN        4.0  \n",
       "2        NaN        NaN        NaN        NaN  \n",
       "\n",
       "[3 rows x 262 columns]"
      ]
     },
     "execution_count": 87,
     "metadata": {},
     "output_type": "execute_result"
    }
   ],
   "source": [
    "nssats_file_path = \"../Resources/NSSATS/NSSATS_PUF_2020_CSV.csv\"\n",
    "\n",
    "facility_data = pd.read_csv(nssats_file_path, low_memory=False)\n",
    "facility_data.head(3)"
   ]
  },
  {
   "cell_type": "code",
   "execution_count": 88,
   "id": "7079cda3-f797-44b2-ae2f-312f3c30e85b",
   "metadata": {},
   "outputs": [
    {
     "data": {
      "text/plain": [
       "(16066, 264)"
      ]
     },
     "execution_count": 88,
     "metadata": {},
     "output_type": "execute_result"
    }
   ],
   "source": [
    "facility_df = pd.DataFrame(data)\n",
    "facility_df.shape"
   ]
  },
  {
   "cell_type": "markdown",
   "id": "6c0b61c1-9475-4601-8912-554bf855be03",
   "metadata": {},
   "source": [
    "### Remove Jurisdictions not included in Health04 dataset"
   ]
  },
  {
   "cell_type": "code",
   "execution_count": 90,
   "id": "b6343914-3144-4507-8064-218683054e55",
   "metadata": {},
   "outputs": [
    {
     "data": {
      "text/plain": [
       "51"
      ]
     },
     "execution_count": 90,
     "metadata": {},
     "output_type": "execute_result"
    }
   ],
   "source": [
    "fac_df = facility_df.loc[facility_df.STATE != 'PR'].loc[facility_df.STATE != 'ZZ']\n",
    "fac_df.STATE.nunique()"
   ]
  },
  {
   "cell_type": "markdown",
   "id": "f757968d-5afb-4df9-9d65-7e903716095c",
   "metadata": {},
   "source": [
    "### Merge mortality and facility dfs"
   ]
  },
  {
   "cell_type": "code",
   "execution_count": 91,
   "id": "03b5f6a9-d080-4980-88ba-064eef7b901e",
   "metadata": {},
   "outputs": [
    {
     "data": {
      "text/html": [
       "<div>\n",
       "<style scoped>\n",
       "    .dataframe tbody tr th:only-of-type {\n",
       "        vertical-align: middle;\n",
       "    }\n",
       "\n",
       "    .dataframe tbody tr th {\n",
       "        vertical-align: top;\n",
       "    }\n",
       "\n",
       "    .dataframe thead th {\n",
       "        text-align: right;\n",
       "    }\n",
       "</style>\n",
       "<table border=\"1\" class=\"dataframe\">\n",
       "  <thead>\n",
       "    <tr style=\"text-align: right;\">\n",
       "      <th></th>\n",
       "      <th>CASEID</th>\n",
       "      <th>STATE</th>\n",
       "      <th>STFIPS</th>\n",
       "      <th>DETOX</th>\n",
       "      <th>TREATMT</th>\n",
       "      <th>SMISEDSUD</th>\n",
       "      <th>OWNERSHP</th>\n",
       "      <th>FEDOWN</th>\n",
       "      <th>HOSPITAL</th>\n",
       "      <th>LOCS</th>\n",
       "      <th>...</th>\n",
       "      <th>T_CLIML_X</th>\n",
       "      <th>T_CLIOP_D</th>\n",
       "      <th>T_CLIOP_O</th>\n",
       "      <th>T_CLIOP_X</th>\n",
       "      <th>T_CLIRC_D</th>\n",
       "      <th>T_CLIRC_O</th>\n",
       "      <th>T_CLIRC_X</th>\n",
       "      <th>TFQ</th>\n",
       "      <th>TFQ_BIN</th>\n",
       "      <th>odMortRtAv</th>\n",
       "    </tr>\n",
       "  </thead>\n",
       "  <tbody>\n",
       "    <tr>\n",
       "      <th>0</th>\n",
       "      <td>1</td>\n",
       "      <td>AK</td>\n",
       "      <td>2</td>\n",
       "      <td>0</td>\n",
       "      <td>1</td>\n",
       "      <td>1</td>\n",
       "      <td>6</td>\n",
       "      <td>3.0</td>\n",
       "      <td>0</td>\n",
       "      <td>NaN</td>\n",
       "      <td>...</td>\n",
       "      <td>1.0</td>\n",
       "      <td>NaN</td>\n",
       "      <td>NaN</td>\n",
       "      <td>4.0</td>\n",
       "      <td>NaN</td>\n",
       "      <td>NaN</td>\n",
       "      <td>NaN</td>\n",
       "      <td>29.0</td>\n",
       "      <td>C</td>\n",
       "      <td>17.03</td>\n",
       "    </tr>\n",
       "    <tr>\n",
       "      <th>1</th>\n",
       "      <td>2</td>\n",
       "      <td>AK</td>\n",
       "      <td>2</td>\n",
       "      <td>0</td>\n",
       "      <td>1</td>\n",
       "      <td>1</td>\n",
       "      <td>2</td>\n",
       "      <td>NaN</td>\n",
       "      <td>0</td>\n",
       "      <td>NaN</td>\n",
       "      <td>...</td>\n",
       "      <td>NaN</td>\n",
       "      <td>NaN</td>\n",
       "      <td>NaN</td>\n",
       "      <td>NaN</td>\n",
       "      <td>NaN</td>\n",
       "      <td>NaN</td>\n",
       "      <td>4.0</td>\n",
       "      <td>39.5</td>\n",
       "      <td>A</td>\n",
       "      <td>17.03</td>\n",
       "    </tr>\n",
       "    <tr>\n",
       "      <th>2</th>\n",
       "      <td>3</td>\n",
       "      <td>AK</td>\n",
       "      <td>2</td>\n",
       "      <td>1</td>\n",
       "      <td>1</td>\n",
       "      <td>0</td>\n",
       "      <td>2</td>\n",
       "      <td>NaN</td>\n",
       "      <td>0</td>\n",
       "      <td>NaN</td>\n",
       "      <td>...</td>\n",
       "      <td>NaN</td>\n",
       "      <td>NaN</td>\n",
       "      <td>1.0</td>\n",
       "      <td>NaN</td>\n",
       "      <td>NaN</td>\n",
       "      <td>NaN</td>\n",
       "      <td>NaN</td>\n",
       "      <td>30.0</td>\n",
       "      <td>B</td>\n",
       "      <td>17.03</td>\n",
       "    </tr>\n",
       "    <tr>\n",
       "      <th>3</th>\n",
       "      <td>4</td>\n",
       "      <td>AK</td>\n",
       "      <td>2</td>\n",
       "      <td>0</td>\n",
       "      <td>1</td>\n",
       "      <td>1</td>\n",
       "      <td>2</td>\n",
       "      <td>NaN</td>\n",
       "      <td>0</td>\n",
       "      <td>NaN</td>\n",
       "      <td>...</td>\n",
       "      <td>NaN</td>\n",
       "      <td>NaN</td>\n",
       "      <td>NaN</td>\n",
       "      <td>NaN</td>\n",
       "      <td>NaN</td>\n",
       "      <td>NaN</td>\n",
       "      <td>2.0</td>\n",
       "      <td>34.5</td>\n",
       "      <td>B</td>\n",
       "      <td>17.03</td>\n",
       "    </tr>\n",
       "    <tr>\n",
       "      <th>4</th>\n",
       "      <td>5</td>\n",
       "      <td>AK</td>\n",
       "      <td>2</td>\n",
       "      <td>1</td>\n",
       "      <td>1</td>\n",
       "      <td>0</td>\n",
       "      <td>2</td>\n",
       "      <td>NaN</td>\n",
       "      <td>0</td>\n",
       "      <td>NaN</td>\n",
       "      <td>...</td>\n",
       "      <td>NaN</td>\n",
       "      <td>NaN</td>\n",
       "      <td>NaN</td>\n",
       "      <td>NaN</td>\n",
       "      <td>NaN</td>\n",
       "      <td>NaN</td>\n",
       "      <td>NaN</td>\n",
       "      <td>43.5</td>\n",
       "      <td>A</td>\n",
       "      <td>17.03</td>\n",
       "    </tr>\n",
       "    <tr>\n",
       "      <th>...</th>\n",
       "      <td>...</td>\n",
       "      <td>...</td>\n",
       "      <td>...</td>\n",
       "      <td>...</td>\n",
       "      <td>...</td>\n",
       "      <td>...</td>\n",
       "      <td>...</td>\n",
       "      <td>...</td>\n",
       "      <td>...</td>\n",
       "      <td>...</td>\n",
       "      <td>...</td>\n",
       "      <td>...</td>\n",
       "      <td>...</td>\n",
       "      <td>...</td>\n",
       "      <td>...</td>\n",
       "      <td>...</td>\n",
       "      <td>...</td>\n",
       "      <td>...</td>\n",
       "      <td>...</td>\n",
       "      <td>...</td>\n",
       "      <td>...</td>\n",
       "    </tr>\n",
       "    <tr>\n",
       "      <th>15950</th>\n",
       "      <td>16052</td>\n",
       "      <td>WY</td>\n",
       "      <td>56</td>\n",
       "      <td>0</td>\n",
       "      <td>1</td>\n",
       "      <td>1</td>\n",
       "      <td>2</td>\n",
       "      <td>NaN</td>\n",
       "      <td>0</td>\n",
       "      <td>NaN</td>\n",
       "      <td>...</td>\n",
       "      <td>1.0</td>\n",
       "      <td>NaN</td>\n",
       "      <td>NaN</td>\n",
       "      <td>4.0</td>\n",
       "      <td>NaN</td>\n",
       "      <td>NaN</td>\n",
       "      <td>NaN</td>\n",
       "      <td>25.5</td>\n",
       "      <td>C</td>\n",
       "      <td>15.13</td>\n",
       "    </tr>\n",
       "    <tr>\n",
       "      <th>15951</th>\n",
       "      <td>16053</td>\n",
       "      <td>WY</td>\n",
       "      <td>56</td>\n",
       "      <td>1</td>\n",
       "      <td>1</td>\n",
       "      <td>1</td>\n",
       "      <td>2</td>\n",
       "      <td>NaN</td>\n",
       "      <td>0</td>\n",
       "      <td>NaN</td>\n",
       "      <td>...</td>\n",
       "      <td>4.0</td>\n",
       "      <td>NaN</td>\n",
       "      <td>NaN</td>\n",
       "      <td>5.0</td>\n",
       "      <td>NaN</td>\n",
       "      <td>NaN</td>\n",
       "      <td>4.0</td>\n",
       "      <td>36.0</td>\n",
       "      <td>A</td>\n",
       "      <td>15.13</td>\n",
       "    </tr>\n",
       "    <tr>\n",
       "      <th>15952</th>\n",
       "      <td>16054</td>\n",
       "      <td>WY</td>\n",
       "      <td>56</td>\n",
       "      <td>0</td>\n",
       "      <td>1</td>\n",
       "      <td>1</td>\n",
       "      <td>2</td>\n",
       "      <td>NaN</td>\n",
       "      <td>0</td>\n",
       "      <td>NaN</td>\n",
       "      <td>...</td>\n",
       "      <td>NaN</td>\n",
       "      <td>3.0</td>\n",
       "      <td>NaN</td>\n",
       "      <td>NaN</td>\n",
       "      <td>NaN</td>\n",
       "      <td>NaN</td>\n",
       "      <td>NaN</td>\n",
       "      <td>33.0</td>\n",
       "      <td>B</td>\n",
       "      <td>15.13</td>\n",
       "    </tr>\n",
       "    <tr>\n",
       "      <th>15953</th>\n",
       "      <td>16055</td>\n",
       "      <td>WY</td>\n",
       "      <td>56</td>\n",
       "      <td>0</td>\n",
       "      <td>1</td>\n",
       "      <td>1</td>\n",
       "      <td>2</td>\n",
       "      <td>NaN</td>\n",
       "      <td>0</td>\n",
       "      <td>NaN</td>\n",
       "      <td>...</td>\n",
       "      <td>1.0</td>\n",
       "      <td>NaN</td>\n",
       "      <td>NaN</td>\n",
       "      <td>3.0</td>\n",
       "      <td>NaN</td>\n",
       "      <td>NaN</td>\n",
       "      <td>NaN</td>\n",
       "      <td>28.0</td>\n",
       "      <td>C</td>\n",
       "      <td>15.13</td>\n",
       "    </tr>\n",
       "    <tr>\n",
       "      <th>15954</th>\n",
       "      <td>16056</td>\n",
       "      <td>WY</td>\n",
       "      <td>56</td>\n",
       "      <td>0</td>\n",
       "      <td>1</td>\n",
       "      <td>1</td>\n",
       "      <td>2</td>\n",
       "      <td>NaN</td>\n",
       "      <td>0</td>\n",
       "      <td>NaN</td>\n",
       "      <td>...</td>\n",
       "      <td>NaN</td>\n",
       "      <td>NaN</td>\n",
       "      <td>NaN</td>\n",
       "      <td>NaN</td>\n",
       "      <td>NaN</td>\n",
       "      <td>NaN</td>\n",
       "      <td>NaN</td>\n",
       "      <td>30.0</td>\n",
       "      <td>B</td>\n",
       "      <td>15.13</td>\n",
       "    </tr>\n",
       "  </tbody>\n",
       "</table>\n",
       "<p>15955 rows × 265 columns</p>\n",
       "</div>"
      ],
      "text/plain": [
       "       CASEID STATE  STFIPS  DETOX  TREATMT  SMISEDSUD  OWNERSHP  FEDOWN  \\\n",
       "0           1    AK       2      0        1          1         6     3.0   \n",
       "1           2    AK       2      0        1          1         2     NaN   \n",
       "2           3    AK       2      1        1          0         2     NaN   \n",
       "3           4    AK       2      0        1          1         2     NaN   \n",
       "4           5    AK       2      1        1          0         2     NaN   \n",
       "...       ...   ...     ...    ...      ...        ...       ...     ...   \n",
       "15950   16052    WY      56      0        1          1         2     NaN   \n",
       "15951   16053    WY      56      1        1          1         2     NaN   \n",
       "15952   16054    WY      56      0        1          1         2     NaN   \n",
       "15953   16055    WY      56      0        1          1         2     NaN   \n",
       "15954   16056    WY      56      0        1          1         2     NaN   \n",
       "\n",
       "      HOSPITAL LOCS  ...  T_CLIML_X  T_CLIOP_D  T_CLIOP_O  T_CLIOP_X  \\\n",
       "0            0  NaN  ...        1.0        NaN        NaN        4.0   \n",
       "1            0  NaN  ...        NaN        NaN        NaN        NaN   \n",
       "2            0  NaN  ...        NaN        NaN        1.0        NaN   \n",
       "3            0  NaN  ...        NaN        NaN        NaN        NaN   \n",
       "4            0  NaN  ...        NaN        NaN        NaN        NaN   \n",
       "...        ...  ...  ...        ...        ...        ...        ...   \n",
       "15950        0  NaN  ...        1.0        NaN        NaN        4.0   \n",
       "15951        0  NaN  ...        4.0        NaN        NaN        5.0   \n",
       "15952        0  NaN  ...        NaN        3.0        NaN        NaN   \n",
       "15953        0  NaN  ...        1.0        NaN        NaN        3.0   \n",
       "15954        0  NaN  ...        NaN        NaN        NaN        NaN   \n",
       "\n",
       "       T_CLIRC_D  T_CLIRC_O  T_CLIRC_X   TFQ  TFQ_BIN  odMortRtAv  \n",
       "0            NaN        NaN        NaN  29.0        C       17.03  \n",
       "1            NaN        NaN        4.0  39.5        A       17.03  \n",
       "2            NaN        NaN        NaN  30.0        B       17.03  \n",
       "3            NaN        NaN        2.0  34.5        B       17.03  \n",
       "4            NaN        NaN        NaN  43.5        A       17.03  \n",
       "...          ...        ...        ...   ...      ...         ...  \n",
       "15950        NaN        NaN        NaN  25.5        C       15.13  \n",
       "15951        NaN        NaN        4.0  36.0        A       15.13  \n",
       "15952        NaN        NaN        NaN  33.0        B       15.13  \n",
       "15953        NaN        NaN        NaN  28.0        C       15.13  \n",
       "15954        NaN        NaN        NaN  30.0        B       15.13  \n",
       "\n",
       "[15955 rows x 265 columns]"
      ]
     },
     "execution_count": 91,
     "metadata": {},
     "output_type": "execute_result"
    }
   ],
   "source": [
    "pd.merge(fac_df, mort_df, on = \"STATE\", how = \"inner\") "
   ]
  },
  {
   "cell_type": "markdown",
   "id": "e8f6260e-6da1-4833-92cd-38c731a57e16",
   "metadata": {},
   "source": [
    "### TFQ Analysis starts here:"
   ]
  },
  {
   "cell_type": "code",
   "execution_count": 38,
   "id": "6f99cff6-b110-4b94-b761-dff016aef33b",
   "metadata": {},
   "outputs": [],
   "source": [
    "a = df.ASSESSMENT #(0-8)\n",
    "b = df.TESTING #(0-9)\n",
    "c = df.TRANSITION #(0-4)\n",
    "d = df.RECOVERY #(0-6)\n",
    "e = df.EDUCATION #(0-10)\n",
    "f = df.PHARMACOTHERAPIES #(0-16)"
   ]
  },
  {
   "cell_type": "code",
   "execution_count": 39,
   "id": "4e1507fa-ce92-487b-b709-3d86b437c606",
   "metadata": {},
   "outputs": [
    {
     "data": {
      "text/plain": [
       "0        29.0\n",
       "1        39.5\n",
       "2        30.0\n",
       "3        34.5\n",
       "4        43.5\n",
       "         ... \n",
       "16051    25.5\n",
       "16052    36.0\n",
       "16053    33.0\n",
       "16054    28.0\n",
       "16055    30.0\n",
       "Name: TFQ, Length: 15955, dtype: float64"
      ]
     },
     "execution_count": 39,
     "metadata": {},
     "output_type": "execute_result"
    }
   ],
   "source": [
    "df['TFQ'] = (a)+(b)+(2*c)+(1.5*d)+(e)+(.5*f)\n",
    "tfq = df.TFQ\n",
    "tfq"
   ]
  },
  {
   "cell_type": "code",
   "execution_count": 40,
   "id": "5fc7126e-dfb2-4a32-b773-4ac018908583",
   "metadata": {},
   "outputs": [
    {
     "data": {
      "text/plain": [
       "<AxesSubplot:ylabel='Frequency'>"
      ]
     },
     "execution_count": 40,
     "metadata": {},
     "output_type": "execute_result"
    },
    {
     "data": {
      "image/png": "[encoded data removed]",
      "text/plain": [
       "<Figure size 640x480 with 1 Axes>"
      ]
     },
     "metadata": {},
     "output_type": "display_data"
    }
   ],
   "source": [
    "tfq.plot.hist()"
   ]
  },
  {
   "cell_type": "code",
   "execution_count": 32,
   "id": "b7c9734b-fb49-4c9d-b9d7-a290514d4d73",
   "metadata": {},
   "outputs": [
    {
     "data": {
      "text/plain": [
       "count    16066.000000\n",
       "mean        28.748724\n",
       "std          9.020898\n",
       "min          1.000000\n",
       "25%         22.500000\n",
       "50%         29.000000\n",
       "75%         35.500000\n",
       "max         52.000000\n",
       "Name: TFQ, dtype: float64"
      ]
     },
     "execution_count": 32,
     "metadata": {},
     "output_type": "execute_result"
    }
   ],
   "source": [
    "tfq.describe()"
   ]
  },
  {
   "cell_type": "code",
   "execution_count": 53,
   "id": "786f047a-4baf-4ebe-a443-b44bad72b729",
   "metadata": {},
   "outputs": [
    {
     "data": {
      "text/plain": [
       "C    4179\n",
       "B    4063\n",
       "D    3976\n",
       "A    3737\n",
       "Name: TFQ_BIN, dtype: int64"
      ]
     },
     "execution_count": 53,
     "metadata": {},
     "output_type": "execute_result"
    }
   ],
   "source": [
    "tfq_bins = [0, 22, 29, 35.5, 52]\n",
    "tfq_bin_names = [\"D\", \"C\", \"B\", \"A\"]\n",
    "\n",
    "df['TFQ_BIN'] = pd.cut(df['TFQ'], tfq_bins, labels=tfq_bin_names, include_lowest=True)\n",
    "df.TFQ_BIN.value_counts()"
   ]
  },
  {
   "cell_type": "code",
   "execution_count": null,
   "id": "a7a9dd64-cc7a-4b3c-aabd-a3a5e6535869",
   "metadata": {},
   "outputs": [],
   "source": []
  },
  {
   "cell_type": "markdown",
   "id": "10f7df3b-9535-4345-aa09-e85a8d91feb7",
   "metadata": {},
   "source": [
    "### Aggregate by State (later on)"
   ]
  },
  {
   "cell_type": "code",
   "execution_count": 51,
   "id": "1d5a8193-8599-4353-a0c8-9e1c7895f9bd",
   "metadata": {},
   "outputs": [
    {
     "data": {
      "text/plain": [
       "<AxesSubplot:ylabel='Frequency'>"
      ]
     },
     "execution_count": 51,
     "metadata": {},
     "output_type": "execute_result"
    },
    {
     "data": {
      "image/png": "[encoded data removed]",
      "text/plain": [
       "<Figure size 500x500 with 1 Axes>"
      ]
     },
     "metadata": {},
     "output_type": "display_data"
    }
   ],
   "source": [
    "tfq_groupby_df = df.groupby('STATE')['TFQ'].mean()\n",
    "tfq_groupby_df.plot.hist(figsize=[5,5],color='purple',edgecolor='black')"
   ]
  },
  {
   "cell_type": "code",
   "execution_count": 50,
   "id": "4ac73a88-ae67-46f1-baa2-fbf0a1107058",
   "metadata": {},
   "outputs": [
    {
     "data": {
      "text/plain": [
       "<AxesSubplot:ylabel='Frequency'>"
      ]
     },
     "execution_count": 50,
     "metadata": {},
     "output_type": "execute_result"
    },
    {
     "data": {
      "image/png": "[encoded data removed]",
      "text/plain": [
       "<Figure size 500x500 with 1 Axes>"
      ]
     },
     "metadata": {},
     "output_type": "display_data"
    }
   ],
   "source": [
    "tfq_groupby_df = df.groupby('STATE')['TFQ'].median()\n",
    "tfq_groupby_df.plot.hist(figsize=[5,5],color='blue',edgecolor='black')"
   ]
  },
  {
   "cell_type": "code",
   "execution_count": null,
   "id": "ad607cd2-9d72-4028-8ea1-9094e4935d6e",
   "metadata": {},
   "outputs": [],
   "source": [
    "### Using the median yields a more normal distribution"
   ]
  },
  {
   "cell_type": "code",
   "execution_count": null,
   "id": "0546dc96-ce41-48ac-a427-696a82469abf",
   "metadata": {},
   "outputs": [],
   "source": []
  },
  {
   "cell_type": "code",
   "execution_count": null,
   "id": "db8cb85a-0851-4257-8cd8-cb5e82591ce9",
   "metadata": {},
   "outputs": [],
   "source": []
  },
  {
   "cell_type": "code",
   "execution_count": null,
   "id": "55afc0dc-7f0d-4694-b8d3-5f0d71bd3e7c",
   "metadata": {},
   "outputs": [],
   "source": []
  },
  {
   "cell_type": "code",
   "execution_count": null,
   "id": "0b051469-2f9f-457b-8535-203eb04db107",
   "metadata": {},
   "outputs": [],
   "source": []
  },
  {
   "cell_type": "code",
   "execution_count": null,
   "id": "224828b0-aaec-4222-b090-4d1490acc3b6",
   "metadata": {},
   "outputs": [],
   "source": []
  },
  {
   "cell_type": "code",
   "execution_count": null,
   "id": "a57a55b3-43b1-4b4b-a0ed-801f09552709",
   "metadata": {},
   "outputs": [],
   "source": []
  },
  {
   "cell_type": "markdown",
   "id": "eaa31188-d6af-473c-82c8-64309416e58b",
   "metadata": {},
   "source": [
    "### Initial EDA Guiding Question: Why is the opioid mortality rate so high in WV?"
   ]
  },
  {
   "cell_type": "code",
   "execution_count": 5,
   "id": "7ddf401c-bcb4-49aa-b941-54f54a903f98",
   "metadata": {},
   "outputs": [
    {
     "data": {
      "text/html": [
       "<div>\n",
       "<style scoped>\n",
       "    .dataframe tbody tr th:only-of-type {\n",
       "        vertical-align: middle;\n",
       "    }\n",
       "\n",
       "    .dataframe tbody tr th {\n",
       "        vertical-align: top;\n",
       "    }\n",
       "\n",
       "    .dataframe thead th {\n",
       "        text-align: right;\n",
       "    }\n",
       "</style>\n",
       "<table border=\"1\" class=\"dataframe\">\n",
       "  <thead>\n",
       "    <tr style=\"text-align: right;\">\n",
       "      <th></th>\n",
       "      <th>CASEID</th>\n",
       "      <th>STATE</th>\n",
       "      <th>STFIPS</th>\n",
       "      <th>DETOX</th>\n",
       "      <th>TREATMT</th>\n",
       "      <th>SMISEDSUD</th>\n",
       "      <th>OWNERSHP</th>\n",
       "      <th>FEDOWN</th>\n",
       "      <th>HOSPITAL</th>\n",
       "      <th>LOCS</th>\n",
       "      <th>...</th>\n",
       "      <th>T_CLIHI_X</th>\n",
       "      <th>T_CLIML_D</th>\n",
       "      <th>T_CLIML_O</th>\n",
       "      <th>T_CLIML_X</th>\n",
       "      <th>T_CLIOP_D</th>\n",
       "      <th>T_CLIOP_O</th>\n",
       "      <th>T_CLIOP_X</th>\n",
       "      <th>T_CLIRC_D</th>\n",
       "      <th>T_CLIRC_O</th>\n",
       "      <th>T_CLIRC_X</th>\n",
       "    </tr>\n",
       "  </thead>\n",
       "  <tbody>\n",
       "    <tr>\n",
       "      <th>15870</th>\n",
       "      <td>15871</td>\n",
       "      <td>WV</td>\n",
       "      <td>54</td>\n",
       "      <td>0</td>\n",
       "      <td>1</td>\n",
       "      <td>1</td>\n",
       "      <td>2</td>\n",
       "      <td>NaN</td>\n",
       "      <td>0</td>\n",
       "      <td>NaN</td>\n",
       "      <td>...</td>\n",
       "      <td>NaN</td>\n",
       "      <td>NaN</td>\n",
       "      <td>NaN</td>\n",
       "      <td>NaN</td>\n",
       "      <td>NaN</td>\n",
       "      <td>NaN</td>\n",
       "      <td>NaN</td>\n",
       "      <td>NaN</td>\n",
       "      <td>NaN</td>\n",
       "      <td>NaN</td>\n",
       "    </tr>\n",
       "    <tr>\n",
       "      <th>15871</th>\n",
       "      <td>15872</td>\n",
       "      <td>WV</td>\n",
       "      <td>54</td>\n",
       "      <td>0</td>\n",
       "      <td>1</td>\n",
       "      <td>1</td>\n",
       "      <td>1</td>\n",
       "      <td>NaN</td>\n",
       "      <td>0</td>\n",
       "      <td>NaN</td>\n",
       "      <td>...</td>\n",
       "      <td>NaN</td>\n",
       "      <td>NaN</td>\n",
       "      <td>NaN</td>\n",
       "      <td>NaN</td>\n",
       "      <td>NaN</td>\n",
       "      <td>NaN</td>\n",
       "      <td>NaN</td>\n",
       "      <td>NaN</td>\n",
       "      <td>NaN</td>\n",
       "      <td>NaN</td>\n",
       "    </tr>\n",
       "    <tr>\n",
       "      <th>15872</th>\n",
       "      <td>15873</td>\n",
       "      <td>WV</td>\n",
       "      <td>54</td>\n",
       "      <td>1</td>\n",
       "      <td>1</td>\n",
       "      <td>0</td>\n",
       "      <td>1</td>\n",
       "      <td>NaN</td>\n",
       "      <td>0</td>\n",
       "      <td>NaN</td>\n",
       "      <td>...</td>\n",
       "      <td>NaN</td>\n",
       "      <td>NaN</td>\n",
       "      <td>5.0</td>\n",
       "      <td>NaN</td>\n",
       "      <td>NaN</td>\n",
       "      <td>5.0</td>\n",
       "      <td>NaN</td>\n",
       "      <td>NaN</td>\n",
       "      <td>NaN</td>\n",
       "      <td>NaN</td>\n",
       "    </tr>\n",
       "    <tr>\n",
       "      <th>15873</th>\n",
       "      <td>15874</td>\n",
       "      <td>WV</td>\n",
       "      <td>54</td>\n",
       "      <td>1</td>\n",
       "      <td>1</td>\n",
       "      <td>0</td>\n",
       "      <td>1</td>\n",
       "      <td>NaN</td>\n",
       "      <td>0</td>\n",
       "      <td>NaN</td>\n",
       "      <td>...</td>\n",
       "      <td>NaN</td>\n",
       "      <td>NaN</td>\n",
       "      <td>4.0</td>\n",
       "      <td>NaN</td>\n",
       "      <td>NaN</td>\n",
       "      <td>4.0</td>\n",
       "      <td>NaN</td>\n",
       "      <td>NaN</td>\n",
       "      <td>NaN</td>\n",
       "      <td>NaN</td>\n",
       "    </tr>\n",
       "    <tr>\n",
       "      <th>15874</th>\n",
       "      <td>15875</td>\n",
       "      <td>WV</td>\n",
       "      <td>54</td>\n",
       "      <td>1</td>\n",
       "      <td>1</td>\n",
       "      <td>0</td>\n",
       "      <td>1</td>\n",
       "      <td>NaN</td>\n",
       "      <td>0</td>\n",
       "      <td>NaN</td>\n",
       "      <td>...</td>\n",
       "      <td>NaN</td>\n",
       "      <td>NaN</td>\n",
       "      <td>5.0</td>\n",
       "      <td>NaN</td>\n",
       "      <td>NaN</td>\n",
       "      <td>5.0</td>\n",
       "      <td>NaN</td>\n",
       "      <td>NaN</td>\n",
       "      <td>NaN</td>\n",
       "      <td>NaN</td>\n",
       "    </tr>\n",
       "  </tbody>\n",
       "</table>\n",
       "<p>5 rows × 262 columns</p>\n",
       "</div>"
      ],
      "text/plain": [
       "       CASEID STATE  STFIPS  DETOX  TREATMT  SMISEDSUD  OWNERSHP  FEDOWN  \\\n",
       "15870   15871    WV      54      0        1          1         2     NaN   \n",
       "15871   15872    WV      54      0        1          1         1     NaN   \n",
       "15872   15873    WV      54      1        1          0         1     NaN   \n",
       "15873   15874    WV      54      1        1          0         1     NaN   \n",
       "15874   15875    WV      54      1        1          0         1     NaN   \n",
       "\n",
       "      HOSPITAL LOCS  ...  T_CLIHI_X  T_CLIML_D  T_CLIML_O  T_CLIML_X  \\\n",
       "15870        0  NaN  ...        NaN        NaN        NaN        NaN   \n",
       "15871        0  NaN  ...        NaN        NaN        NaN        NaN   \n",
       "15872        0  NaN  ...        NaN        NaN        5.0        NaN   \n",
       "15873        0  NaN  ...        NaN        NaN        4.0        NaN   \n",
       "15874        0  NaN  ...        NaN        NaN        5.0        NaN   \n",
       "\n",
       "       T_CLIOP_D  T_CLIOP_O  T_CLIOP_X  T_CLIRC_D  T_CLIRC_O  T_CLIRC_X  \n",
       "15870        NaN        NaN        NaN        NaN        NaN        NaN  \n",
       "15871        NaN        NaN        NaN        NaN        NaN        NaN  \n",
       "15872        NaN        5.0        NaN        NaN        NaN        NaN  \n",
       "15873        NaN        4.0        NaN        NaN        NaN        NaN  \n",
       "15874        NaN        5.0        NaN        NaN        NaN        NaN  \n",
       "\n",
       "[5 rows x 262 columns]"
      ]
     },
     "execution_count": 5,
     "metadata": {},
     "output_type": "execute_result"
    }
   ],
   "source": [
    "WV = df.loc[df.STATE == 'WV']\n",
    "WV.head(5)"
   ]
  },
  {
   "cell_type": "code",
   "execution_count": 6,
   "id": "9b409588-8a0c-4c06-a5d4-e5d279a693eb",
   "metadata": {},
   "outputs": [
    {
     "data": {
      "text/plain": [
       "Index(['CASEID', 'STATE', 'STFIPS', 'DETOX', 'TREATMT', 'SMISEDSUD',\n",
       "       'OWNERSHP', 'FEDOWN', 'HOSPITAL', 'LOCS',\n",
       "       ...\n",
       "       'T_CLIHI_X', 'T_CLIML_D', 'T_CLIML_O', 'T_CLIML_X', 'T_CLIOP_D',\n",
       "       'T_CLIOP_O', 'T_CLIOP_X', 'T_CLIRC_D', 'T_CLIRC_O', 'T_CLIRC_X'],\n",
       "      dtype='object', length=262)"
      ]
     },
     "execution_count": 6,
     "metadata": {},
     "output_type": "execute_result"
    }
   ],
   "source": [
    "columns = WV.columns\n",
    "columns"
   ]
  },
  {
   "cell_type": "code",
   "execution_count": 35,
   "id": "3e2e4dd2-1705-4aae-8fae-732e93fb8d43",
   "metadata": {},
   "outputs": [
    {
     "name": "stdout",
     "output_type": "stream",
     "text": [
      "There are responses from 126 West Virginia treatment centers in this dataset.\n"
     ]
    }
   ],
   "source": [
    "n_caseid = WV.CASEID.count()\n",
    "print(f\"There are responses from {n_caseid} West Virginia treatment centers in this dataset.\") "
   ]
  },
  {
   "cell_type": "code",
   "execution_count": 36,
   "id": "b3727df8-2f01-4490-9ec5-38a7da5770b7",
   "metadata": {},
   "outputs": [
    {
     "data": {
      "text/plain": [
       "0    86\n",
       "1    40\n",
       "Name: DETOX, dtype: int64"
      ]
     },
     "execution_count": 36,
     "metadata": {},
     "output_type": "execute_result"
    }
   ],
   "source": [
    "wv_detox_vc = WV.DETOX.value_counts()\n",
    "wv_detox_vc"
   ]
  },
  {
   "cell_type": "code",
   "execution_count": 37,
   "id": "38784fbd-f370-4fef-93e4-5411b72a2b96",
   "metadata": {},
   "outputs": [
    {
     "name": "stdout",
     "output_type": "stream",
     "text": [
      "86 of 126 treament facilities in WV did not offer detoxification.\n",
      "40 of 126 treament facilities in WV offered detoxification.\n"
     ]
    }
   ],
   "source": [
    "print(f\"{wv_detox_vc[0]} of 126 treament facilities in WV did not offer detoxification.\")\n",
    "print(f\"{wv_detox_vc[1]} of 126 treament facilities in WV offered detoxification.\")"
   ]
  },
  {
   "cell_type": "markdown",
   "id": "1fcd5e66-ad80-44b8-a60a-70bec535f48e",
   "metadata": {},
   "source": [
    "### Discover how to calculate percent offering detoxification"
   ]
  },
  {
   "cell_type": "code",
   "execution_count": 38,
   "id": "38b6bf41-3162-4ead-847d-2551076faf26",
   "metadata": {},
   "outputs": [
    {
     "data": {
      "text/plain": [
       "0.32"
      ]
     },
     "execution_count": 38,
     "metadata": {},
     "output_type": "execute_result"
    }
   ],
   "source": [
    "wv_percent_detox = round(wv_detox_vc[1]/(wv_detox_vc[0]+wv_detox_vc[1]),2)\n",
    "wv_percent_detox"
   ]
  },
  {
   "cell_type": "markdown",
   "id": "2eae2b6a-20cb-40f6-84ef-2cf221e72963",
   "metadata": {},
   "source": [
    "### Question to Group: Which boolean (0,1) variables would we like to loop through to calculate variables?"
   ]
  },
  {
   "cell_type": "markdown",
   "id": "277c399d-a696-43d4-9f51-42135154ae03",
   "metadata": {},
   "source": [
    "### 1.DETOX: Facility offers detoxification\n",
    "### 2.TREATMT: Facility offers substance use treatment\n",
    "### 3.SMISEDSUD: Facility offers treatment for co-occurring serious mental illness (SMI)/serious emotional disturbance (SED) and substance use disorders"
   ]
  },
  {
   "cell_type": "markdown",
   "id": "2eea453a-b0c4-4620-93a0-03f2ef7a1589",
   "metadata": {},
   "source": [
    "### Psuedocode: For every variable_name in my list of Y/N (0/1) variables, calculate value_counts and then calculate % facilities offering said variable"
   ]
  },
  {
   "cell_type": "code",
   "execution_count": 39,
   "id": "ee0fd460-dd43-4917-92d8-1a3791099d93",
   "metadata": {},
   "outputs": [
    {
     "data": {
      "text/plain": [
       "{'DETOX': 0.32, 'TREATMT': 0.99, 'SMISEDSUD': 0.83}"
      ]
     },
     "execution_count": 39,
     "metadata": {},
     "output_type": "execute_result"
    }
   ],
   "source": [
    "important_variables = ['DETOX', 'TREATMT', 'SMISEDSUD']\n",
    "\n",
    "stats = {}\n",
    "for variable in important_variables:\n",
    "    y = WV[variable].value_counts()\n",
    "    z = round(y[1]/(y[0]+y[1]),2)\n",
    "    stats[variable] = z\n",
    "stats"
   ]
  },
  {
   "cell_type": "markdown",
   "id": "32a18dec-52c0-4922-ae16-4ba37789049a",
   "metadata": {},
   "source": [
    "## Note to Group: Loop through the entire dataset to pull a dictionary of these statistics for each Top Ten State"
   ]
  },
  {
   "cell_type": "markdown",
   "id": "149f8d81-b431-4184-a4b5-445b714076ac",
   "metadata": {},
   "source": [
    "### Note from tutoring:\n",
    "### - value_counts are set up by pandas...\n",
    "### - value_counts is a series\n",
    "### - in a series if you request a key that doesnt exist, pandas will return an error"
   ]
  },
  {
   "cell_type": "code",
   "execution_count": 40,
   "id": "1b368fc7-a1eb-4392-ae91-c205e5feb88a",
   "metadata": {},
   "outputs": [
    {
     "data": {
      "text/plain": [
       "{'WV': {'DETOX': 0.32, 'TREATMT': 0.99, 'SMISEDSUD': 0.83},\n",
       " 'DE': {'DETOX': 0.16, 'TREATMT': 1.0, 'SMISEDSUD': 0.82},\n",
       " 'NH': {'DETOX': 0.2, 'TREATMT': 1.0, 'SMISEDSUD': 0.46},\n",
       " 'OH': {'DETOX': 0.29, 'TREATMT': 0.99, 'SMISEDSUD': 0.62},\n",
       " 'PA': {'DETOX': 0.18, 'TREATMT': 1.0, 'SMISEDSUD': 0.4},\n",
       " 'KY': {'DETOX': 0.21, 'TREATMT': 1.0, 'SMISEDSUD': 0.7},\n",
       " 'MD': {'DETOX': 0.24, 'TREATMT': 0.99, 'SMISEDSUD': 0.57},\n",
       " 'MA': {'DETOX': 0.2, 'TREATMT': 0.99, 'SMISEDSUD': 0.63},\n",
       " 'ME': {'DETOX': 0.07, 'TREATMT': 0.99, 'SMISEDSUD': 0.67},\n",
       " 'RI': {'DETOX': 0.37, 'TREATMT': 0.98, 'SMISEDSUD': 0.59}}"
      ]
     },
     "execution_count": 40,
     "metadata": {},
     "output_type": "execute_result"
    }
   ],
   "source": [
    "top_ten_states = ['WV', 'DE', 'NH', 'OH', 'PA', 'KY', 'MD', 'MA', 'ME', 'RI']\n",
    "\n",
    "important_variables = ['DETOX', 'TREATMT', 'SMISEDSUD']\n",
    "\n",
    "full_dict = {}\n",
    "for state in top_ten_states:\n",
    "    subset = df.loc[df['STATE'] == state]\n",
    "    stats = {}\n",
    "    for variable in important_variables:\n",
    "        y = subset[variable].value_counts()\n",
    "        try:\n",
    "            n_false = y[0]\n",
    "        except:\n",
    "            n_false = 0\n",
    "        try:\n",
    "            n_true = y[1]\n",
    "        except:\n",
    "            n_true = 0\n",
    "        z = round(n_true/(n_false + n_true),2)\n",
    "        stats[variable] = z\n",
    "    full_dict[state] = stats\n",
    "full_dict"
   ]
  },
  {
   "cell_type": "code",
   "execution_count": 41,
   "id": "da491b13-f67f-41b2-8a37-07cbc89bf274",
   "metadata": {},
   "outputs": [
    {
     "data": {
      "text/html": [
       "<div>\n",
       "<style scoped>\n",
       "    .dataframe tbody tr th:only-of-type {\n",
       "        vertical-align: middle;\n",
       "    }\n",
       "\n",
       "    .dataframe tbody tr th {\n",
       "        vertical-align: top;\n",
       "    }\n",
       "\n",
       "    .dataframe thead th {\n",
       "        text-align: right;\n",
       "    }\n",
       "</style>\n",
       "<table border=\"1\" class=\"dataframe\">\n",
       "  <thead>\n",
       "    <tr style=\"text-align: right;\">\n",
       "      <th></th>\n",
       "      <th>WV</th>\n",
       "      <th>DE</th>\n",
       "      <th>NH</th>\n",
       "      <th>OH</th>\n",
       "      <th>PA</th>\n",
       "      <th>KY</th>\n",
       "      <th>MD</th>\n",
       "      <th>MA</th>\n",
       "      <th>ME</th>\n",
       "      <th>RI</th>\n",
       "    </tr>\n",
       "  </thead>\n",
       "  <tbody>\n",
       "    <tr>\n",
       "      <th>DETOX</th>\n",
       "      <td>0.32</td>\n",
       "      <td>0.16</td>\n",
       "      <td>0.20</td>\n",
       "      <td>0.29</td>\n",
       "      <td>0.18</td>\n",
       "      <td>0.21</td>\n",
       "      <td>0.24</td>\n",
       "      <td>0.20</td>\n",
       "      <td>0.07</td>\n",
       "      <td>0.37</td>\n",
       "    </tr>\n",
       "    <tr>\n",
       "      <th>TREATMT</th>\n",
       "      <td>0.99</td>\n",
       "      <td>1.00</td>\n",
       "      <td>1.00</td>\n",
       "      <td>0.99</td>\n",
       "      <td>1.00</td>\n",
       "      <td>1.00</td>\n",
       "      <td>0.99</td>\n",
       "      <td>0.99</td>\n",
       "      <td>0.99</td>\n",
       "      <td>0.98</td>\n",
       "    </tr>\n",
       "    <tr>\n",
       "      <th>SMISEDSUD</th>\n",
       "      <td>0.83</td>\n",
       "      <td>0.82</td>\n",
       "      <td>0.46</td>\n",
       "      <td>0.62</td>\n",
       "      <td>0.40</td>\n",
       "      <td>0.70</td>\n",
       "      <td>0.57</td>\n",
       "      <td>0.63</td>\n",
       "      <td>0.67</td>\n",
       "      <td>0.59</td>\n",
       "    </tr>\n",
       "  </tbody>\n",
       "</table>\n",
       "</div>"
      ],
      "text/plain": [
       "             WV    DE    NH    OH    PA    KY    MD    MA    ME    RI\n",
       "DETOX      0.32  0.16  0.20  0.29  0.18  0.21  0.24  0.20  0.07  0.37\n",
       "TREATMT    0.99  1.00  1.00  0.99  1.00  1.00  0.99  0.99  0.99  0.98\n",
       "SMISEDSUD  0.83  0.82  0.46  0.62  0.40  0.70  0.57  0.63  0.67  0.59"
      ]
     },
     "execution_count": 41,
     "metadata": {},
     "output_type": "execute_result"
    }
   ],
   "source": [
    "stats_df = pd.DataFrame(full_dict)\n",
    "stats_df"
   ]
  },
  {
   "cell_type": "code",
   "execution_count": 42,
   "id": "bdc9c8c7-4fa9-49ed-aab8-569decf538fb",
   "metadata": {},
   "outputs": [
    {
     "data": {
      "image/png": "[encoded data removed]",
      "text/plain": [
       "<Figure size 640x480 with 1 Axes>"
      ]
     },
     "metadata": {},
     "output_type": "display_data"
    }
   ],
   "source": [
    "stats_df.iloc[0].plot.box()\n",
    "plt.show()"
   ]
  },
  {
   "cell_type": "code",
   "execution_count": 51,
   "id": "07741c7c-4aec-4f83-87fc-60fa45f8a8c6",
   "metadata": {},
   "outputs": [
    {
     "data": {
      "image/png": "[encoded data removed]",
      "text/plain": [
       "<Figure size 640x480 with 1 Axes>"
      ]
     },
     "metadata": {},
     "output_type": "display_data"
    }
   ],
   "source": [
    "stats_df.iloc[0].sort_values(ascending=True).plot.bar()\n",
    "plt.title('Percent of Treatment Facilities among \"Top Ten\" offering Detoxification (N=126)',size=9)\n",
    "plt.show()"
   ]
  },
  {
   "cell_type": "code",
   "execution_count": 44,
   "id": "88923142-b0f3-4819-bba8-b07f5312f103",
   "metadata": {},
   "outputs": [
    {
     "data": {
      "text/plain": [
       "{'AK': {'DETOX': 0.11, 'TREATMT': 0.99, 'SMISEDSUD': 0.69},\n",
       " 'AL': {'DETOX': 0.2, 'TREATMT': 0.95, 'SMISEDSUD': 0.48},\n",
       " 'AR': {'DETOX': 0.15, 'TREATMT': 0.98, 'SMISEDSUD': 0.72},\n",
       " 'AZ': {'DETOX': 0.23, 'TREATMT': 0.99, 'SMISEDSUD': 0.67},\n",
       " 'CA': {'DETOX': 0.39, 'TREATMT': 0.99, 'SMISEDSUD': 0.54},\n",
       " 'CO': {'DETOX': 0.15, 'TREATMT': 0.99, 'SMISEDSUD': 0.64},\n",
       " 'CT': {'DETOX': 0.18, 'TREATMT': 0.98, 'SMISEDSUD': 0.77},\n",
       " 'DC': {'DETOX': 0.18, 'TREATMT': 1.0, 'SMISEDSUD': 0.61},\n",
       " 'DE': {'DETOX': 0.16, 'TREATMT': 1.0, 'SMISEDSUD': 0.82},\n",
       " 'FL': {'DETOX': 0.27, 'TREATMT': 0.98, 'SMISEDSUD': 0.67},\n",
       " 'GA': {'DETOX': 0.26, 'TREATMT': 0.99, 'SMISEDSUD': 0.6},\n",
       " 'HI': {'DETOX': 0.12, 'TREATMT': 1.0, 'SMISEDSUD': 0.25},\n",
       " 'IA': {'DETOX': 0.12, 'TREATMT': 1.0, 'SMISEDSUD': 0.63},\n",
       " 'ID': {'DETOX': 0.15, 'TREATMT': 1.0, 'SMISEDSUD': 0.88},\n",
       " 'IL': {'DETOX': 0.18, 'TREATMT': 0.99, 'SMISEDSUD': 0.54},\n",
       " 'IN': {'DETOX': 0.23, 'TREATMT': 1.0, 'SMISEDSUD': 0.64},\n",
       " 'KS': {'DETOX': 0.14, 'TREATMT': 0.98, 'SMISEDSUD': 0.51},\n",
       " 'KY': {'DETOX': 0.21, 'TREATMT': 1.0, 'SMISEDSUD': 0.7},\n",
       " 'LA': {'DETOX': 0.35, 'TREATMT': 1.0, 'SMISEDSUD': 0.61},\n",
       " 'MA': {'DETOX': 0.2, 'TREATMT': 0.99, 'SMISEDSUD': 0.63},\n",
       " 'MD': {'DETOX': 0.24, 'TREATMT': 0.99, 'SMISEDSUD': 0.57},\n",
       " 'ME': {'DETOX': 0.07, 'TREATMT': 0.99, 'SMISEDSUD': 0.67},\n",
       " 'MI': {'DETOX': 0.18, 'TREATMT': 0.99, 'SMISEDSUD': 0.65},\n",
       " 'MN': {'DETOX': 0.07, 'TREATMT': 0.99, 'SMISEDSUD': 0.49},\n",
       " 'MO': {'DETOX': 0.21, 'TREATMT': 0.99, 'SMISEDSUD': 0.71},\n",
       " 'MS': {'DETOX': 0.32, 'TREATMT': 0.98, 'SMISEDSUD': 0.78},\n",
       " 'MT': {'DETOX': 0.09, 'TREATMT': 1.0, 'SMISEDSUD': 0.72},\n",
       " 'NC': {'DETOX': 0.23, 'TREATMT': 0.98, 'SMISEDSUD': 0.64},\n",
       " 'ND': {'DETOX': 0.22, 'TREATMT': 0.98, 'SMISEDSUD': 0.37},\n",
       " 'NE': {'DETOX': 0.11, 'TREATMT': 0.99, 'SMISEDSUD': 0.73},\n",
       " 'NH': {'DETOX': 0.2, 'TREATMT': 1.0, 'SMISEDSUD': 0.46},\n",
       " 'NJ': {'DETOX': 0.17, 'TREATMT': 0.99, 'SMISEDSUD': 0.68},\n",
       " 'NM': {'DETOX': 0.15, 'TREATMT': 0.99, 'SMISEDSUD': 0.77},\n",
       " 'NV': {'DETOX': 0.37, 'TREATMT': 0.99, 'SMISEDSUD': 0.79},\n",
       " 'NY': {'DETOX': 0.2, 'TREATMT': 0.98, 'SMISEDSUD': 0.52},\n",
       " 'OH': {'DETOX': 0.29, 'TREATMT': 0.99, 'SMISEDSUD': 0.62},\n",
       " 'OK': {'DETOX': 0.16, 'TREATMT': 0.99, 'SMISEDSUD': 0.67},\n",
       " 'OR': {'DETOX': 0.16, 'TREATMT': 0.98, 'SMISEDSUD': 0.45},\n",
       " 'PA': {'DETOX': 0.18, 'TREATMT': 1.0, 'SMISEDSUD': 0.4},\n",
       " 'PR': {'DETOX': 0.29, 'TREATMT': 0.96, 'SMISEDSUD': 0.49},\n",
       " 'RI': {'DETOX': 0.37, 'TREATMT': 0.98, 'SMISEDSUD': 0.59},\n",
       " 'SC': {'DETOX': 0.21, 'TREATMT': 0.99, 'SMISEDSUD': 0.39},\n",
       " 'SD': {'DETOX': 0.12, 'TREATMT': 1.0, 'SMISEDSUD': 0.53},\n",
       " 'TN': {'DETOX': 0.21, 'TREATMT': 1.0, 'SMISEDSUD': 0.69},\n",
       " 'TX': {'DETOX': 0.29, 'TREATMT': 1.0, 'SMISEDSUD': 0.53},\n",
       " 'UT': {'DETOX': 0.29, 'TREATMT': 0.98, 'SMISEDSUD': 0.79},\n",
       " 'VA': {'DETOX': 0.23, 'TREATMT': 1.0, 'SMISEDSUD': 0.73},\n",
       " 'VT': {'DETOX': 0.19, 'TREATMT': 0.98, 'SMISEDSUD': 0.67},\n",
       " 'WA': {'DETOX': 0.11, 'TREATMT': 0.99, 'SMISEDSUD': 0.49},\n",
       " 'WI': {'DETOX': 0.17, 'TREATMT': 0.99, 'SMISEDSUD': 0.72},\n",
       " 'WV': {'DETOX': 0.32, 'TREATMT': 0.99, 'SMISEDSUD': 0.83},\n",
       " 'WY': {'DETOX': 0.27, 'TREATMT': 1.0, 'SMISEDSUD': 0.88},\n",
       " 'ZZ': {'DETOX': 0.7, 'TREATMT': 1.0, 'SMISEDSUD': 0.8}}"
      ]
     },
     "execution_count": 44,
     "metadata": {},
     "output_type": "execute_result"
    }
   ],
   "source": [
    "states = list(df['STATE'].unique())\n",
    "\n",
    "important_variables = ['DETOX', 'TREATMT', 'SMISEDSUD']\n",
    "\n",
    "full_dict = {}\n",
    "for state in states:\n",
    "    subset = df.loc[df['STATE'] == state]\n",
    "    stats = {}\n",
    "    for variable in important_variables:\n",
    "        y = subset[variable].value_counts()\n",
    "        try:\n",
    "            n_false = y[0]\n",
    "        except:\n",
    "            n_false = 0\n",
    "        try:\n",
    "            n_true = y[1]\n",
    "        except:\n",
    "            n_true = 0\n",
    "        z = round(n_true/(n_false + n_true),2)\n",
    "        stats[variable] = z\n",
    "    full_dict[state] = stats\n",
    "full_dict"
   ]
  },
  {
   "cell_type": "code",
   "execution_count": 45,
   "id": "71e52c6d-2bda-43a2-a7d7-19db3dd497d4",
   "metadata": {},
   "outputs": [
    {
     "data": {
      "text/html": [
       "<div>\n",
       "<style scoped>\n",
       "    .dataframe tbody tr th:only-of-type {\n",
       "        vertical-align: middle;\n",
       "    }\n",
       "\n",
       "    .dataframe tbody tr th {\n",
       "        vertical-align: top;\n",
       "    }\n",
       "\n",
       "    .dataframe thead th {\n",
       "        text-align: right;\n",
       "    }\n",
       "</style>\n",
       "<table border=\"1\" class=\"dataframe\">\n",
       "  <thead>\n",
       "    <tr style=\"text-align: right;\">\n",
       "      <th></th>\n",
       "      <th>AK</th>\n",
       "      <th>AL</th>\n",
       "      <th>AR</th>\n",
       "      <th>AZ</th>\n",
       "      <th>CA</th>\n",
       "      <th>CO</th>\n",
       "      <th>CT</th>\n",
       "      <th>DC</th>\n",
       "      <th>DE</th>\n",
       "      <th>FL</th>\n",
       "      <th>...</th>\n",
       "      <th>TN</th>\n",
       "      <th>TX</th>\n",
       "      <th>UT</th>\n",
       "      <th>VA</th>\n",
       "      <th>VT</th>\n",
       "      <th>WA</th>\n",
       "      <th>WI</th>\n",
       "      <th>WV</th>\n",
       "      <th>WY</th>\n",
       "      <th>ZZ</th>\n",
       "    </tr>\n",
       "  </thead>\n",
       "  <tbody>\n",
       "    <tr>\n",
       "      <th>DETOX</th>\n",
       "      <td>0.11</td>\n",
       "      <td>0.20</td>\n",
       "      <td>0.15</td>\n",
       "      <td>0.23</td>\n",
       "      <td>0.39</td>\n",
       "      <td>0.15</td>\n",
       "      <td>0.18</td>\n",
       "      <td>0.18</td>\n",
       "      <td>0.16</td>\n",
       "      <td>0.27</td>\n",
       "      <td>...</td>\n",
       "      <td>0.21</td>\n",
       "      <td>0.29</td>\n",
       "      <td>0.29</td>\n",
       "      <td>0.23</td>\n",
       "      <td>0.19</td>\n",
       "      <td>0.11</td>\n",
       "      <td>0.17</td>\n",
       "      <td>0.32</td>\n",
       "      <td>0.27</td>\n",
       "      <td>0.7</td>\n",
       "    </tr>\n",
       "    <tr>\n",
       "      <th>TREATMT</th>\n",
       "      <td>0.99</td>\n",
       "      <td>0.95</td>\n",
       "      <td>0.98</td>\n",
       "      <td>0.99</td>\n",
       "      <td>0.99</td>\n",
       "      <td>0.99</td>\n",
       "      <td>0.98</td>\n",
       "      <td>1.00</td>\n",
       "      <td>1.00</td>\n",
       "      <td>0.98</td>\n",
       "      <td>...</td>\n",
       "      <td>1.00</td>\n",
       "      <td>1.00</td>\n",
       "      <td>0.98</td>\n",
       "      <td>1.00</td>\n",
       "      <td>0.98</td>\n",
       "      <td>0.99</td>\n",
       "      <td>0.99</td>\n",
       "      <td>0.99</td>\n",
       "      <td>1.00</td>\n",
       "      <td>1.0</td>\n",
       "    </tr>\n",
       "    <tr>\n",
       "      <th>SMISEDSUD</th>\n",
       "      <td>0.69</td>\n",
       "      <td>0.48</td>\n",
       "      <td>0.72</td>\n",
       "      <td>0.67</td>\n",
       "      <td>0.54</td>\n",
       "      <td>0.64</td>\n",
       "      <td>0.77</td>\n",
       "      <td>0.61</td>\n",
       "      <td>0.82</td>\n",
       "      <td>0.67</td>\n",
       "      <td>...</td>\n",
       "      <td>0.69</td>\n",
       "      <td>0.53</td>\n",
       "      <td>0.79</td>\n",
       "      <td>0.73</td>\n",
       "      <td>0.67</td>\n",
       "      <td>0.49</td>\n",
       "      <td>0.72</td>\n",
       "      <td>0.83</td>\n",
       "      <td>0.88</td>\n",
       "      <td>0.8</td>\n",
       "    </tr>\n",
       "  </tbody>\n",
       "</table>\n",
       "<p>3 rows × 53 columns</p>\n",
       "</div>"
      ],
      "text/plain": [
       "             AK    AL    AR    AZ    CA    CO    CT    DC    DE    FL  ...  \\\n",
       "DETOX      0.11  0.20  0.15  0.23  0.39  0.15  0.18  0.18  0.16  0.27  ...   \n",
       "TREATMT    0.99  0.95  0.98  0.99  0.99  0.99  0.98  1.00  1.00  0.98  ...   \n",
       "SMISEDSUD  0.69  0.48  0.72  0.67  0.54  0.64  0.77  0.61  0.82  0.67  ...   \n",
       "\n",
       "             TN    TX    UT    VA    VT    WA    WI    WV    WY   ZZ  \n",
       "DETOX      0.21  0.29  0.29  0.23  0.19  0.11  0.17  0.32  0.27  0.7  \n",
       "TREATMT    1.00  1.00  0.98  1.00  0.98  0.99  0.99  0.99  1.00  1.0  \n",
       "SMISEDSUD  0.69  0.53  0.79  0.73  0.67  0.49  0.72  0.83  0.88  0.8  \n",
       "\n",
       "[3 rows x 53 columns]"
      ]
     },
     "execution_count": 45,
     "metadata": {},
     "output_type": "execute_result"
    }
   ],
   "source": [
    "full_stats_df = pd.DataFrame(full_dict)\n",
    "full_stats_df"
   ]
  },
  {
   "cell_type": "code",
   "execution_count": 46,
   "id": "36cb0f23-02be-445f-823b-7ad6a2343710",
   "metadata": {},
   "outputs": [],
   "source": [
    "stats_df_drop_ZZ = full_stats_df.drop(columns='ZZ')"
   ]
  },
  {
   "cell_type": "code",
   "execution_count": 47,
   "id": "0b541a17-5c99-4a86-b48e-7c199f72ae31",
   "metadata": {},
   "outputs": [
    {
     "data": {
      "text/plain": [
       "<AxesSubplot:>"
      ]
     },
     "execution_count": 47,
     "metadata": {},
     "output_type": "execute_result"
    },
    {
     "data": {
      "image/png": "[encoded data removed]",
      "text/plain": [
       "<Figure size 1500x1000 with 1 Axes>"
      ]
     },
     "metadata": {},
     "output_type": "display_data"
    }
   ],
   "source": [
    "stats_df_drop_ZZ.iloc[0].sort_values(ascending=False).plot.bar(figsize = [15,10])"
   ]
  },
  {
   "cell_type": "code",
   "execution_count": 48,
   "id": "0ec4b421-4888-4384-85f8-603937c2492c",
   "metadata": {},
   "outputs": [
    {
     "data": {
      "text/plain": [
       "<AxesSubplot:>"
      ]
     },
     "execution_count": 48,
     "metadata": {},
     "output_type": "execute_result"
    },
    {
     "data": {
      "image/png": "[encoded data removed]",
      "text/plain": [
       "<Figure size 1500x1000 with 1 Axes>"
      ]
     },
     "metadata": {},
     "output_type": "display_data"
    }
   ],
   "source": [
    "stats_df_drop_ZZ.iloc[2].sort_values(ascending=False).plot.bar(figsize = [15,10])"
   ]
  },
  {
   "cell_type": "code",
   "execution_count": 50,
   "id": "fac7952a-5706-434e-90a4-e6cda3c9413a",
   "metadata": {},
   "outputs": [
    {
     "data": {
      "text/plain": [
       "52"
      ]
     },
     "execution_count": 50,
     "metadata": {},
     "output_type": "execute_result"
    }
   ],
   "source": [
    "stats_df_transposed = stats_df_drop_ZZ.T\n",
    "len(stats_df_transposed)"
   ]
  },
  {
   "cell_type": "markdown",
   "id": "806bdfb3-4e2e-4126-b5b5-a354aa2e2374",
   "metadata": {},
   "source": [
    "### For later...\n",
    "### ASSESSMENT: Number of assessment and pre-treatment services offered by this facility (0-8) (pg.31)"
   ]
  },
  {
   "cell_type": "code",
   "execution_count": null,
   "id": "6af5f953-ebd5-40c9-9c88-8da3b855daf4",
   "metadata": {},
   "outputs": [],
   "source": [
    "for col in columns:\n",
    "    print(col)"
   ]
  },
  {
   "cell_type": "code",
   "execution_count": null,
   "id": "00c980cd-ff62-4013-8235-487d6b2aa59f",
   "metadata": {},
   "outputs": [],
   "source": [
    "df = pd.DataFrame(data)"
   ]
  },
  {
   "cell_type": "code",
   "execution_count": 4,
   "id": "e418279f-554f-4c18-81ed-de4c3efaaf3b",
   "metadata": {},
   "outputs": [],
   "source": [
    "top_ten_states = ['WV', 'DE', 'NH', 'OH', 'PA', 'KY', 'MD', 'MA', 'ME', 'RI']"
   ]
  }
 ],
 "metadata": {
  "kernelspec": {
   "display_name": "Python 3 (ipykernel)",
   "language": "python",
   "name": "python3"
  },
  "language_info": {
   "codemirror_mode": {
    "name": "ipython",
    "version": 3
   },
   "file_extension": ".py",
   "mimetype": "text/x-python",
   "name": "python",
   "nbconvert_exporter": "python",
   "pygments_lexer": "ipython3",
   "version": "3.9.13"
  }
 },
 "nbformat": 4,
 "nbformat_minor": 5
}
