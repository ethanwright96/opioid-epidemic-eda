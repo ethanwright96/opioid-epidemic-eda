{
 "cells": [
  {
   "cell_type": "markdown",
   "id": "9da2197b-c5dc-4e1b-9114-7854e37f7f29",
   "metadata": {},
   "source": [
    "# Opioid Epidemic Exploratory Data Analysis"
   ]
  },
  {
   "cell_type": "markdown",
   "id": "00e7ed9c-b1a8-44cc-bf3e-09e862b28ba1",
   "metadata": {},
   "source": [
    "### Sources:\n",
    "### 1. OEPS Health04_S\n",
    "### 2. NSSATS_PUF_2020"
   ]
  },
  {
   "cell_type": "code",
   "execution_count": 36,
   "id": "d8934e32-9430-48ac-ae6a-4c9d6a6e331e",
   "metadata": {},
   "outputs": [],
   "source": [
    "# Dependencies and Setup\n",
    "import numpy as np\n",
    "import matplotlib.pyplot as plt\n",
    "import pandas as pd\n",
    "import scipy.stats as sts\n",
    "import seaborn\n",
    "import pingouin as pg\n",
    "from pingouin import pairwise_ttests"
   ]
  },
  {
   "cell_type": "markdown",
   "id": "6b83c0ae-a84e-43c4-916c-6c6b4a00bc59",
   "metadata": {},
   "source": [
    "### Import opioid mortality rate dataset"
   ]
  },
  {
   "cell_type": "code",
   "execution_count": 37,
   "id": "8b1b1c42-aec9-4e38-9d2f-49e94491342f",
   "metadata": {},
   "outputs": [
    {
     "data": {
      "text/html": [
       "<div>\n",
       "<style scoped>\n",
       "    .dataframe tbody tr th:only-of-type {\n",
       "        vertical-align: middle;\n",
       "    }\n",
       "\n",
       "    .dataframe tbody tr th {\n",
       "        vertical-align: top;\n",
       "    }\n",
       "\n",
       "    .dataframe thead th {\n",
       "        text-align: right;\n",
       "    }\n",
       "</style>\n",
       "<table border=\"1\" class=\"dataframe\">\n",
       "  <thead>\n",
       "    <tr style=\"text-align: right;\">\n",
       "      <th></th>\n",
       "      <th>G_STATEFP</th>\n",
       "      <th>STATEFP</th>\n",
       "      <th>st_abb</th>\n",
       "      <th>st_name</th>\n",
       "      <th>opPrscRt19</th>\n",
       "      <th>prMisuse19</th>\n",
       "      <th>odMortRt14</th>\n",
       "      <th>odMortRt15</th>\n",
       "      <th>odMortRt16</th>\n",
       "      <th>odMortRt17</th>\n",
       "      <th>odMortRt18</th>\n",
       "      <th>odMortRt19</th>\n",
       "      <th>odMortRtAv</th>\n",
       "    </tr>\n",
       "  </thead>\n",
       "  <tbody>\n",
       "    <tr>\n",
       "      <th>0</th>\n",
       "      <td>G01</td>\n",
       "      <td>1</td>\n",
       "      <td>AL</td>\n",
       "      <td>Alabama</td>\n",
       "      <td>39.1</td>\n",
       "      <td>4.55</td>\n",
       "      <td>15.2</td>\n",
       "      <td>15.7</td>\n",
       "      <td>16.2</td>\n",
       "      <td>18.0</td>\n",
       "      <td>16.6</td>\n",
       "      <td>16.3</td>\n",
       "      <td>16.33</td>\n",
       "    </tr>\n",
       "    <tr>\n",
       "      <th>1</th>\n",
       "      <td>G02</td>\n",
       "      <td>2</td>\n",
       "      <td>AK</td>\n",
       "      <td>Alaska</td>\n",
       "      <td>85.8</td>\n",
       "      <td>3.99</td>\n",
       "      <td>16.8</td>\n",
       "      <td>16.0</td>\n",
       "      <td>16.8</td>\n",
       "      <td>20.2</td>\n",
       "      <td>14.6</td>\n",
       "      <td>17.8</td>\n",
       "      <td>17.03</td>\n",
       "    </tr>\n",
       "    <tr>\n",
       "      <th>2</th>\n",
       "      <td>G04</td>\n",
       "      <td>4</td>\n",
       "      <td>AZ</td>\n",
       "      <td>Arizona</td>\n",
       "      <td>80.9</td>\n",
       "      <td>3.80</td>\n",
       "      <td>18.2</td>\n",
       "      <td>19.0</td>\n",
       "      <td>20.3</td>\n",
       "      <td>22.2</td>\n",
       "      <td>23.8</td>\n",
       "      <td>26.8</td>\n",
       "      <td>21.72</td>\n",
       "    </tr>\n",
       "  </tbody>\n",
       "</table>\n",
       "</div>"
      ],
      "text/plain": [
       "  G_STATEFP  STATEFP st_abb  st_name  opPrscRt19  prMisuse19  odMortRt14  \\\n",
       "0       G01        1     AL  Alabama        39.1        4.55        15.2   \n",
       "1       G02        2     AK   Alaska        85.8        3.99        16.8   \n",
       "2       G04        4     AZ  Arizona        80.9        3.80        18.2   \n",
       "\n",
       "   odMortRt15  odMortRt16  odMortRt17  odMortRt18  odMortRt19  odMortRtAv  \n",
       "0        15.7        16.2        18.0        16.6        16.3       16.33  \n",
       "1        16.0        16.8        20.2        14.6        17.8       17.03  \n",
       "2        19.0        20.3        22.2        23.8        26.8       21.72  "
      ]
     },
     "execution_count": 37,
     "metadata": {},
     "output_type": "execute_result"
    }
   ],
   "source": [
    "health04_S_file_path = \"../Resources/Health04/Health04_S.csv\"\n",
    "mortality_data = pd.read_csv(health04_S_file_path)\n",
    "mortality_df = pd.DataFrame(mortality_data)\n",
    "mortality_df.head(3)"
   ]
  },
  {
   "cell_type": "markdown",
   "id": "a7c3ddf3-027a-42c1-9511-d2e245185474",
   "metadata": {},
   "source": [
    "### Create a dataframe with state abbreviation and opioid mortality rate from mortality_data"
   ]
  },
  {
   "cell_type": "code",
   "execution_count": 38,
   "id": "38241a2f-f77d-44a2-9dac-08eaa2d74089",
   "metadata": {},
   "outputs": [
    {
     "data": {
      "text/html": [
       "<div>\n",
       "<style scoped>\n",
       "    .dataframe tbody tr th:only-of-type {\n",
       "        vertical-align: middle;\n",
       "    }\n",
       "\n",
       "    .dataframe tbody tr th {\n",
       "        vertical-align: top;\n",
       "    }\n",
       "\n",
       "    .dataframe thead th {\n",
       "        text-align: right;\n",
       "    }\n",
       "</style>\n",
       "<table border=\"1\" class=\"dataframe\">\n",
       "  <thead>\n",
       "    <tr style=\"text-align: right;\">\n",
       "      <th></th>\n",
       "      <th>STATE</th>\n",
       "      <th>odMortRtAv</th>\n",
       "    </tr>\n",
       "  </thead>\n",
       "  <tbody>\n",
       "    <tr>\n",
       "      <th>0</th>\n",
       "      <td>AL</td>\n",
       "      <td>16.33</td>\n",
       "    </tr>\n",
       "    <tr>\n",
       "      <th>1</th>\n",
       "      <td>AK</td>\n",
       "      <td>17.03</td>\n",
       "    </tr>\n",
       "    <tr>\n",
       "      <th>2</th>\n",
       "      <td>AZ</td>\n",
       "      <td>21.72</td>\n",
       "    </tr>\n",
       "    <tr>\n",
       "      <th>3</th>\n",
       "      <td>AR</td>\n",
       "      <td>14.18</td>\n",
       "    </tr>\n",
       "    <tr>\n",
       "      <th>4</th>\n",
       "      <td>CA</td>\n",
       "      <td>12.18</td>\n",
       "    </tr>\n",
       "  </tbody>\n",
       "</table>\n",
       "</div>"
      ],
      "text/plain": [
       "  STATE  odMortRtAv\n",
       "0    AL       16.33\n",
       "1    AK       17.03\n",
       "2    AZ       21.72\n",
       "3    AR       14.18\n",
       "4    CA       12.18"
      ]
     },
     "execution_count": 38,
     "metadata": {},
     "output_type": "execute_result"
    }
   ],
   "source": [
    "mort_df = mortality_df.loc[:,['st_abb', 'odMortRtAv']]\n",
    "mort_df = mort_df.rename(columns={'st_abb' : 'STATE', 'odMortRtAv' : 'odMortRtAv'})\n",
    "mort_df.head(5)"
   ]
  },
  {
   "cell_type": "markdown",
   "id": "ab781def-1ee6-41e7-81b4-aa75776f80d9",
   "metadata": {},
   "source": [
    "### Import region dataset"
   ]
  },
  {
   "cell_type": "code",
   "execution_count": 39,
   "id": "c3d30365-e3a2-46cd-868d-487fcc7271b3",
   "metadata": {},
   "outputs": [
    {
     "data": {
      "text/html": [
       "<div>\n",
       "<style scoped>\n",
       "    .dataframe tbody tr th:only-of-type {\n",
       "        vertical-align: middle;\n",
       "    }\n",
       "\n",
       "    .dataframe tbody tr th {\n",
       "        vertical-align: top;\n",
       "    }\n",
       "\n",
       "    .dataframe thead th {\n",
       "        text-align: right;\n",
       "    }\n",
       "</style>\n",
       "<table border=\"1\" class=\"dataframe\">\n",
       "  <thead>\n",
       "    <tr style=\"text-align: right;\">\n",
       "      <th></th>\n",
       "      <th>STATE</th>\n",
       "      <th>REGION</th>\n",
       "      <th>DIVISION</th>\n",
       "    </tr>\n",
       "  </thead>\n",
       "  <tbody>\n",
       "    <tr>\n",
       "      <th>0</th>\n",
       "      <td>AK</td>\n",
       "      <td>West</td>\n",
       "      <td>Pacific</td>\n",
       "    </tr>\n",
       "    <tr>\n",
       "      <th>1</th>\n",
       "      <td>AL</td>\n",
       "      <td>South</td>\n",
       "      <td>East South Central</td>\n",
       "    </tr>\n",
       "    <tr>\n",
       "      <th>2</th>\n",
       "      <td>AR</td>\n",
       "      <td>South</td>\n",
       "      <td>West South Central</td>\n",
       "    </tr>\n",
       "    <tr>\n",
       "      <th>3</th>\n",
       "      <td>AZ</td>\n",
       "      <td>West</td>\n",
       "      <td>Mountain</td>\n",
       "    </tr>\n",
       "    <tr>\n",
       "      <th>4</th>\n",
       "      <td>CA</td>\n",
       "      <td>West</td>\n",
       "      <td>Pacific</td>\n",
       "    </tr>\n",
       "  </tbody>\n",
       "</table>\n",
       "</div>"
      ],
      "text/plain": [
       "  STATE REGION            DIVISION\n",
       "0    AK   West             Pacific\n",
       "1    AL  South  East South Central\n",
       "2    AR  South  West South Central\n",
       "3    AZ   West            Mountain\n",
       "4    CA   West             Pacific"
      ]
     },
     "execution_count": 39,
     "metadata": {},
     "output_type": "execute_result"
    }
   ],
   "source": [
    "region_file_path = \"../Resources/Geographic/state_region.csv\"\n",
    "region_data = pd.read_csv(region_file_path)\n",
    "region_df = pd.DataFrame(region_data).loc[:,['State Code', 'Region', 'Division']].rename(columns={'State Code' : 'STATE', 'Region' : 'REGION', 'Division' : 'DIVISION'})\n",
    "region_df.head(5)"
   ]
  },
  {
   "cell_type": "markdown",
   "id": "ac118166-866c-4719-98a3-0ecfc79e3bb8",
   "metadata": {},
   "source": [
    "### Merge mort and region dfs"
   ]
  },
  {
   "cell_type": "code",
   "execution_count": 40,
   "id": "03472df3-c358-479a-b47b-a6ac48fd17aa",
   "metadata": {},
   "outputs": [
    {
     "data": {
      "text/html": [
       "<div>\n",
       "<style scoped>\n",
       "    .dataframe tbody tr th:only-of-type {\n",
       "        vertical-align: middle;\n",
       "    }\n",
       "\n",
       "    .dataframe tbody tr th {\n",
       "        vertical-align: top;\n",
       "    }\n",
       "\n",
       "    .dataframe thead th {\n",
       "        text-align: right;\n",
       "    }\n",
       "</style>\n",
       "<table border=\"1\" class=\"dataframe\">\n",
       "  <thead>\n",
       "    <tr style=\"text-align: right;\">\n",
       "      <th></th>\n",
       "      <th>STATE</th>\n",
       "      <th>REGION</th>\n",
       "      <th>DIVISION</th>\n",
       "      <th>odMortRtAv</th>\n",
       "    </tr>\n",
       "  </thead>\n",
       "  <tbody>\n",
       "    <tr>\n",
       "      <th>0</th>\n",
       "      <td>AK</td>\n",
       "      <td>West</td>\n",
       "      <td>Pacific</td>\n",
       "      <td>17.03</td>\n",
       "    </tr>\n",
       "    <tr>\n",
       "      <th>1</th>\n",
       "      <td>AL</td>\n",
       "      <td>South</td>\n",
       "      <td>East South Central</td>\n",
       "      <td>16.33</td>\n",
       "    </tr>\n",
       "    <tr>\n",
       "      <th>2</th>\n",
       "      <td>AR</td>\n",
       "      <td>South</td>\n",
       "      <td>West South Central</td>\n",
       "      <td>14.18</td>\n",
       "    </tr>\n",
       "  </tbody>\n",
       "</table>\n",
       "</div>"
      ],
      "text/plain": [
       "  STATE REGION            DIVISION  odMortRtAv\n",
       "0    AK   West             Pacific       17.03\n",
       "1    AL  South  East South Central       16.33\n",
       "2    AR  South  West South Central       14.18"
      ]
     },
     "execution_count": 40,
     "metadata": {},
     "output_type": "execute_result"
    }
   ],
   "source": [
    "mort_region_df = pd.merge(region_df, mort_df, on=\"STATE\", how=\"inner\")\n",
    "mort_region_df.head(3)"
   ]
  },
  {
   "cell_type": "markdown",
   "id": "16799b31-93af-4ef0-bdee-312517287610",
   "metadata": {},
   "source": [
    "### Import treatment facility dataset"
   ]
  },
  {
   "cell_type": "code",
   "execution_count": 41,
   "id": "08ec310d-3832-4847-af88-bef88c18de78",
   "metadata": {},
   "outputs": [
    {
     "data": {
      "text/html": [
       "<div>\n",
       "<style scoped>\n",
       "    .dataframe tbody tr th:only-of-type {\n",
       "        vertical-align: middle;\n",
       "    }\n",
       "\n",
       "    .dataframe tbody tr th {\n",
       "        vertical-align: top;\n",
       "    }\n",
       "\n",
       "    .dataframe thead th {\n",
       "        text-align: right;\n",
       "    }\n",
       "</style>\n",
       "<table border=\"1\" class=\"dataframe\">\n",
       "  <thead>\n",
       "    <tr style=\"text-align: right;\">\n",
       "      <th></th>\n",
       "      <th>CASEID</th>\n",
       "      <th>STATE</th>\n",
       "      <th>STFIPS</th>\n",
       "      <th>DETOX</th>\n",
       "      <th>TREATMT</th>\n",
       "      <th>SMISEDSUD</th>\n",
       "      <th>OWNERSHP</th>\n",
       "      <th>FEDOWN</th>\n",
       "      <th>HOSPITAL</th>\n",
       "      <th>LOCS</th>\n",
       "      <th>...</th>\n",
       "      <th>T_CLIHI_X</th>\n",
       "      <th>T_CLIML_D</th>\n",
       "      <th>T_CLIML_O</th>\n",
       "      <th>T_CLIML_X</th>\n",
       "      <th>T_CLIOP_D</th>\n",
       "      <th>T_CLIOP_O</th>\n",
       "      <th>T_CLIOP_X</th>\n",
       "      <th>T_CLIRC_D</th>\n",
       "      <th>T_CLIRC_O</th>\n",
       "      <th>T_CLIRC_X</th>\n",
       "    </tr>\n",
       "  </thead>\n",
       "  <tbody>\n",
       "    <tr>\n",
       "      <th>0</th>\n",
       "      <td>1</td>\n",
       "      <td>AK</td>\n",
       "      <td>2</td>\n",
       "      <td>0</td>\n",
       "      <td>1</td>\n",
       "      <td>1</td>\n",
       "      <td>6</td>\n",
       "      <td>3.0</td>\n",
       "      <td>0</td>\n",
       "      <td>NaN</td>\n",
       "      <td>...</td>\n",
       "      <td>NaN</td>\n",
       "      <td>NaN</td>\n",
       "      <td>NaN</td>\n",
       "      <td>1.0</td>\n",
       "      <td>NaN</td>\n",
       "      <td>NaN</td>\n",
       "      <td>4.0</td>\n",
       "      <td>NaN</td>\n",
       "      <td>NaN</td>\n",
       "      <td>NaN</td>\n",
       "    </tr>\n",
       "    <tr>\n",
       "      <th>1</th>\n",
       "      <td>2</td>\n",
       "      <td>AK</td>\n",
       "      <td>2</td>\n",
       "      <td>0</td>\n",
       "      <td>1</td>\n",
       "      <td>1</td>\n",
       "      <td>2</td>\n",
       "      <td>NaN</td>\n",
       "      <td>0</td>\n",
       "      <td>NaN</td>\n",
       "      <td>...</td>\n",
       "      <td>NaN</td>\n",
       "      <td>NaN</td>\n",
       "      <td>NaN</td>\n",
       "      <td>NaN</td>\n",
       "      <td>NaN</td>\n",
       "      <td>NaN</td>\n",
       "      <td>NaN</td>\n",
       "      <td>NaN</td>\n",
       "      <td>NaN</td>\n",
       "      <td>4.0</td>\n",
       "    </tr>\n",
       "    <tr>\n",
       "      <th>2</th>\n",
       "      <td>3</td>\n",
       "      <td>AK</td>\n",
       "      <td>2</td>\n",
       "      <td>1</td>\n",
       "      <td>1</td>\n",
       "      <td>0</td>\n",
       "      <td>2</td>\n",
       "      <td>NaN</td>\n",
       "      <td>0</td>\n",
       "      <td>NaN</td>\n",
       "      <td>...</td>\n",
       "      <td>NaN</td>\n",
       "      <td>NaN</td>\n",
       "      <td>1.0</td>\n",
       "      <td>NaN</td>\n",
       "      <td>NaN</td>\n",
       "      <td>1.0</td>\n",
       "      <td>NaN</td>\n",
       "      <td>NaN</td>\n",
       "      <td>NaN</td>\n",
       "      <td>NaN</td>\n",
       "    </tr>\n",
       "  </tbody>\n",
       "</table>\n",
       "<p>3 rows × 262 columns</p>\n",
       "</div>"
      ],
      "text/plain": [
       "   CASEID STATE  STFIPS  DETOX  TREATMT  SMISEDSUD  OWNERSHP  FEDOWN HOSPITAL  \\\n",
       "0       1    AK       2      0        1          1         6     3.0        0   \n",
       "1       2    AK       2      0        1          1         2     NaN        0   \n",
       "2       3    AK       2      1        1          0         2     NaN        0   \n",
       "\n",
       "  LOCS  ...  T_CLIHI_X  T_CLIML_D  T_CLIML_O  T_CLIML_X  T_CLIOP_D  T_CLIOP_O  \\\n",
       "0  NaN  ...        NaN        NaN        NaN        1.0        NaN        NaN   \n",
       "1  NaN  ...        NaN        NaN        NaN        NaN        NaN        NaN   \n",
       "2  NaN  ...        NaN        NaN        1.0        NaN        NaN        1.0   \n",
       "\n",
       "   T_CLIOP_X  T_CLIRC_D  T_CLIRC_O  T_CLIRC_X  \n",
       "0        4.0        NaN        NaN        NaN  \n",
       "1        NaN        NaN        NaN        4.0  \n",
       "2        NaN        NaN        NaN        NaN  \n",
       "\n",
       "[3 rows x 262 columns]"
      ]
     },
     "execution_count": 41,
     "metadata": {},
     "output_type": "execute_result"
    }
   ],
   "source": [
    "nssats_file_path = \"../Resources/NSSATS/NSSATS_PUF_2020_CSV.csv\"\n",
    "\n",
    "facility_data = pd.read_csv(nssats_file_path, low_memory=False)\n",
    "facility_data.head(3)"
   ]
  },
  {
   "cell_type": "code",
   "execution_count": 42,
   "id": "7079cda3-f797-44b2-ae2f-312f3c30e85b",
   "metadata": {},
   "outputs": [
    {
     "data": {
      "text/plain": [
       "(16066, 262)"
      ]
     },
     "execution_count": 42,
     "metadata": {},
     "output_type": "execute_result"
    }
   ],
   "source": [
    "facility_df = pd.DataFrame(facility_data)\n",
    "facility_df.shape"
   ]
  },
  {
   "cell_type": "markdown",
   "id": "6c0b61c1-9475-4601-8912-554bf855be03",
   "metadata": {},
   "source": [
    "### Remove Jurisdictions not included in Health04 dataset"
   ]
  },
  {
   "cell_type": "code",
   "execution_count": 43,
   "id": "93778702-783f-4e6a-ab21-51ee7123b849",
   "metadata": {},
   "outputs": [
    {
     "data": {
      "text/plain": [
       "0        False\n",
       "1        False\n",
       "2        False\n",
       "3        False\n",
       "4        False\n",
       "         ...  \n",
       "16061     True\n",
       "16062     True\n",
       "16063     True\n",
       "16064     True\n",
       "16065     True\n",
       "Name: STATE, Length: 16066, dtype: bool"
      ]
     },
     "execution_count": 43,
     "metadata": {},
     "output_type": "execute_result"
    }
   ],
   "source": [
    "rejected_state_codes = ['PR', 'ZZ']\n",
    "facility_rejected_state_s = facility_df.STATE.isin(rejected_state_codes)\n",
    "facility_rejected_state_s"
   ]
  },
  {
   "cell_type": "code",
   "execution_count": 44,
   "id": "976c06b7-e671-42bc-a345-8a25e9b823f9",
   "metadata": {},
   "outputs": [
    {
     "data": {
      "text/html": [
       "<div>\n",
       "<style scoped>\n",
       "    .dataframe tbody tr th:only-of-type {\n",
       "        vertical-align: middle;\n",
       "    }\n",
       "\n",
       "    .dataframe tbody tr th {\n",
       "        vertical-align: top;\n",
       "    }\n",
       "\n",
       "    .dataframe thead th {\n",
       "        text-align: right;\n",
       "    }\n",
       "</style>\n",
       "<table border=\"1\" class=\"dataframe\">\n",
       "  <thead>\n",
       "    <tr style=\"text-align: right;\">\n",
       "      <th></th>\n",
       "      <th>CASEID</th>\n",
       "      <th>STATE</th>\n",
       "      <th>STFIPS</th>\n",
       "      <th>DETOX</th>\n",
       "      <th>TREATMT</th>\n",
       "      <th>SMISEDSUD</th>\n",
       "      <th>OWNERSHP</th>\n",
       "      <th>FEDOWN</th>\n",
       "      <th>HOSPITAL</th>\n",
       "      <th>LOCS</th>\n",
       "      <th>...</th>\n",
       "      <th>T_CLIHI_X</th>\n",
       "      <th>T_CLIML_D</th>\n",
       "      <th>T_CLIML_O</th>\n",
       "      <th>T_CLIML_X</th>\n",
       "      <th>T_CLIOP_D</th>\n",
       "      <th>T_CLIOP_O</th>\n",
       "      <th>T_CLIOP_X</th>\n",
       "      <th>T_CLIRC_D</th>\n",
       "      <th>T_CLIRC_O</th>\n",
       "      <th>T_CLIRC_X</th>\n",
       "    </tr>\n",
       "  </thead>\n",
       "  <tbody>\n",
       "    <tr>\n",
       "      <th>0</th>\n",
       "      <td>1</td>\n",
       "      <td>AK</td>\n",
       "      <td>2</td>\n",
       "      <td>0</td>\n",
       "      <td>1</td>\n",
       "      <td>1</td>\n",
       "      <td>6</td>\n",
       "      <td>3.0</td>\n",
       "      <td>0</td>\n",
       "      <td>NaN</td>\n",
       "      <td>...</td>\n",
       "      <td>NaN</td>\n",
       "      <td>NaN</td>\n",
       "      <td>NaN</td>\n",
       "      <td>1.0</td>\n",
       "      <td>NaN</td>\n",
       "      <td>NaN</td>\n",
       "      <td>4.0</td>\n",
       "      <td>NaN</td>\n",
       "      <td>NaN</td>\n",
       "      <td>NaN</td>\n",
       "    </tr>\n",
       "    <tr>\n",
       "      <th>1</th>\n",
       "      <td>2</td>\n",
       "      <td>AK</td>\n",
       "      <td>2</td>\n",
       "      <td>0</td>\n",
       "      <td>1</td>\n",
       "      <td>1</td>\n",
       "      <td>2</td>\n",
       "      <td>NaN</td>\n",
       "      <td>0</td>\n",
       "      <td>NaN</td>\n",
       "      <td>...</td>\n",
       "      <td>NaN</td>\n",
       "      <td>NaN</td>\n",
       "      <td>NaN</td>\n",
       "      <td>NaN</td>\n",
       "      <td>NaN</td>\n",
       "      <td>NaN</td>\n",
       "      <td>NaN</td>\n",
       "      <td>NaN</td>\n",
       "      <td>NaN</td>\n",
       "      <td>4.0</td>\n",
       "    </tr>\n",
       "    <tr>\n",
       "      <th>2</th>\n",
       "      <td>3</td>\n",
       "      <td>AK</td>\n",
       "      <td>2</td>\n",
       "      <td>1</td>\n",
       "      <td>1</td>\n",
       "      <td>0</td>\n",
       "      <td>2</td>\n",
       "      <td>NaN</td>\n",
       "      <td>0</td>\n",
       "      <td>NaN</td>\n",
       "      <td>...</td>\n",
       "      <td>NaN</td>\n",
       "      <td>NaN</td>\n",
       "      <td>1.0</td>\n",
       "      <td>NaN</td>\n",
       "      <td>NaN</td>\n",
       "      <td>1.0</td>\n",
       "      <td>NaN</td>\n",
       "      <td>NaN</td>\n",
       "      <td>NaN</td>\n",
       "      <td>NaN</td>\n",
       "    </tr>\n",
       "    <tr>\n",
       "      <th>3</th>\n",
       "      <td>4</td>\n",
       "      <td>AK</td>\n",
       "      <td>2</td>\n",
       "      <td>0</td>\n",
       "      <td>1</td>\n",
       "      <td>1</td>\n",
       "      <td>2</td>\n",
       "      <td>NaN</td>\n",
       "      <td>0</td>\n",
       "      <td>NaN</td>\n",
       "      <td>...</td>\n",
       "      <td>NaN</td>\n",
       "      <td>NaN</td>\n",
       "      <td>NaN</td>\n",
       "      <td>NaN</td>\n",
       "      <td>NaN</td>\n",
       "      <td>NaN</td>\n",
       "      <td>NaN</td>\n",
       "      <td>NaN</td>\n",
       "      <td>NaN</td>\n",
       "      <td>2.0</td>\n",
       "    </tr>\n",
       "    <tr>\n",
       "      <th>4</th>\n",
       "      <td>5</td>\n",
       "      <td>AK</td>\n",
       "      <td>2</td>\n",
       "      <td>1</td>\n",
       "      <td>1</td>\n",
       "      <td>0</td>\n",
       "      <td>2</td>\n",
       "      <td>NaN</td>\n",
       "      <td>0</td>\n",
       "      <td>NaN</td>\n",
       "      <td>...</td>\n",
       "      <td>NaN</td>\n",
       "      <td>NaN</td>\n",
       "      <td>NaN</td>\n",
       "      <td>NaN</td>\n",
       "      <td>NaN</td>\n",
       "      <td>NaN</td>\n",
       "      <td>NaN</td>\n",
       "      <td>NaN</td>\n",
       "      <td>NaN</td>\n",
       "      <td>NaN</td>\n",
       "    </tr>\n",
       "    <tr>\n",
       "      <th>...</th>\n",
       "      <td>...</td>\n",
       "      <td>...</td>\n",
       "      <td>...</td>\n",
       "      <td>...</td>\n",
       "      <td>...</td>\n",
       "      <td>...</td>\n",
       "      <td>...</td>\n",
       "      <td>...</td>\n",
       "      <td>...</td>\n",
       "      <td>...</td>\n",
       "      <td>...</td>\n",
       "      <td>...</td>\n",
       "      <td>...</td>\n",
       "      <td>...</td>\n",
       "      <td>...</td>\n",
       "      <td>...</td>\n",
       "      <td>...</td>\n",
       "      <td>...</td>\n",
       "      <td>...</td>\n",
       "      <td>...</td>\n",
       "      <td>...</td>\n",
       "    </tr>\n",
       "    <tr>\n",
       "      <th>16051</th>\n",
       "      <td>16052</td>\n",
       "      <td>WY</td>\n",
       "      <td>56</td>\n",
       "      <td>0</td>\n",
       "      <td>1</td>\n",
       "      <td>1</td>\n",
       "      <td>2</td>\n",
       "      <td>NaN</td>\n",
       "      <td>0</td>\n",
       "      <td>NaN</td>\n",
       "      <td>...</td>\n",
       "      <td>NaN</td>\n",
       "      <td>NaN</td>\n",
       "      <td>NaN</td>\n",
       "      <td>1.0</td>\n",
       "      <td>NaN</td>\n",
       "      <td>NaN</td>\n",
       "      <td>4.0</td>\n",
       "      <td>NaN</td>\n",
       "      <td>NaN</td>\n",
       "      <td>NaN</td>\n",
       "    </tr>\n",
       "    <tr>\n",
       "      <th>16052</th>\n",
       "      <td>16053</td>\n",
       "      <td>WY</td>\n",
       "      <td>56</td>\n",
       "      <td>1</td>\n",
       "      <td>1</td>\n",
       "      <td>1</td>\n",
       "      <td>2</td>\n",
       "      <td>NaN</td>\n",
       "      <td>0</td>\n",
       "      <td>NaN</td>\n",
       "      <td>...</td>\n",
       "      <td>NaN</td>\n",
       "      <td>NaN</td>\n",
       "      <td>NaN</td>\n",
       "      <td>4.0</td>\n",
       "      <td>NaN</td>\n",
       "      <td>NaN</td>\n",
       "      <td>5.0</td>\n",
       "      <td>NaN</td>\n",
       "      <td>NaN</td>\n",
       "      <td>4.0</td>\n",
       "    </tr>\n",
       "    <tr>\n",
       "      <th>16053</th>\n",
       "      <td>16054</td>\n",
       "      <td>WY</td>\n",
       "      <td>56</td>\n",
       "      <td>0</td>\n",
       "      <td>1</td>\n",
       "      <td>1</td>\n",
       "      <td>2</td>\n",
       "      <td>NaN</td>\n",
       "      <td>0</td>\n",
       "      <td>NaN</td>\n",
       "      <td>...</td>\n",
       "      <td>NaN</td>\n",
       "      <td>1.0</td>\n",
       "      <td>NaN</td>\n",
       "      <td>NaN</td>\n",
       "      <td>3.0</td>\n",
       "      <td>NaN</td>\n",
       "      <td>NaN</td>\n",
       "      <td>NaN</td>\n",
       "      <td>NaN</td>\n",
       "      <td>NaN</td>\n",
       "    </tr>\n",
       "    <tr>\n",
       "      <th>16054</th>\n",
       "      <td>16055</td>\n",
       "      <td>WY</td>\n",
       "      <td>56</td>\n",
       "      <td>0</td>\n",
       "      <td>1</td>\n",
       "      <td>1</td>\n",
       "      <td>2</td>\n",
       "      <td>NaN</td>\n",
       "      <td>0</td>\n",
       "      <td>NaN</td>\n",
       "      <td>...</td>\n",
       "      <td>NaN</td>\n",
       "      <td>NaN</td>\n",
       "      <td>NaN</td>\n",
       "      <td>1.0</td>\n",
       "      <td>NaN</td>\n",
       "      <td>NaN</td>\n",
       "      <td>3.0</td>\n",
       "      <td>NaN</td>\n",
       "      <td>NaN</td>\n",
       "      <td>NaN</td>\n",
       "    </tr>\n",
       "    <tr>\n",
       "      <th>16055</th>\n",
       "      <td>16056</td>\n",
       "      <td>WY</td>\n",
       "      <td>56</td>\n",
       "      <td>0</td>\n",
       "      <td>1</td>\n",
       "      <td>1</td>\n",
       "      <td>2</td>\n",
       "      <td>NaN</td>\n",
       "      <td>0</td>\n",
       "      <td>NaN</td>\n",
       "      <td>...</td>\n",
       "      <td>NaN</td>\n",
       "      <td>NaN</td>\n",
       "      <td>NaN</td>\n",
       "      <td>NaN</td>\n",
       "      <td>NaN</td>\n",
       "      <td>NaN</td>\n",
       "      <td>NaN</td>\n",
       "      <td>NaN</td>\n",
       "      <td>NaN</td>\n",
       "      <td>NaN</td>\n",
       "    </tr>\n",
       "  </tbody>\n",
       "</table>\n",
       "<p>15955 rows × 262 columns</p>\n",
       "</div>"
      ],
      "text/plain": [
       "       CASEID STATE  STFIPS  DETOX  TREATMT  SMISEDSUD  OWNERSHP  FEDOWN  \\\n",
       "0           1    AK       2      0        1          1         6     3.0   \n",
       "1           2    AK       2      0        1          1         2     NaN   \n",
       "2           3    AK       2      1        1          0         2     NaN   \n",
       "3           4    AK       2      0        1          1         2     NaN   \n",
       "4           5    AK       2      1        1          0         2     NaN   \n",
       "...       ...   ...     ...    ...      ...        ...       ...     ...   \n",
       "16051   16052    WY      56      0        1          1         2     NaN   \n",
       "16052   16053    WY      56      1        1          1         2     NaN   \n",
       "16053   16054    WY      56      0        1          1         2     NaN   \n",
       "16054   16055    WY      56      0        1          1         2     NaN   \n",
       "16055   16056    WY      56      0        1          1         2     NaN   \n",
       "\n",
       "      HOSPITAL LOCS  ...  T_CLIHI_X  T_CLIML_D  T_CLIML_O  T_CLIML_X  \\\n",
       "0            0  NaN  ...        NaN        NaN        NaN        1.0   \n",
       "1            0  NaN  ...        NaN        NaN        NaN        NaN   \n",
       "2            0  NaN  ...        NaN        NaN        1.0        NaN   \n",
       "3            0  NaN  ...        NaN        NaN        NaN        NaN   \n",
       "4            0  NaN  ...        NaN        NaN        NaN        NaN   \n",
       "...        ...  ...  ...        ...        ...        ...        ...   \n",
       "16051        0  NaN  ...        NaN        NaN        NaN        1.0   \n",
       "16052        0  NaN  ...        NaN        NaN        NaN        4.0   \n",
       "16053        0  NaN  ...        NaN        1.0        NaN        NaN   \n",
       "16054        0  NaN  ...        NaN        NaN        NaN        1.0   \n",
       "16055        0  NaN  ...        NaN        NaN        NaN        NaN   \n",
       "\n",
       "       T_CLIOP_D  T_CLIOP_O  T_CLIOP_X  T_CLIRC_D  T_CLIRC_O  T_CLIRC_X  \n",
       "0            NaN        NaN        4.0        NaN        NaN        NaN  \n",
       "1            NaN        NaN        NaN        NaN        NaN        4.0  \n",
       "2            NaN        1.0        NaN        NaN        NaN        NaN  \n",
       "3            NaN        NaN        NaN        NaN        NaN        2.0  \n",
       "4            NaN        NaN        NaN        NaN        NaN        NaN  \n",
       "...          ...        ...        ...        ...        ...        ...  \n",
       "16051        NaN        NaN        4.0        NaN        NaN        NaN  \n",
       "16052        NaN        NaN        5.0        NaN        NaN        4.0  \n",
       "16053        3.0        NaN        NaN        NaN        NaN        NaN  \n",
       "16054        NaN        NaN        3.0        NaN        NaN        NaN  \n",
       "16055        NaN        NaN        NaN        NaN        NaN        NaN  \n",
       "\n",
       "[15955 rows x 262 columns]"
      ]
     },
     "execution_count": 44,
     "metadata": {},
     "output_type": "execute_result"
    }
   ],
   "source": [
    "facility_df[~facility_rejected_state_s] #with or without loc same output"
   ]
  },
  {
   "cell_type": "code",
   "execution_count": 45,
   "id": "83c685e4-e1a9-4844-8607-5e9b56ccc723",
   "metadata": {},
   "outputs": [
    {
     "data": {
      "text/html": [
       "<div>\n",
       "<style scoped>\n",
       "    .dataframe tbody tr th:only-of-type {\n",
       "        vertical-align: middle;\n",
       "    }\n",
       "\n",
       "    .dataframe tbody tr th {\n",
       "        vertical-align: top;\n",
       "    }\n",
       "\n",
       "    .dataframe thead th {\n",
       "        text-align: right;\n",
       "    }\n",
       "</style>\n",
       "<table border=\"1\" class=\"dataframe\">\n",
       "  <thead>\n",
       "    <tr style=\"text-align: right;\">\n",
       "      <th></th>\n",
       "      <th>CASEID</th>\n",
       "      <th>STATE</th>\n",
       "      <th>STFIPS</th>\n",
       "      <th>DETOX</th>\n",
       "      <th>TREATMT</th>\n",
       "      <th>SMISEDSUD</th>\n",
       "      <th>OWNERSHP</th>\n",
       "      <th>FEDOWN</th>\n",
       "      <th>HOSPITAL</th>\n",
       "      <th>LOCS</th>\n",
       "      <th>...</th>\n",
       "      <th>T_CLIHI_X</th>\n",
       "      <th>T_CLIML_D</th>\n",
       "      <th>T_CLIML_O</th>\n",
       "      <th>T_CLIML_X</th>\n",
       "      <th>T_CLIOP_D</th>\n",
       "      <th>T_CLIOP_O</th>\n",
       "      <th>T_CLIOP_X</th>\n",
       "      <th>T_CLIRC_D</th>\n",
       "      <th>T_CLIRC_O</th>\n",
       "      <th>T_CLIRC_X</th>\n",
       "    </tr>\n",
       "  </thead>\n",
       "  <tbody>\n",
       "    <tr>\n",
       "      <th>0</th>\n",
       "      <td>1</td>\n",
       "      <td>AK</td>\n",
       "      <td>2</td>\n",
       "      <td>0</td>\n",
       "      <td>1</td>\n",
       "      <td>1</td>\n",
       "      <td>6</td>\n",
       "      <td>3.0</td>\n",
       "      <td>0</td>\n",
       "      <td>NaN</td>\n",
       "      <td>...</td>\n",
       "      <td>NaN</td>\n",
       "      <td>NaN</td>\n",
       "      <td>NaN</td>\n",
       "      <td>1.0</td>\n",
       "      <td>NaN</td>\n",
       "      <td>NaN</td>\n",
       "      <td>4.0</td>\n",
       "      <td>NaN</td>\n",
       "      <td>NaN</td>\n",
       "      <td>NaN</td>\n",
       "    </tr>\n",
       "    <tr>\n",
       "      <th>1</th>\n",
       "      <td>2</td>\n",
       "      <td>AK</td>\n",
       "      <td>2</td>\n",
       "      <td>0</td>\n",
       "      <td>1</td>\n",
       "      <td>1</td>\n",
       "      <td>2</td>\n",
       "      <td>NaN</td>\n",
       "      <td>0</td>\n",
       "      <td>NaN</td>\n",
       "      <td>...</td>\n",
       "      <td>NaN</td>\n",
       "      <td>NaN</td>\n",
       "      <td>NaN</td>\n",
       "      <td>NaN</td>\n",
       "      <td>NaN</td>\n",
       "      <td>NaN</td>\n",
       "      <td>NaN</td>\n",
       "      <td>NaN</td>\n",
       "      <td>NaN</td>\n",
       "      <td>4.0</td>\n",
       "    </tr>\n",
       "    <tr>\n",
       "      <th>2</th>\n",
       "      <td>3</td>\n",
       "      <td>AK</td>\n",
       "      <td>2</td>\n",
       "      <td>1</td>\n",
       "      <td>1</td>\n",
       "      <td>0</td>\n",
       "      <td>2</td>\n",
       "      <td>NaN</td>\n",
       "      <td>0</td>\n",
       "      <td>NaN</td>\n",
       "      <td>...</td>\n",
       "      <td>NaN</td>\n",
       "      <td>NaN</td>\n",
       "      <td>1.0</td>\n",
       "      <td>NaN</td>\n",
       "      <td>NaN</td>\n",
       "      <td>1.0</td>\n",
       "      <td>NaN</td>\n",
       "      <td>NaN</td>\n",
       "      <td>NaN</td>\n",
       "      <td>NaN</td>\n",
       "    </tr>\n",
       "    <tr>\n",
       "      <th>3</th>\n",
       "      <td>4</td>\n",
       "      <td>AK</td>\n",
       "      <td>2</td>\n",
       "      <td>0</td>\n",
       "      <td>1</td>\n",
       "      <td>1</td>\n",
       "      <td>2</td>\n",
       "      <td>NaN</td>\n",
       "      <td>0</td>\n",
       "      <td>NaN</td>\n",
       "      <td>...</td>\n",
       "      <td>NaN</td>\n",
       "      <td>NaN</td>\n",
       "      <td>NaN</td>\n",
       "      <td>NaN</td>\n",
       "      <td>NaN</td>\n",
       "      <td>NaN</td>\n",
       "      <td>NaN</td>\n",
       "      <td>NaN</td>\n",
       "      <td>NaN</td>\n",
       "      <td>2.0</td>\n",
       "    </tr>\n",
       "    <tr>\n",
       "      <th>4</th>\n",
       "      <td>5</td>\n",
       "      <td>AK</td>\n",
       "      <td>2</td>\n",
       "      <td>1</td>\n",
       "      <td>1</td>\n",
       "      <td>0</td>\n",
       "      <td>2</td>\n",
       "      <td>NaN</td>\n",
       "      <td>0</td>\n",
       "      <td>NaN</td>\n",
       "      <td>...</td>\n",
       "      <td>NaN</td>\n",
       "      <td>NaN</td>\n",
       "      <td>NaN</td>\n",
       "      <td>NaN</td>\n",
       "      <td>NaN</td>\n",
       "      <td>NaN</td>\n",
       "      <td>NaN</td>\n",
       "      <td>NaN</td>\n",
       "      <td>NaN</td>\n",
       "      <td>NaN</td>\n",
       "    </tr>\n",
       "    <tr>\n",
       "      <th>...</th>\n",
       "      <td>...</td>\n",
       "      <td>...</td>\n",
       "      <td>...</td>\n",
       "      <td>...</td>\n",
       "      <td>...</td>\n",
       "      <td>...</td>\n",
       "      <td>...</td>\n",
       "      <td>...</td>\n",
       "      <td>...</td>\n",
       "      <td>...</td>\n",
       "      <td>...</td>\n",
       "      <td>...</td>\n",
       "      <td>...</td>\n",
       "      <td>...</td>\n",
       "      <td>...</td>\n",
       "      <td>...</td>\n",
       "      <td>...</td>\n",
       "      <td>...</td>\n",
       "      <td>...</td>\n",
       "      <td>...</td>\n",
       "      <td>...</td>\n",
       "    </tr>\n",
       "    <tr>\n",
       "      <th>16051</th>\n",
       "      <td>16052</td>\n",
       "      <td>WY</td>\n",
       "      <td>56</td>\n",
       "      <td>0</td>\n",
       "      <td>1</td>\n",
       "      <td>1</td>\n",
       "      <td>2</td>\n",
       "      <td>NaN</td>\n",
       "      <td>0</td>\n",
       "      <td>NaN</td>\n",
       "      <td>...</td>\n",
       "      <td>NaN</td>\n",
       "      <td>NaN</td>\n",
       "      <td>NaN</td>\n",
       "      <td>1.0</td>\n",
       "      <td>NaN</td>\n",
       "      <td>NaN</td>\n",
       "      <td>4.0</td>\n",
       "      <td>NaN</td>\n",
       "      <td>NaN</td>\n",
       "      <td>NaN</td>\n",
       "    </tr>\n",
       "    <tr>\n",
       "      <th>16052</th>\n",
       "      <td>16053</td>\n",
       "      <td>WY</td>\n",
       "      <td>56</td>\n",
       "      <td>1</td>\n",
       "      <td>1</td>\n",
       "      <td>1</td>\n",
       "      <td>2</td>\n",
       "      <td>NaN</td>\n",
       "      <td>0</td>\n",
       "      <td>NaN</td>\n",
       "      <td>...</td>\n",
       "      <td>NaN</td>\n",
       "      <td>NaN</td>\n",
       "      <td>NaN</td>\n",
       "      <td>4.0</td>\n",
       "      <td>NaN</td>\n",
       "      <td>NaN</td>\n",
       "      <td>5.0</td>\n",
       "      <td>NaN</td>\n",
       "      <td>NaN</td>\n",
       "      <td>4.0</td>\n",
       "    </tr>\n",
       "    <tr>\n",
       "      <th>16053</th>\n",
       "      <td>16054</td>\n",
       "      <td>WY</td>\n",
       "      <td>56</td>\n",
       "      <td>0</td>\n",
       "      <td>1</td>\n",
       "      <td>1</td>\n",
       "      <td>2</td>\n",
       "      <td>NaN</td>\n",
       "      <td>0</td>\n",
       "      <td>NaN</td>\n",
       "      <td>...</td>\n",
       "      <td>NaN</td>\n",
       "      <td>1.0</td>\n",
       "      <td>NaN</td>\n",
       "      <td>NaN</td>\n",
       "      <td>3.0</td>\n",
       "      <td>NaN</td>\n",
       "      <td>NaN</td>\n",
       "      <td>NaN</td>\n",
       "      <td>NaN</td>\n",
       "      <td>NaN</td>\n",
       "    </tr>\n",
       "    <tr>\n",
       "      <th>16054</th>\n",
       "      <td>16055</td>\n",
       "      <td>WY</td>\n",
       "      <td>56</td>\n",
       "      <td>0</td>\n",
       "      <td>1</td>\n",
       "      <td>1</td>\n",
       "      <td>2</td>\n",
       "      <td>NaN</td>\n",
       "      <td>0</td>\n",
       "      <td>NaN</td>\n",
       "      <td>...</td>\n",
       "      <td>NaN</td>\n",
       "      <td>NaN</td>\n",
       "      <td>NaN</td>\n",
       "      <td>1.0</td>\n",
       "      <td>NaN</td>\n",
       "      <td>NaN</td>\n",
       "      <td>3.0</td>\n",
       "      <td>NaN</td>\n",
       "      <td>NaN</td>\n",
       "      <td>NaN</td>\n",
       "    </tr>\n",
       "    <tr>\n",
       "      <th>16055</th>\n",
       "      <td>16056</td>\n",
       "      <td>WY</td>\n",
       "      <td>56</td>\n",
       "      <td>0</td>\n",
       "      <td>1</td>\n",
       "      <td>1</td>\n",
       "      <td>2</td>\n",
       "      <td>NaN</td>\n",
       "      <td>0</td>\n",
       "      <td>NaN</td>\n",
       "      <td>...</td>\n",
       "      <td>NaN</td>\n",
       "      <td>NaN</td>\n",
       "      <td>NaN</td>\n",
       "      <td>NaN</td>\n",
       "      <td>NaN</td>\n",
       "      <td>NaN</td>\n",
       "      <td>NaN</td>\n",
       "      <td>NaN</td>\n",
       "      <td>NaN</td>\n",
       "      <td>NaN</td>\n",
       "    </tr>\n",
       "  </tbody>\n",
       "</table>\n",
       "<p>15955 rows × 262 columns</p>\n",
       "</div>"
      ],
      "text/plain": [
       "       CASEID STATE  STFIPS  DETOX  TREATMT  SMISEDSUD  OWNERSHP  FEDOWN  \\\n",
       "0           1    AK       2      0        1          1         6     3.0   \n",
       "1           2    AK       2      0        1          1         2     NaN   \n",
       "2           3    AK       2      1        1          0         2     NaN   \n",
       "3           4    AK       2      0        1          1         2     NaN   \n",
       "4           5    AK       2      1        1          0         2     NaN   \n",
       "...       ...   ...     ...    ...      ...        ...       ...     ...   \n",
       "16051   16052    WY      56      0        1          1         2     NaN   \n",
       "16052   16053    WY      56      1        1          1         2     NaN   \n",
       "16053   16054    WY      56      0        1          1         2     NaN   \n",
       "16054   16055    WY      56      0        1          1         2     NaN   \n",
       "16055   16056    WY      56      0        1          1         2     NaN   \n",
       "\n",
       "      HOSPITAL LOCS  ...  T_CLIHI_X  T_CLIML_D  T_CLIML_O  T_CLIML_X  \\\n",
       "0            0  NaN  ...        NaN        NaN        NaN        1.0   \n",
       "1            0  NaN  ...        NaN        NaN        NaN        NaN   \n",
       "2            0  NaN  ...        NaN        NaN        1.0        NaN   \n",
       "3            0  NaN  ...        NaN        NaN        NaN        NaN   \n",
       "4            0  NaN  ...        NaN        NaN        NaN        NaN   \n",
       "...        ...  ...  ...        ...        ...        ...        ...   \n",
       "16051        0  NaN  ...        NaN        NaN        NaN        1.0   \n",
       "16052        0  NaN  ...        NaN        NaN        NaN        4.0   \n",
       "16053        0  NaN  ...        NaN        1.0        NaN        NaN   \n",
       "16054        0  NaN  ...        NaN        NaN        NaN        1.0   \n",
       "16055        0  NaN  ...        NaN        NaN        NaN        NaN   \n",
       "\n",
       "       T_CLIOP_D  T_CLIOP_O  T_CLIOP_X  T_CLIRC_D  T_CLIRC_O  T_CLIRC_X  \n",
       "0            NaN        NaN        4.0        NaN        NaN        NaN  \n",
       "1            NaN        NaN        NaN        NaN        NaN        4.0  \n",
       "2            NaN        1.0        NaN        NaN        NaN        NaN  \n",
       "3            NaN        NaN        NaN        NaN        NaN        2.0  \n",
       "4            NaN        NaN        NaN        NaN        NaN        NaN  \n",
       "...          ...        ...        ...        ...        ...        ...  \n",
       "16051        NaN        NaN        4.0        NaN        NaN        NaN  \n",
       "16052        NaN        NaN        5.0        NaN        NaN        4.0  \n",
       "16053        3.0        NaN        NaN        NaN        NaN        NaN  \n",
       "16054        NaN        NaN        3.0        NaN        NaN        NaN  \n",
       "16055        NaN        NaN        NaN        NaN        NaN        NaN  \n",
       "\n",
       "[15955 rows x 262 columns]"
      ]
     },
     "execution_count": 45,
     "metadata": {},
     "output_type": "execute_result"
    }
   ],
   "source": [
    "fac_df = facility_df.loc[~facility_df.STATE.isin(rejected_state_codes)]\n",
    "fac_df"
   ]
  },
  {
   "cell_type": "code",
   "execution_count": 46,
   "id": "b6343914-3144-4507-8064-218683054e55",
   "metadata": {},
   "outputs": [
    {
     "data": {
      "text/plain": [
       "51"
      ]
     },
     "execution_count": 46,
     "metadata": {},
     "output_type": "execute_result"
    }
   ],
   "source": [
    "fac_df = facility_df.loc[facility_df.STATE != 'PR'].loc[facility_df.STATE != 'ZZ']\n",
    "fac_df.STATE.nunique()"
   ]
  },
  {
   "cell_type": "markdown",
   "id": "f757968d-5afb-4df9-9d65-7e903716095c",
   "metadata": {},
   "source": [
    "### Merge mortality and facility dfs"
   ]
  },
  {
   "cell_type": "code",
   "execution_count": 47,
   "id": "03b5f6a9-d080-4980-88ba-064eef7b901e",
   "metadata": {},
   "outputs": [
    {
     "name": "stdout",
     "output_type": "stream",
     "text": [
      "(15955, 265)\n"
     ]
    },
    {
     "data": {
      "text/html": [
       "<div>\n",
       "<style scoped>\n",
       "    .dataframe tbody tr th:only-of-type {\n",
       "        vertical-align: middle;\n",
       "    }\n",
       "\n",
       "    .dataframe tbody tr th {\n",
       "        vertical-align: top;\n",
       "    }\n",
       "\n",
       "    .dataframe thead th {\n",
       "        text-align: right;\n",
       "    }\n",
       "</style>\n",
       "<table border=\"1\" class=\"dataframe\">\n",
       "  <thead>\n",
       "    <tr style=\"text-align: right;\">\n",
       "      <th></th>\n",
       "      <th>STATE</th>\n",
       "      <th>REGION</th>\n",
       "      <th>DIVISION</th>\n",
       "      <th>odMortRtAv</th>\n",
       "      <th>CASEID</th>\n",
       "      <th>STFIPS</th>\n",
       "      <th>DETOX</th>\n",
       "      <th>TREATMT</th>\n",
       "      <th>SMISEDSUD</th>\n",
       "      <th>OWNERSHP</th>\n",
       "      <th>...</th>\n",
       "      <th>T_CLIHI_X</th>\n",
       "      <th>T_CLIML_D</th>\n",
       "      <th>T_CLIML_O</th>\n",
       "      <th>T_CLIML_X</th>\n",
       "      <th>T_CLIOP_D</th>\n",
       "      <th>T_CLIOP_O</th>\n",
       "      <th>T_CLIOP_X</th>\n",
       "      <th>T_CLIRC_D</th>\n",
       "      <th>T_CLIRC_O</th>\n",
       "      <th>T_CLIRC_X</th>\n",
       "    </tr>\n",
       "  </thead>\n",
       "  <tbody>\n",
       "    <tr>\n",
       "      <th>0</th>\n",
       "      <td>AK</td>\n",
       "      <td>West</td>\n",
       "      <td>Pacific</td>\n",
       "      <td>17.03</td>\n",
       "      <td>1</td>\n",
       "      <td>2</td>\n",
       "      <td>0</td>\n",
       "      <td>1</td>\n",
       "      <td>1</td>\n",
       "      <td>6</td>\n",
       "      <td>...</td>\n",
       "      <td>NaN</td>\n",
       "      <td>NaN</td>\n",
       "      <td>NaN</td>\n",
       "      <td>1.0</td>\n",
       "      <td>NaN</td>\n",
       "      <td>NaN</td>\n",
       "      <td>4.0</td>\n",
       "      <td>NaN</td>\n",
       "      <td>NaN</td>\n",
       "      <td>NaN</td>\n",
       "    </tr>\n",
       "    <tr>\n",
       "      <th>1</th>\n",
       "      <td>AK</td>\n",
       "      <td>West</td>\n",
       "      <td>Pacific</td>\n",
       "      <td>17.03</td>\n",
       "      <td>2</td>\n",
       "      <td>2</td>\n",
       "      <td>0</td>\n",
       "      <td>1</td>\n",
       "      <td>1</td>\n",
       "      <td>2</td>\n",
       "      <td>...</td>\n",
       "      <td>NaN</td>\n",
       "      <td>NaN</td>\n",
       "      <td>NaN</td>\n",
       "      <td>NaN</td>\n",
       "      <td>NaN</td>\n",
       "      <td>NaN</td>\n",
       "      <td>NaN</td>\n",
       "      <td>NaN</td>\n",
       "      <td>NaN</td>\n",
       "      <td>4.0</td>\n",
       "    </tr>\n",
       "    <tr>\n",
       "      <th>2</th>\n",
       "      <td>AK</td>\n",
       "      <td>West</td>\n",
       "      <td>Pacific</td>\n",
       "      <td>17.03</td>\n",
       "      <td>3</td>\n",
       "      <td>2</td>\n",
       "      <td>1</td>\n",
       "      <td>1</td>\n",
       "      <td>0</td>\n",
       "      <td>2</td>\n",
       "      <td>...</td>\n",
       "      <td>NaN</td>\n",
       "      <td>NaN</td>\n",
       "      <td>1.0</td>\n",
       "      <td>NaN</td>\n",
       "      <td>NaN</td>\n",
       "      <td>1.0</td>\n",
       "      <td>NaN</td>\n",
       "      <td>NaN</td>\n",
       "      <td>NaN</td>\n",
       "      <td>NaN</td>\n",
       "    </tr>\n",
       "  </tbody>\n",
       "</table>\n",
       "<p>3 rows × 265 columns</p>\n",
       "</div>"
      ],
      "text/plain": [
       "  STATE REGION DIVISION  odMortRtAv  CASEID  STFIPS  DETOX  TREATMT  \\\n",
       "0    AK   West  Pacific       17.03       1       2      0        1   \n",
       "1    AK   West  Pacific       17.03       2       2      0        1   \n",
       "2    AK   West  Pacific       17.03       3       2      1        1   \n",
       "\n",
       "   SMISEDSUD  OWNERSHP  ...  T_CLIHI_X T_CLIML_D T_CLIML_O  T_CLIML_X  \\\n",
       "0          1         6  ...        NaN       NaN       NaN        1.0   \n",
       "1          1         2  ...        NaN       NaN       NaN        NaN   \n",
       "2          0         2  ...        NaN       NaN       1.0        NaN   \n",
       "\n",
       "   T_CLIOP_D  T_CLIOP_O  T_CLIOP_X  T_CLIRC_D  T_CLIRC_O  T_CLIRC_X  \n",
       "0        NaN        NaN        4.0        NaN        NaN        NaN  \n",
       "1        NaN        NaN        NaN        NaN        NaN        4.0  \n",
       "2        NaN        1.0        NaN        NaN        NaN        NaN  \n",
       "\n",
       "[3 rows x 265 columns]"
      ]
     },
     "execution_count": 47,
     "metadata": {},
     "output_type": "execute_result"
    }
   ],
   "source": [
    "df = pd.merge(mort_region_df, fac_df, on = \"STATE\", how = \"inner\") \n",
    "print(df.shape)\n",
    "df.head(3)"
   ]
  },
  {
   "cell_type": "markdown",
   "id": "83213c25-f49a-41ba-b9c5-1d0573506c29",
   "metadata": {},
   "source": [
    "### matplotlib.pyplot.pie(x, explode=None, labels=None, colors=None, autopct=None, pctdistance=0.6, shadow=False, labeldistance=1.1, startangle=None, radius=None, counterclock=True, wedgeprops=None, textprops=None, center=(0, 0), frame=False, rotatelabels=False, *, data=None)[source]\n"
   ]
  },
  {
   "cell_type": "code",
   "execution_count": null,
   "id": "69904bad-f818-4652-b276-acaf710621c5",
   "metadata": {},
   "outputs": [],
   "source": []
  },
  {
   "cell_type": "code",
   "execution_count": 48,
   "id": "41503f75-2ea5-490b-b241-2b37552fc89f",
   "metadata": {},
   "outputs": [
    {
     "data": {
      "text/plain": [
       "<AxesSubplot:ylabel='CASEID'>"
      ]
     },
     "execution_count": 48,
     "metadata": {},
     "output_type": "execute_result"
    },
    {
     "data": {
      "image/png": "[encoded data removed]",
      "text/plain": [
       "<Figure size 640x480 with 1 Axes>"
      ]
     },
     "metadata": {},
     "output_type": "display_data"
    }
   ],
   "source": [
    "N_groupby = df.groupby(['REGION'])['CASEID'].nunique()\n",
    "N_groupby\n",
    "N_groupby.plot.pie()"
   ]
  },
  {
   "cell_type": "markdown",
   "id": "dca1bbc2-abc7-45b2-adb2-c2f7c7894449",
   "metadata": {},
   "source": [
    "## OTP: Facility operates an opioid treatment program"
   ]
  },
  {
   "cell_type": "code",
   "execution_count": 19,
   "id": "eba37a9d-18a0-4cde-b266-98dbe0ee57c1",
   "metadata": {},
   "outputs": [
    {
     "data": {
      "text/plain": [
       "0    14208\n",
       "1     1747\n",
       "Name: OTP, dtype: int64"
      ]
     },
     "execution_count": 19,
     "metadata": {},
     "output_type": "execute_result"
    }
   ],
   "source": [
    "df.OTP.value_counts()"
   ]
  },
  {
   "cell_type": "markdown",
   "id": "b5ea3fda-3aa6-4efe-b705-3b23362f315f",
   "metadata": {},
   "source": [
    "### Where are these facilities?"
   ]
  },
  {
   "cell_type": "code",
   "execution_count": 35,
   "id": "ca15b1d3-d0cb-41d3-8d74-6e881cb76670",
   "metadata": {},
   "outputs": [
    {
     "data": {
      "text/plain": [
       "<AxesSubplot:xlabel='REGION'>"
      ]
     },
     "execution_count": 35,
     "metadata": {},
     "output_type": "execute_result"
    },
    {
     "data": {
      "image/png": "[encoded data removed]",
      "text/plain": [
       "<Figure size 600x400 with 1 Axes>"
      ]
     },
     "metadata": {},
     "output_type": "display_data"
    }
   ],
   "source": [
    "OTP_groupby = df.groupby(['REGION'])['OTP'].sum()\n",
    "OTP_groupby.plot.bar(color = 'blue', edgecolor = 'black', figsize = [6,4])"
   ]
  },
  {
   "cell_type": "code",
   "execution_count": 22,
   "id": "f22a5304-0a97-426e-8eec-a7e7b88fc28f",
   "metadata": {},
   "outputs": [
    {
     "data": {
      "text/plain": [
       "REGION\n",
       "Midwest       7.8\n",
       "Northeast    17.5\n",
       "South        12.2\n",
       "West          8.0\n",
       "dtype: float64"
      ]
     },
     "execution_count": 22,
     "metadata": {},
     "output_type": "execute_result"
    }
   ],
   "source": [
    "percent_OTP_region = 100*(OTP_groupby/N_groupby).round(3)\n",
    "percent_OTP_region"
   ]
  },
  {
   "cell_type": "code",
   "execution_count": 34,
   "id": "e65c6f14-79f1-40cd-913d-c9ab675c62a9",
   "metadata": {},
   "outputs": [
    {
     "data": {
      "text/plain": [
       "<AxesSubplot:xlabel='REGION'>"
      ]
     },
     "execution_count": 34,
     "metadata": {},
     "output_type": "execute_result"
    },
    {
     "data": {
      "image/png": "[encoded data removed]",
      "text/plain": [
       "<Figure size 600x400 with 1 Axes>"
      ]
     },
     "metadata": {},
     "output_type": "display_data"
    }
   ],
   "source": [
    "percent_OTP_region.plot.bar(color = 'orange', edgecolor = 'black', figsize = [6,4])"
   ]
  },
  {
   "cell_type": "code",
   "execution_count": 25,
   "id": "6383cbcc-18a8-48b1-bac8-7ca879404ef0",
   "metadata": {},
   "outputs": [
    {
     "data": {
      "text/plain": [
       "REGION\n",
       "Midwest      19.988679\n",
       "Northeast    25.105744\n",
       "South        20.531463\n",
       "West         16.193836\n",
       "Name: odMortRtAv, dtype: float64"
      ]
     },
     "execution_count": 25,
     "metadata": {},
     "output_type": "execute_result"
    }
   ],
   "source": [
    "odMortRtAv_groupby = df.groupby(['REGION'])['odMortRtAv'].mean()\n",
    "odMortRtAv_groupby"
   ]
  },
  {
   "cell_type": "code",
   "execution_count": 33,
   "id": "892fc876-a55c-4dda-8858-11b29fa5420f",
   "metadata": {},
   "outputs": [
    {
     "data": {
      "text/plain": [
       "<AxesSubplot:xlabel='REGION'>"
      ]
     },
     "execution_count": 33,
     "metadata": {},
     "output_type": "execute_result"
    },
    {
     "data": {
      "image/png": "[encoded data removed]",
      "text/plain": [
       "<Figure size 600x400 with 1 Axes>"
      ]
     },
     "metadata": {},
     "output_type": "display_data"
    }
   ],
   "source": [
    "odMortRtAv_groupby.plot.bar(color = 'red', edgecolor = 'black', figsize = [6,4])"
   ]
  },
  {
   "cell_type": "code",
   "execution_count": 50,
   "id": "62f9fe68-1b1c-472b-9d06-f25c25dec72e",
   "metadata": {},
   "outputs": [
    {
     "data": {
      "text/plain": [
       "REGION\n",
       "Midwest       7.8\n",
       "Northeast    17.5\n",
       "South        12.2\n",
       "West          8.0\n",
       "dtype: float64"
      ]
     },
     "execution_count": 50,
     "metadata": {},
     "output_type": "execute_result"
    }
   ],
   "source": [
    "percent_OTP_region"
   ]
  },
  {
   "cell_type": "code",
   "execution_count": 51,
   "id": "8c5bf3d7-e233-4d18-9363-24e0125fc56b",
   "metadata": {},
   "outputs": [
    {
     "data": {
      "text/plain": [
       "REGION\n",
       "Midwest      19.988679\n",
       "Northeast    25.105744\n",
       "South        20.531463\n",
       "West         16.193836\n",
       "Name: odMortRtAv, dtype: float64"
      ]
     },
     "execution_count": 51,
     "metadata": {},
     "output_type": "execute_result"
    }
   ],
   "source": [
    "odMortRtAv_groupby"
   ]
  },
  {
   "cell_type": "code",
   "execution_count": 53,
   "id": "3abdfa9d-d4ef-4882-9179-a5710f0ab4b1",
   "metadata": {},
   "outputs": [
    {
     "data": {
      "text/plain": [
       "<matplotlib.collections.PathCollection at 0x12626a46c40>"
      ]
     },
     "execution_count": 53,
     "metadata": {},
     "output_type": "execute_result"
    },
    {
     "data": {
      "image/png": "[encoded data removed]",
      "text/plain": [
       "<Figure size 640x480 with 1 Axes>"
      ]
     },
     "metadata": {},
     "output_type": "display_data"
    }
   ],
   "source": [
    "plt.scatter(x=percent_OTP_region, y=odMortRtAv_groupby)"
   ]
  },
  {
   "cell_type": "code",
   "execution_count": 54,
   "id": "9b115f34-b15a-4b19-8a81-4a619000d22d",
   "metadata": {},
   "outputs": [
    {
     "data": {
      "text/plain": [
       "0.89"
      ]
     },
     "execution_count": 54,
     "metadata": {},
     "output_type": "execute_result"
    }
   ],
   "source": [
    "res = sts.pearsonr(percent_OTP_region, odMortRtAv_groupby)\n",
    "correlation = res[0].round(2)\n",
    "correlation"
   ]
  },
  {
   "cell_type": "markdown",
   "id": "e8f6260e-6da1-4833-92cd-38c731a57e16",
   "metadata": {},
   "source": [
    "### Treatment Facility Quality (TFQ) - calulcated variable: aggregate measure of assessment, testing, transition, recovery, education, and pharmacotherapies services offereed by each treatment facility surveyed (equally weighted and standardized to scale of 0-10)"
   ]
  },
  {
   "cell_type": "code",
   "execution_count": 13,
   "id": "6f99cff6-b110-4b94-b761-dff016aef33b",
   "metadata": {},
   "outputs": [],
   "source": [
    "a = df.ASSESSMENT #(0-8)\n",
    "b = df.TESTING #(0-9)\n",
    "c = df.TRANSITION #(0-4)\n",
    "d = df.RECOVERY #(0-6)\n",
    "e = df.EDUCATION #(0-10)\n",
    "f = df.PHARMACOTHERAPIES #(0-16)"
   ]
  },
  {
   "cell_type": "markdown",
   "id": "62dcbe64-eb48-4d9e-985b-76fcf7cd9e13",
   "metadata": {},
   "source": [
    "### Standardize on a 0-10 scale using the max of each series "
   ]
  },
  {
   "cell_type": "code",
   "execution_count": 14,
   "id": "e992d438-ca56-4623-b83c-994e79851186",
   "metadata": {},
   "outputs": [],
   "source": [
    "TFQ_STANDARD_SCALE_MAX = 10\n",
    "\n",
    "def scale(raw_metric):\n",
    "    raw_max = raw_metric.max()\n",
    "    scaled_metric = raw_metric * (TFQ_STANDARD_SCALE_MAX / raw_max)\n",
    "    return scaled_metric"
   ]
  },
  {
   "cell_type": "code",
   "execution_count": 15,
   "id": "69e9a418-bcad-464f-9858-c0a82ac896fe",
   "metadata": {},
   "outputs": [
    {
     "data": {
      "text/plain": [
       "0         8.75\n",
       "1         6.25\n",
       "2         7.50\n",
       "3        10.00\n",
       "4         7.50\n",
       "         ...  \n",
       "15950     8.75\n",
       "15951     8.75\n",
       "15952     8.75\n",
       "15953     7.50\n",
       "15954     8.75\n",
       "Name: ASSESSMENT, Length: 15955, dtype: float64"
      ]
     },
     "execution_count": 15,
     "metadata": {},
     "output_type": "execute_result"
    }
   ],
   "source": [
    "scale(a)"
   ]
  },
  {
   "cell_type": "code",
   "execution_count": 16,
   "id": "73cf37ef-56bf-4816-9fe2-16a7d2e92dfa",
   "metadata": {},
   "outputs": [],
   "source": [
    "TFQ_RAW_DIMENSIONS = ['ASSESSMENT', 'TESTING', 'TRANSITION', 'RECOVERY', 'EDUCATION', 'PHARMACOTHERAPIES']\n",
    "\n",
    "for col in TFQ_RAW_DIMENSIONS:\n",
    "  df[col + '_SCALED'] = scale(df[col])"
   ]
  },
  {
   "cell_type": "code",
   "execution_count": 17,
   "id": "4fa46a3d-2434-480d-b551-a1b775615f7a",
   "metadata": {},
   "outputs": [],
   "source": [
    "TFQ_DIMENSIONS =  [col + '_SCALED' for col in TFQ_RAW_DIMENSIONS] #syntactic sugar"
   ]
  },
  {
   "cell_type": "code",
   "execution_count": 18,
   "id": "1ae86d7c-24a9-49f8-9a1e-af6c97ee30e1",
   "metadata": {},
   "outputs": [
    {
     "data": {
      "text/html": [
       "<div>\n",
       "<style scoped>\n",
       "    .dataframe tbody tr th:only-of-type {\n",
       "        vertical-align: middle;\n",
       "    }\n",
       "\n",
       "    .dataframe tbody tr th {\n",
       "        vertical-align: top;\n",
       "    }\n",
       "\n",
       "    .dataframe thead th {\n",
       "        text-align: right;\n",
       "    }\n",
       "</style>\n",
       "<table border=\"1\" class=\"dataframe\">\n",
       "  <thead>\n",
       "    <tr style=\"text-align: right;\">\n",
       "      <th></th>\n",
       "      <th>ASSESSMENT_SCALED</th>\n",
       "      <th>TESTING_SCALED</th>\n",
       "      <th>TRANSITION_SCALED</th>\n",
       "      <th>RECOVERY_SCALED</th>\n",
       "      <th>EDUCATION_SCALED</th>\n",
       "      <th>PHARMACOTHERAPIES_SCALED</th>\n",
       "    </tr>\n",
       "  </thead>\n",
       "  <tbody>\n",
       "    <tr>\n",
       "      <th>0</th>\n",
       "      <td>8.75</td>\n",
       "      <td>1.111111</td>\n",
       "      <td>7.5</td>\n",
       "      <td>6.666667</td>\n",
       "      <td>9.0</td>\n",
       "      <td>0.000</td>\n",
       "    </tr>\n",
       "    <tr>\n",
       "      <th>1</th>\n",
       "      <td>6.25</td>\n",
       "      <td>2.222222</td>\n",
       "      <td>7.5</td>\n",
       "      <td>10.000000</td>\n",
       "      <td>10.0</td>\n",
       "      <td>9.375</td>\n",
       "    </tr>\n",
       "    <tr>\n",
       "      <th>2</th>\n",
       "      <td>7.50</td>\n",
       "      <td>4.444444</td>\n",
       "      <td>7.5</td>\n",
       "      <td>5.000000</td>\n",
       "      <td>8.0</td>\n",
       "      <td>1.875</td>\n",
       "    </tr>\n",
       "    <tr>\n",
       "      <th>3</th>\n",
       "      <td>10.00</td>\n",
       "      <td>3.333333</td>\n",
       "      <td>10.0</td>\n",
       "      <td>6.666667</td>\n",
       "      <td>9.0</td>\n",
       "      <td>0.625</td>\n",
       "    </tr>\n",
       "    <tr>\n",
       "      <th>4</th>\n",
       "      <td>7.50</td>\n",
       "      <td>10.000000</td>\n",
       "      <td>10.0</td>\n",
       "      <td>6.666667</td>\n",
       "      <td>8.0</td>\n",
       "      <td>8.125</td>\n",
       "    </tr>\n",
       "    <tr>\n",
       "      <th>...</th>\n",
       "      <td>...</td>\n",
       "      <td>...</td>\n",
       "      <td>...</td>\n",
       "      <td>...</td>\n",
       "      <td>...</td>\n",
       "      <td>...</td>\n",
       "    </tr>\n",
       "    <tr>\n",
       "      <th>15950</th>\n",
       "      <td>8.75</td>\n",
       "      <td>1.111111</td>\n",
       "      <td>5.0</td>\n",
       "      <td>6.666667</td>\n",
       "      <td>7.0</td>\n",
       "      <td>0.625</td>\n",
       "    </tr>\n",
       "    <tr>\n",
       "      <th>15951</th>\n",
       "      <td>8.75</td>\n",
       "      <td>4.444444</td>\n",
       "      <td>7.5</td>\n",
       "      <td>8.333333</td>\n",
       "      <td>8.0</td>\n",
       "      <td>4.375</td>\n",
       "    </tr>\n",
       "    <tr>\n",
       "      <th>15952</th>\n",
       "      <td>8.75</td>\n",
       "      <td>2.222222</td>\n",
       "      <td>7.5</td>\n",
       "      <td>6.666667</td>\n",
       "      <td>9.0</td>\n",
       "      <td>3.750</td>\n",
       "    </tr>\n",
       "    <tr>\n",
       "      <th>15953</th>\n",
       "      <td>7.50</td>\n",
       "      <td>1.111111</td>\n",
       "      <td>7.5</td>\n",
       "      <td>6.666667</td>\n",
       "      <td>9.0</td>\n",
       "      <td>0.000</td>\n",
       "    </tr>\n",
       "    <tr>\n",
       "      <th>15954</th>\n",
       "      <td>8.75</td>\n",
       "      <td>2.222222</td>\n",
       "      <td>10.0</td>\n",
       "      <td>6.666667</td>\n",
       "      <td>5.0</td>\n",
       "      <td>2.500</td>\n",
       "    </tr>\n",
       "  </tbody>\n",
       "</table>\n",
       "<p>15955 rows × 6 columns</p>\n",
       "</div>"
      ],
      "text/plain": [
       "       ASSESSMENT_SCALED  TESTING_SCALED  TRANSITION_SCALED  RECOVERY_SCALED  \\\n",
       "0                   8.75        1.111111                7.5         6.666667   \n",
       "1                   6.25        2.222222                7.5        10.000000   \n",
       "2                   7.50        4.444444                7.5         5.000000   \n",
       "3                  10.00        3.333333               10.0         6.666667   \n",
       "4                   7.50       10.000000               10.0         6.666667   \n",
       "...                  ...             ...                ...              ...   \n",
       "15950               8.75        1.111111                5.0         6.666667   \n",
       "15951               8.75        4.444444                7.5         8.333333   \n",
       "15952               8.75        2.222222                7.5         6.666667   \n",
       "15953               7.50        1.111111                7.5         6.666667   \n",
       "15954               8.75        2.222222               10.0         6.666667   \n",
       "\n",
       "       EDUCATION_SCALED  PHARMACOTHERAPIES_SCALED  \n",
       "0                   9.0                     0.000  \n",
       "1                  10.0                     9.375  \n",
       "2                   8.0                     1.875  \n",
       "3                   9.0                     0.625  \n",
       "4                   8.0                     8.125  \n",
       "...                 ...                       ...  \n",
       "15950               7.0                     0.625  \n",
       "15951               8.0                     4.375  \n",
       "15952               9.0                     3.750  \n",
       "15953               9.0                     0.000  \n",
       "15954               5.0                     2.500  \n",
       "\n",
       "[15955 rows x 6 columns]"
      ]
     },
     "execution_count": 18,
     "metadata": {},
     "output_type": "execute_result"
    }
   ],
   "source": [
    "df[TFQ_DIMENSIONS]"
   ]
  },
  {
   "cell_type": "code",
   "execution_count": 19,
   "id": "637ae440-3f10-464d-b63e-dbcce21ce470",
   "metadata": {},
   "outputs": [
    {
     "data": {
      "text/plain": [
       "0        5.504630\n",
       "1        7.557870\n",
       "2        5.719907\n",
       "3        6.604167\n",
       "4        8.381944\n",
       "           ...   \n",
       "15950    4.858796\n",
       "15951    6.900463\n",
       "15952    6.314815\n",
       "15953    5.296296\n",
       "15954    5.856481\n",
       "Length: 15955, dtype: float64"
      ]
     },
     "execution_count": 19,
     "metadata": {},
     "output_type": "execute_result"
    }
   ],
   "source": [
    "df[TFQ_DIMENSIONS].mean(axis=1) #check this work after session"
   ]
  },
  {
   "cell_type": "code",
   "execution_count": 20,
   "id": "4e1507fa-ce92-487b-b709-3d86b437c606",
   "metadata": {},
   "outputs": [
    {
     "data": {
      "text/plain": [
       "count    15955.000000\n",
       "mean         5.517217\n",
       "std          1.726054\n",
       "min          0.208333\n",
       "25%          4.282407\n",
       "50%          5.555556\n",
       "75%          6.761574\n",
       "max         10.000000\n",
       "Name: TFQ, dtype: float64"
      ]
     },
     "execution_count": 20,
     "metadata": {},
     "output_type": "execute_result"
    }
   ],
   "source": [
    "df['TFQ'] = df[TFQ_DIMENSIONS].mean(axis=1)\n",
    "tfq = df.TFQ\n",
    "tfq.describe()"
   ]
  },
  {
   "cell_type": "code",
   "execution_count": 21,
   "id": "5fc7126e-dfb2-4a32-b773-4ac018908583",
   "metadata": {},
   "outputs": [
    {
     "data": {
      "image/png": "[encoded data removed]",
      "text/plain": [
       "<Figure size 640x480 with 1 Axes>"
      ]
     },
     "metadata": {},
     "output_type": "display_data"
    }
   ],
   "source": [
    "tfq.plot.hist(color = 'blue', edgecolor = 'black')\n",
    "plt.title(f\"Histogram of Treatment Facility Quality (TFQ) (N={len(df)})\")\n",
    "plt.xlabel(\"Treatment Facility Quality\")\n",
    "plt.show()"
   ]
  },
  {
   "cell_type": "markdown",
   "id": "b59062c2-8f61-4fa4-8b7d-c60811ec968a",
   "metadata": {},
   "source": [
    "### Perform a one-way ANOVA on TFQ here between Regions"
   ]
  },
  {
   "cell_type": "code",
   "execution_count": 24,
   "id": "403111c4-91ff-4626-9d40-6d7aef430788",
   "metadata": {},
   "outputs": [
    {
     "data": {
      "text/plain": [
       "<AxesSubplot:title={'center':'TFQ'}, xlabel='REGION'>"
      ]
     },
     "execution_count": 24,
     "metadata": {},
     "output_type": "execute_result"
    },
    {
     "data": {
      "image/png": "[encoded data removed]",
      "text/plain": [
       "<Figure size 1200x600 with 1 Axes>"
      ]
     },
     "metadata": {},
     "output_type": "display_data"
    }
   ],
   "source": [
    "df.boxplot(\"TFQ\", by=\"REGION\", figsize=(12, 6))"
   ]
  },
  {
   "cell_type": "code",
   "execution_count": 25,
   "id": "35f74c28-f713-4afb-a32b-992afd67f44e",
   "metadata": {},
   "outputs": [
    {
     "data": {
      "text/plain": [
       "F_onewayResult(statistic=87.28851287216956, pvalue=5.0985467232545895e-56)"
      ]
     },
     "execution_count": 25,
     "metadata": {},
     "output_type": "execute_result"
    }
   ],
   "source": [
    "WEST = df[df[\"REGION\"] == 'West']['TFQ']\n",
    "SOUTH = df[df[\"REGION\"] == 'South']['TFQ']\n",
    "NORTHEAST = df[df[\"REGION\"] == 'Northeast']['TFQ']\n",
    "MIDWEST = df[df[\"REGION\"] == 'Midwest']['TFQ']\n",
    "\n",
    "sts.f_oneway(WEST, SOUTH, NORTHEAST, MIDWEST)"
   ]
  },
  {
   "cell_type": "code",
   "execution_count": 28,
   "id": "ed6bdfd5-d8eb-4ee6-b768-6ba015029389",
   "metadata": {},
   "outputs": [
    {
     "data": {
      "text/html": [
       "<div>\n",
       "<style scoped>\n",
       "    .dataframe tbody tr th:only-of-type {\n",
       "        vertical-align: middle;\n",
       "    }\n",
       "\n",
       "    .dataframe tbody tr th {\n",
       "        vertical-align: top;\n",
       "    }\n",
       "\n",
       "    .dataframe thead th {\n",
       "        text-align: right;\n",
       "    }\n",
       "</style>\n",
       "<table border=\"1\" class=\"dataframe\">\n",
       "  <thead>\n",
       "    <tr style=\"text-align: right;\">\n",
       "      <th></th>\n",
       "      <th>B</th>\n",
       "      <th>mean(A)</th>\n",
       "      <th>mean(B)</th>\n",
       "      <th>diff</th>\n",
       "      <th>se</th>\n",
       "      <th>T</th>\n",
       "      <th>df</th>\n",
       "      <th>pval</th>\n",
       "      <th>hedges</th>\n",
       "    </tr>\n",
       "    <tr>\n",
       "      <th>A</th>\n",
       "      <th></th>\n",
       "      <th></th>\n",
       "      <th></th>\n",
       "      <th></th>\n",
       "      <th></th>\n",
       "      <th></th>\n",
       "      <th></th>\n",
       "      <th></th>\n",
       "      <th></th>\n",
       "    </tr>\n",
       "  </thead>\n",
       "  <tbody>\n",
       "    <tr>\n",
       "      <th>Midwest</th>\n",
       "      <td>Northeast</td>\n",
       "      <td>5.260597</td>\n",
       "      <td>5.932830</td>\n",
       "      <td>-0.672233</td>\n",
       "      <td>0.040638</td>\n",
       "      <td>-16.542106</td>\n",
       "      <td>6531.901702</td>\n",
       "      <td>0.000000e+00</td>\n",
       "      <td>-0.402218</td>\n",
       "    </tr>\n",
       "    <tr>\n",
       "      <th>Northeast</th>\n",
       "      <td>West</td>\n",
       "      <td>5.932830</td>\n",
       "      <td>5.479886</td>\n",
       "      <td>0.452944</td>\n",
       "      <td>0.039596</td>\n",
       "      <td>11.439043</td>\n",
       "      <td>6708.294141</td>\n",
       "      <td>0.000000e+00</td>\n",
       "      <td>0.266510</td>\n",
       "    </tr>\n",
       "    <tr>\n",
       "      <th>Northeast</th>\n",
       "      <td>South</td>\n",
       "      <td>5.932830</td>\n",
       "      <td>5.499285</td>\n",
       "      <td>0.433545</td>\n",
       "      <td>0.038681</td>\n",
       "      <td>11.208201</td>\n",
       "      <td>6595.687012</td>\n",
       "      <td>1.259770e-12</td>\n",
       "      <td>0.258181</td>\n",
       "    </tr>\n",
       "    <tr>\n",
       "      <th>Midwest</th>\n",
       "      <td>South</td>\n",
       "      <td>5.260597</td>\n",
       "      <td>5.499285</td>\n",
       "      <td>-0.238688</td>\n",
       "      <td>0.037487</td>\n",
       "      <td>-6.367182</td>\n",
       "      <td>8147.273715</td>\n",
       "      <td>1.218437e-09</td>\n",
       "      <td>-0.138498</td>\n",
       "    </tr>\n",
       "    <tr>\n",
       "      <th>Midwest</th>\n",
       "      <td>West</td>\n",
       "      <td>5.260597</td>\n",
       "      <td>5.479886</td>\n",
       "      <td>-0.219289</td>\n",
       "      <td>0.038431</td>\n",
       "      <td>-5.706068</td>\n",
       "      <td>8096.429189</td>\n",
       "      <td>7.171459e-08</td>\n",
       "      <td>-0.125826</td>\n",
       "    </tr>\n",
       "    <tr>\n",
       "      <th>South</th>\n",
       "      <td>West</td>\n",
       "      <td>5.499285</td>\n",
       "      <td>5.479886</td>\n",
       "      <td>0.019399</td>\n",
       "      <td>0.036356</td>\n",
       "      <td>0.533580</td>\n",
       "      <td>9131.380687</td>\n",
       "      <td>9.508992e-01</td>\n",
       "      <td>0.011137</td>\n",
       "    </tr>\n",
       "  </tbody>\n",
       "</table>\n",
       "</div>"
      ],
      "text/plain": [
       "                   B   mean(A)   mean(B)      diff        se          T  \\\n",
       "A                                                                         \n",
       "Midwest    Northeast  5.260597  5.932830 -0.672233  0.040638 -16.542106   \n",
       "Northeast       West  5.932830  5.479886  0.452944  0.039596  11.439043   \n",
       "Northeast      South  5.932830  5.499285  0.433545  0.038681  11.208201   \n",
       "Midwest        South  5.260597  5.499285 -0.238688  0.037487  -6.367182   \n",
       "Midwest         West  5.260597  5.479886 -0.219289  0.038431  -5.706068   \n",
       "South           West  5.499285  5.479886  0.019399  0.036356   0.533580   \n",
       "\n",
       "                    df          pval    hedges  \n",
       "A                                               \n",
       "Midwest    6531.901702  0.000000e+00 -0.402218  \n",
       "Northeast  6708.294141  0.000000e+00  0.266510  \n",
       "Northeast  6595.687012  1.259770e-12  0.258181  \n",
       "Midwest    8147.273715  1.218437e-09 -0.138498  \n",
       "Midwest    8096.429189  7.171459e-08 -0.125826  \n",
       "South      9131.380687  9.508992e-01  0.011137  "
      ]
     },
     "execution_count": 28,
     "metadata": {},
     "output_type": "execute_result"
    }
   ],
   "source": [
    "tfq_pairwise_gameshowell = pg.pairwise_gameshowell(data=df, dv=\"TFQ\", between=\"REGION\").sort_values(['pval'], ascending = True).set_index('A')\n",
    "tfq_pairwise_gameshowell"
   ]
  },
  {
   "cell_type": "code",
   "execution_count": 29,
   "id": "0d1f5306-0ff6-416d-a4f5-3e3ea001b2eb",
   "metadata": {},
   "outputs": [],
   "source": [
    "tfq_pairwise_gameshowell.to_csv(\"Results/TFQ_pairwise_ttest_results.csv\")"
   ]
  },
  {
   "cell_type": "code",
   "execution_count": 59,
   "id": "368b2e41-ee5e-4d87-b537-9dd2d28114e4",
   "metadata": {},
   "outputs": [
    {
     "data": {
      "text/plain": [
       "count    15955.000000\n",
       "mean        20.039247\n",
       "std          6.985984\n",
       "min          9.750000\n",
       "25%         14.880000\n",
       "50%         18.570000\n",
       "75%         23.070000\n",
       "max         48.520000\n",
       "Name: odMortRtAv, dtype: float64"
      ]
     },
     "execution_count": 59,
     "metadata": {},
     "output_type": "execute_result"
    }
   ],
   "source": [
    "omr = df['odMortRtAv']\n",
    "omr.describe()"
   ]
  },
  {
   "cell_type": "code",
   "execution_count": 60,
   "id": "0299eca8-1df1-46ff-b2da-447e623b2e32",
   "metadata": {},
   "outputs": [
    {
     "data": {
      "image/png": "[encoded data removed]",
      "text/plain": [
       "<Figure size 640x480 with 1 Axes>"
      ]
     },
     "metadata": {},
     "output_type": "display_data"
    }
   ],
   "source": [
    "omr.plot.hist(color = 'red', edgecolor = 'black')\n",
    "plt.title(f\"Histogram of Aggregate State Opioid Related Mortality Rate (per 100,000) (N={len(mort_df)})\", size = 9)\n",
    "plt.xlabel(\"Opioid Related Mortality Rate\")\n",
    "plt.show()"
   ]
  },
  {
   "cell_type": "code",
   "execution_count": 61,
   "id": "63d26fcd-ea9f-4b14-b1c7-481fd4e74c5d",
   "metadata": {},
   "outputs": [
    {
     "data": {
      "image/png": "[encoded data removed]",
      "text/plain": [
       "<Figure size 640x480 with 1 Axes>"
      ]
     },
     "metadata": {},
     "output_type": "display_data"
    }
   ],
   "source": [
    "a, b = np.polyfit(tfq, omr, 1)\n",
    "\n",
    "plt.scatter(tfq, omr, color = 'lightblue', edgecolor = 'darkblue')\n",
    "plt.plot(tfq, a*tfq+b, color = 'orange')\n",
    "plt.title(\"TFQ by OMR\")\n",
    "plt.xlabel(\"TFQ\")\n",
    "plt.ylabel(\"OMR\")\n",
    "plt.show()"
   ]
  },
  {
   "cell_type": "code",
   "execution_count": 62,
   "id": "957422ab-8203-4375-aaac-e1f7ac0766e0",
   "metadata": {},
   "outputs": [
    {
     "data": {
      "text/plain": [
       "0.79"
      ]
     },
     "execution_count": 62,
     "metadata": {},
     "output_type": "execute_result"
    }
   ],
   "source": [
    "# Percent of average OMR change for every 1 TFQ point\n",
    "round(a/omr.mean()*100,2)"
   ]
  },
  {
   "cell_type": "markdown",
   "id": "10f7df3b-9535-4345-aa09-e85a8d91feb7",
   "metadata": {},
   "source": [
    "### Aggregate by State"
   ]
  },
  {
   "cell_type": "code",
   "execution_count": 63,
   "id": "a336fbcc-c6a1-4596-bca3-39579f8bd456",
   "metadata": {},
   "outputs": [
    {
     "data": {
      "text/html": [
       "<div>\n",
       "<style scoped>\n",
       "    .dataframe tbody tr th:only-of-type {\n",
       "        vertical-align: middle;\n",
       "    }\n",
       "\n",
       "    .dataframe tbody tr th {\n",
       "        vertical-align: top;\n",
       "    }\n",
       "\n",
       "    .dataframe thead th {\n",
       "        text-align: right;\n",
       "    }\n",
       "</style>\n",
       "<table border=\"1\" class=\"dataframe\">\n",
       "  <thead>\n",
       "    <tr style=\"text-align: right;\">\n",
       "      <th></th>\n",
       "      <th>STATE</th>\n",
       "      <th>TFQ</th>\n",
       "    </tr>\n",
       "  </thead>\n",
       "  <tbody>\n",
       "    <tr>\n",
       "      <th>0</th>\n",
       "      <td>AK</td>\n",
       "      <td>5.700838</td>\n",
       "    </tr>\n",
       "    <tr>\n",
       "      <th>1</th>\n",
       "      <td>AL</td>\n",
       "      <td>5.414606</td>\n",
       "    </tr>\n",
       "  </tbody>\n",
       "</table>\n",
       "</div>"
      ],
      "text/plain": [
       "  STATE       TFQ\n",
       "0    AK  5.700838\n",
       "1    AL  5.414606"
      ]
     },
     "execution_count": 63,
     "metadata": {},
     "output_type": "execute_result"
    }
   ],
   "source": [
    "tfq_groupby = df.groupby('STATE')['TFQ'].mean()\n",
    "tfq_groupby_df = pd.DataFrame(tfq_groupby)\n",
    "df2 = tfq_groupby_df.reset_index()\n",
    "df2.head(2)"
   ]
  },
  {
   "cell_type": "code",
   "execution_count": 65,
   "id": "db8e5089-3286-40b3-ba22-923a33b10ceb",
   "metadata": {},
   "outputs": [
    {
     "name": "stdout",
     "output_type": "stream",
     "text": [
      "(51, 5)\n"
     ]
    },
    {
     "data": {
      "text/html": [
       "<div>\n",
       "<style scoped>\n",
       "    .dataframe tbody tr th:only-of-type {\n",
       "        vertical-align: middle;\n",
       "    }\n",
       "\n",
       "    .dataframe tbody tr th {\n",
       "        vertical-align: top;\n",
       "    }\n",
       "\n",
       "    .dataframe thead th {\n",
       "        text-align: right;\n",
       "    }\n",
       "</style>\n",
       "<table border=\"1\" class=\"dataframe\">\n",
       "  <thead>\n",
       "    <tr style=\"text-align: right;\">\n",
       "      <th></th>\n",
       "      <th>STATE</th>\n",
       "      <th>REGION</th>\n",
       "      <th>DIVISION</th>\n",
       "      <th>odMortRtAv</th>\n",
       "      <th>TFQ</th>\n",
       "    </tr>\n",
       "  </thead>\n",
       "  <tbody>\n",
       "    <tr>\n",
       "      <th>0</th>\n",
       "      <td>AK</td>\n",
       "      <td>West</td>\n",
       "      <td>Pacific</td>\n",
       "      <td>17.03</td>\n",
       "      <td>5.700838</td>\n",
       "    </tr>\n",
       "    <tr>\n",
       "      <th>1</th>\n",
       "      <td>AL</td>\n",
       "      <td>South</td>\n",
       "      <td>East South Central</td>\n",
       "      <td>16.33</td>\n",
       "      <td>5.414606</td>\n",
       "    </tr>\n",
       "    <tr>\n",
       "      <th>2</th>\n",
       "      <td>AR</td>\n",
       "      <td>South</td>\n",
       "      <td>West South Central</td>\n",
       "      <td>14.18</td>\n",
       "      <td>5.092457</td>\n",
       "    </tr>\n",
       "    <tr>\n",
       "      <th>3</th>\n",
       "      <td>AZ</td>\n",
       "      <td>West</td>\n",
       "      <td>Mountain</td>\n",
       "      <td>21.72</td>\n",
       "      <td>5.612644</td>\n",
       "    </tr>\n",
       "    <tr>\n",
       "      <th>4</th>\n",
       "      <td>CA</td>\n",
       "      <td>West</td>\n",
       "      <td>Pacific</td>\n",
       "      <td>12.18</td>\n",
       "      <td>5.683144</td>\n",
       "    </tr>\n",
       "  </tbody>\n",
       "</table>\n",
       "</div>"
      ],
      "text/plain": [
       "  STATE REGION            DIVISION  odMortRtAv       TFQ\n",
       "0    AK   West             Pacific       17.03  5.700838\n",
       "1    AL  South  East South Central       16.33  5.414606\n",
       "2    AR  South  West South Central       14.18  5.092457\n",
       "3    AZ   West            Mountain       21.72  5.612644\n",
       "4    CA   West             Pacific       12.18  5.683144"
      ]
     },
     "execution_count": 65,
     "metadata": {},
     "output_type": "execute_result"
    }
   ],
   "source": [
    "df3 = pd.merge(mort_region_df, df2, on = \"STATE\", how = \"inner\")\n",
    "print(df3.shape)\n",
    "df3.head()"
   ]
  },
  {
   "cell_type": "markdown",
   "id": "cb01df87-a49f-4c6a-89b2-975da2d01ebc",
   "metadata": {},
   "source": [
    "### Plot TFQ by OMR adding a line of best fit"
   ]
  },
  {
   "cell_type": "code",
   "execution_count": 68,
   "id": "b4acbc5e-8b8a-4b1a-ad1b-7d3ebc66b7b3",
   "metadata": {},
   "outputs": [
    {
     "data": {
      "image/png": "[encoded data removed]",
      "text/plain": [
       "<Figure size 640x480 with 1 Axes>"
      ]
     },
     "metadata": {},
     "output_type": "display_data"
    }
   ],
   "source": [
    "x = df3.TFQ\n",
    "y = df3.odMortRtAv\n",
    "\n",
    "a, b = np.polyfit(x, y, 1)\n",
    "\n",
    "res = sts.pearsonr(x, y)\n",
    "correlation = res[0].round(2)\n",
    "\n",
    "plt.scatter(x, y, color = 'purple', edgecolor = 'black')\n",
    "plt.plot(x, a*x+b, color = 'yellow')\n",
    "plt.title(\"State Average TFQ by State Average OMR\")\n",
    "plt.xlabel(\"TFQ\")\n",
    "plt.ylabel(\"OMR\")\n",
    "plt.show()"
   ]
  },
  {
   "cell_type": "markdown",
   "id": "3516c8ef-a8a9-4724-86ff-8d5c60ae8287",
   "metadata": {},
   "source": [
    "### Plot TFQ by OMR adding a line of best fit"
   ]
  },
  {
   "cell_type": "code",
   "execution_count": 69,
   "id": "409f28d7-05ad-423a-a65c-90bc7ef31564",
   "metadata": {},
   "outputs": [
    {
     "name": "stdout",
     "output_type": "stream",
     "text": [
      "R-squared: 0.137493\n"
     ]
    }
   ],
   "source": [
    "x = df3.TFQ\n",
    "y = df3.odMortRtAv\n",
    "res = sts.linregress(x, y)\n",
    "print(f\"R-squared: {res.rvalue**2:.6f}\")"
   ]
  },
  {
   "cell_type": "code",
   "execution_count": 70,
   "id": "b8a27876-87ab-4cca-8343-2e641b3a1b4a",
   "metadata": {},
   "outputs": [
    {
     "data": {
      "image/png": "[encoded data removed]",
      "text/plain": [
       "<Figure size 640x480 with 1 Axes>"
      ]
     },
     "metadata": {},
     "output_type": "display_data"
    }
   ],
   "source": [
    "plt.scatter(x, y, color = 'purple', edgecolor = 'black', label='Original Data')\n",
    "plt.plot(x, res.intercept + res.slope*x, 'darkgreen', label='Fitted Line')\n",
    "plt.title(\"State Average TFQ by State Average OMR\")\n",
    "plt.xlabel(\"TFQ\")\n",
    "plt.ylabel(\"OMR\")\n",
    "plt.show()"
   ]
  },
  {
   "cell_type": "markdown",
   "id": "f61faa50-4287-49f7-8297-4f0d8adf7022",
   "metadata": {},
   "source": [
    "### Note: Block out states by region of country to control for regional factors"
   ]
  },
  {
   "cell_type": "code",
   "execution_count": 71,
   "id": "1398346b-ee92-4e7d-80d0-b1aa55eba682",
   "metadata": {},
   "outputs": [
    {
     "data": {
      "image/png": "[encoded data removed]",
      "text/plain": [
       "<Figure size 1787.12x400 with 4 Axes>"
      ]
     },
     "metadata": {},
     "output_type": "display_data"
    }
   ],
   "source": [
    "res = sts.linregress(df3.TFQ, df3.odMortRtAv)\n",
    "# Form a facetgrid using columns with a hue\n",
    "graph = seaborn.FacetGrid(df3, col =\"REGION\",  hue =\"DIVISION\", height = 4)\n",
    "# map the above form facetgrid with some attributes\n",
    "graph.map(plt.scatter, \"TFQ\", \"odMortRtAv\", edgecolor =\"w\").add_legend()\n",
    "# show the object\n",
    "plt.show()"
   ]
  },
  {
   "cell_type": "code",
   "execution_count": 73,
   "id": "268f69ad-1eee-4d57-9d1c-eaa88dc56f1b",
   "metadata": {},
   "outputs": [
    {
     "data": {
      "text/plain": [
       "{'West': LinregressResult(slope=4.2943662673512355, intercept=-5.521522284413507, rvalue=0.4636697740604558, pvalue=0.11051035310700184, stderr=2.474182000638377, intercept_stderr=13.381049068057122),\n",
       " 'South': LinregressResult(slope=11.709494880223083, intercept=-43.633413936882896, rvalue=0.3932564953265708, pvalue=0.11837471659179431, stderr=7.068621594328721, intercept_stderr=39.4508562684062),\n",
       " 'Northeast': LinregressResult(slope=-5.984649595849862, intercept=60.894294475971165, rvalue=-0.5986104806655508, pvalue=0.08855341702141366, stderr=3.0269115684189085, intercept_stderr=17.52583653060862),\n",
       " 'Midwest': LinregressResult(slope=12.233344955095541, intercept=-45.960689658658055, rvalue=0.630452774378319, pvalue=0.027967085675054175, stderr=4.7630127823804695, intercept_stderr=24.639197539857147)}"
      ]
     },
     "execution_count": 73,
     "metadata": {},
     "output_type": "execute_result"
    }
   ],
   "source": [
    "regions = list(df3.REGION.unique())\n",
    "statistics = {}\n",
    "for region in regions:\n",
    "    subset = df3.loc[df3['REGION'] == region]\n",
    "    result = sts.linregress(subset.TFQ, subset.odMortRtAv)\n",
    "    statistics[region] = result\n",
    "statistics"
   ]
  },
  {
   "cell_type": "markdown",
   "id": "2d2db028-56cf-461c-bf07-4154ecfcd2df",
   "metadata": {},
   "source": [
    "# Notes from Turoting Session:\n",
    "### 1. ANOVA on TFQ\n",
    "### 2. ANOVA on Mortality Rate\n",
    "### 3. Machine Learning: Regression on Individual Paramters --> Feature Importance\n",
    "### 4. Multi-Variate Linear Regression --> TFQ might crumble because some parameters don't matter\n",
    "### 5. Feature Importance! (Direction worth researching) --> which dimensions really matter "
   ]
  },
  {
   "cell_type": "code",
   "execution_count": 74,
   "id": "90275770-8b3b-4c42-bd8f-5d68e2b73b88",
   "metadata": {},
   "outputs": [
    {
     "data": {
      "text/plain": [
       "<seaborn.axisgrid.FacetGrid at 0x1c763197370>"
      ]
     },
     "execution_count": 74,
     "metadata": {},
     "output_type": "execute_result"
    },
    {
     "data": {
      "image/png": "[encoded data removed]",
      "text/plain": [
       "<Figure size 800x800 with 4 Axes>"
      ]
     },
     "metadata": {},
     "output_type": "display_data"
    }
   ],
   "source": [
    "seaborn.set_theme(style=\"ticks\")\n",
    "seaborn.lmplot(\n",
    "    data=df3, x=\"TFQ\", y=\"odMortRtAv\", col=\"REGION\", hue=\"REGION\",\n",
    "    col_wrap=2, palette=\"muted\", ci=None,\n",
    "    height=4, scatter_kws={\"s\": 50, \"alpha\": 1}\n",
    ")"
   ]
  },
  {
   "cell_type": "markdown",
   "id": "7d44ad25-de2e-4d49-b131-dc5ff84212f9",
   "metadata": {},
   "source": [
    "# Binning"
   ]
  },
  {
   "cell_type": "code",
   "execution_count": null,
   "id": "1d5a8193-8599-4353-a0c8-9e1c7895f9bd",
   "metadata": {},
   "outputs": [],
   "source": [
    "tfq_groupby.plot.hist(figsize=[5,5],color='purple',edgecolor='black')\n",
    "plt.show()"
   ]
  },
  {
   "cell_type": "code",
   "execution_count": 53,
   "id": "786f047a-4baf-4ebe-a443-b44bad72b729",
   "metadata": {},
   "outputs": [
    {
     "data": {
      "text/plain": [
       "C    4179\n",
       "B    4063\n",
       "D    3976\n",
       "A    3737\n",
       "Name: TFQ_BIN, dtype: int64"
      ]
     },
     "execution_count": 53,
     "metadata": {},
     "output_type": "execute_result"
    }
   ],
   "source": [
    "tfq_bins = [0, 22, 29, 35.5, 52]\n",
    "tfq_bin_names = [\"D\", \"C\", \"B\", \"A\"]\n",
    "\n",
    "df['TFQ_BIN'] = pd.cut(df['TFQ'], tfq_bins, labels=tfq_bin_names, include_lowest=True)\n",
    "df.TFQ_BIN.value_counts()"
   ]
  },
  {
   "cell_type": "code",
   "execution_count": 50,
   "id": "4ac73a88-ae67-46f1-baa2-fbf0a1107058",
   "metadata": {},
   "outputs": [
    {
     "data": {
      "text/plain": [
       "<AxesSubplot:ylabel='Frequency'>"
      ]
     },
     "execution_count": 50,
     "metadata": {},
     "output_type": "execute_result"
    },
    {
     "data": {
      "image/png": "[encoded data removed]",
      "text/plain": [
       "<Figure size 500x500 with 1 Axes>"
      ]
     },
     "metadata": {},
     "output_type": "display_data"
    }
   ],
   "source": [
    "tfq_groupby = df.groupby('STATE')['TFQ'].median()\n",
    "tfq_groupby.plot.hist(figsize=[5,5],color='blue',edgecolor='black')"
   ]
  }
 ],
 "metadata": {
  "kernelspec": {
   "display_name": "Python 3 (ipykernel)",
   "language": "python",
   "name": "python3"
  },
  "language_info": {
   "codemirror_mode": {
    "name": "ipython",
    "version": 3
   },
   "file_extension": ".py",
   "mimetype": "text/x-python",
   "name": "python",
   "nbconvert_exporter": "python",
   "pygments_lexer": "ipython3",
   "version": "3.9.13"
  }
 },
 "nbformat": 4,
 "nbformat_minor": 5
}
