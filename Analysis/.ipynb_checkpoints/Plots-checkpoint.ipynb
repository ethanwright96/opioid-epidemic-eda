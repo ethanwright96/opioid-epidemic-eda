{
 "cells": [
  {
   "cell_type": "markdown",
   "id": "6773b82f-f2fa-4f2f-a8b3-db1c643e422c",
   "metadata": {},
   "source": [
    "### Layered Histogram https://matplotlib.org/stable/gallery/lines_bars_and_markers/filled_step.html#sphx-glr-gallery-lines-bars-and-markers-filled-step-py"
   ]
  },
  {
   "cell_type": "code",
   "execution_count": null,
   "id": "1c67a1be-67e9-4713-bb02-c18aa4b3b5d4",
   "metadata": {},
   "outputs": [],
   "source": [
    "fig, (ax1, ax2) = plt.subplots(1, 2, figsize=(9, 4.5), tight_layout=True)\n",
    "arts = stack_hist(ax1, stack_data, color_cycle + label_cycle + hatch_cycle,\n",
    "                  hist_func=hist_func)\n",
    "\n",
    "arts = stack_hist(ax2, stack_data, color_cycle,\n",
    "                  hist_func=hist_func,\n",
    "                  plot_kwargs=dict(edgecolor='w', orientation='h'))\n",
    "ax1.set_ylabel('counts')\n",
    "ax1.set_xlabel('x')\n",
    "ax2.set_xlabel('counts')\n",
    "ax2.set_ylabel('x')"
   ]
  },
  {
   "cell_type": "markdown",
   "id": "4d050d65-de64-4737-893a-de9730d33d5b",
   "metadata": {},
   "source": [
    "### Scatter Histogram "
   ]
  },
  {
   "cell_type": "code",
   "execution_count": null,
   "id": "792b6bc3-c337-41e8-bdbe-9f4b08dd0f04",
   "metadata": {},
   "outputs": [],
   "source": [
    "# Start with a square Figure.\n",
    "fig = plt.figure(figsize=(6, 6))\n",
    "# Add a gridspec with two rows and two columns and a ratio of 1 to 4 between\n",
    "# the size of the marginal axes and the main axes in both directions.\n",
    "# Also adjust the subplot parameters for a square plot.\n",
    "gs = fig.add_gridspec(2, 2,  width_ratios=(4, 1), height_ratios=(1, 4),\n",
    "                      left=0.1, right=0.9, bottom=0.1, top=0.9,\n",
    "                      wspace=0.05, hspace=0.05)\n",
    "# Create the Axes.\n",
    "ax = fig.add_subplot(gs[1, 0])\n",
    "ax_histx = fig.add_subplot(gs[0, 0], sharex=ax)\n",
    "ax_histy = fig.add_subplot(gs[1, 1], sharey=ax)\n",
    "# Draw the scatter plot and marginals.\n",
    "scatter_hist(x, y, ax, ax_histx, ax_histy)"
   ]
  },
  {
   "cell_type": "markdown",
   "id": "f586c292-a0f2-46b9-91ad-c4fc6ef14ec7",
   "metadata": {},
   "source": [
    "### Seaborn Scatter"
   ]
  },
  {
   "cell_type": "code",
   "execution_count": null,
   "id": "315a0f65-31de-4fe5-a55c-479c1a65d3d4",
   "metadata": {},
   "outputs": [],
   "source": [
    "import seaborn as sns\n",
    "sns.set_theme(style=\"white\")\n",
    "\n",
    "# Load the example mpg dataset\n",
    "mpg = sns.load_dataset(\"mpg\")\n",
    "\n",
    "# Plot miles per gallon against horsepower with other semantics\n",
    "sns.relplot(x=\"horsepower\", y=\"mpg\", hue=\"origin\", size=\"weight\",\n",
    "            sizes=(40, 400), alpha=.5, palette=\"muted\",\n",
    "            height=6, data=mpg)"
   ]
  },
  {
   "cell_type": "markdown",
   "id": "ce1fec91-0d24-46e7-a192-81aea18efe2d",
   "metadata": {},
   "source": [
    "### Scatterplot Matrix https://seaborn.pydata.org/examples/scatterplot_matrix.html"
   ]
  },
  {
   "cell_type": "code",
   "execution_count": null,
   "id": "05819072-19c5-4628-863a-f15982a8c3da",
   "metadata": {},
   "outputs": [],
   "source": [
    "import seaborn as sns\n",
    "sns.set_theme(style=\"ticks\")\n",
    "\n",
    "df = sns.load_dataset(\"penguins\")\n",
    "sns.pairplot(df, hue=\"species\")"
   ]
  },
  {
   "cell_type": "markdown",
   "id": "86bb653e-83e9-4157-9faf-995f1ec89b5a",
   "metadata": {},
   "source": [
    "### Horizontal Boxplot"
   ]
  },
  {
   "cell_type": "code",
   "execution_count": null,
   "id": "f568e7ff-8169-4c0d-a3d4-422a5577de19",
   "metadata": {},
   "outputs": [],
   "source": [
    "import seaborn as sns\n",
    "import matplotlib.pyplot as plt\n",
    "\n",
    "sns.set_theme(style=\"ticks\")\n",
    "\n",
    "# Initialize the figure with a logarithmic x axis\n",
    "f, ax = plt.subplots(figsize=(7, 6))\n",
    "ax.set_xscale(\"log\")\n",
    "\n",
    "# Load the example planets dataset\n",
    "planets = sns.load_dataset(\"planets\")\n",
    "\n",
    "# Plot the orbital period with horizontal boxes\n",
    "sns.boxplot(x=\"distance\", y=\"method\", data=planets,\n",
    "            whis=[0, 100], width=.6, palette=\"vlag\")\n",
    "\n",
    "# Add in points to show each observation\n",
    "sns.stripplot(x=\"distance\", y=\"method\", data=planets,\n",
    "              size=4, color=\".3\", linewidth=0)\n",
    "\n",
    "# Tweak the visual presentation\n",
    "ax.xaxis.grid(True)\n",
    "ax.set(ylabel=\"\")\n",
    "sns.despine(trim=True, left=True)"
   ]
  }
 ],
 "metadata": {
  "kernelspec": {
   "display_name": "Python 3 (ipykernel)",
   "language": "python",
   "name": "python3"
  },
  "language_info": {
   "codemirror_mode": {
    "name": "ipython",
    "version": 3
   },
   "file_extension": ".py",
   "mimetype": "text/x-python",
   "name": "python",
   "nbconvert_exporter": "python",
   "pygments_lexer": "ipython3",
   "version": "3.9.13"
  }
 },
 "nbformat": 4,
 "nbformat_minor": 5
}
